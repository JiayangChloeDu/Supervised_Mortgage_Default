{
 "cells": [
  {
   "cell_type": "markdown",
   "metadata": {},
   "source": [
    "### Supervised Machine Learning Techniques Assignment I"
   ]
  },
  {
   "cell_type": "markdown",
   "metadata": {},
   "source": [
    "### Mortgage Default Risk & Fraud Detection"
   ]
  },
  {
   "cell_type": "markdown",
   "metadata": {},
   "source": [
    "### Author: Chloe Du (jd3631)"
   ]
  },
  {
   "cell_type": "markdown",
   "metadata": {},
   "source": [
    "#### Part 1: Review the data"
   ]
  },
  {
   "cell_type": "code",
   "execution_count": 1,
   "metadata": {},
   "outputs": [],
   "source": [
    "#import necessary libraries\n",
    "import numpy as np \n",
    "import pandas as pd\n",
    "\n",
    "from scipy import stats  #for some statistics\n",
    "from scipy.stats import norm, skew\n",
    "\n",
    "import matplotlib.pyplot as plt\n",
    "import seaborn as sns\n",
    "color = sns.color_palette()\n",
    "sns.set_style('darkgrid')\n",
    "%matplotlib inline\n",
    "\n",
    "import warnings \n",
    "def ignore_warn(*args, **kwargs):\n",
    "    pass\n",
    "warnings.warn = ignore_warn  #ignore warnings (from sklearn and seaborn)"
   ]
  },
  {
   "cell_type": "markdown",
   "metadata": {},
   "source": [
    "There are 80,000 distinct mortgage loan applicants and there are 89 different features.\n",
    "\n",
    "There are many missing data in the whole dataset. We will deal with these missing values later.\n",
    "\n",
    "The most common operation used when applying for loan is h5, and the most comman mobile brand used is web.\n",
    "\n",
    "The target value is loan_default. This indicates if a client will default mortage loan in the future. As the value 0 for default payment means not default and value 1 means default, the mean of 0.1936 means that there are 19.36% of mortgage loan contracts that will default (will verify this in the next sections of this analysis).\n",
    "\n",
    "We will explore in more detail the data in the following section."
   ]
  },
  {
   "cell_type": "code",
   "execution_count": 2,
   "metadata": {
    "scrolled": true
   },
   "outputs": [
    {
     "data": {
      "text/html": [
       "<div>\n",
       "<style scoped>\n",
       "    .dataframe tbody tr th:only-of-type {\n",
       "        vertical-align: middle;\n",
       "    }\n",
       "\n",
       "    .dataframe tbody tr th {\n",
       "        vertical-align: top;\n",
       "    }\n",
       "\n",
       "    .dataframe thead th {\n",
       "        text-align: right;\n",
       "    }\n",
       "</style>\n",
       "<table border=\"1\" class=\"dataframe\">\n",
       "  <thead>\n",
       "    <tr style=\"text-align: right;\">\n",
       "      <th></th>\n",
       "      <th>Unnamed: 0</th>\n",
       "      <th>Unnamed: 0.1</th>\n",
       "      <th>id</th>\n",
       "      <th>loan_default</th>\n",
       "      <th>AP001</th>\n",
       "      <th>AP002</th>\n",
       "      <th>AP003</th>\n",
       "      <th>AP004</th>\n",
       "      <th>AP005</th>\n",
       "      <th>AP006</th>\n",
       "      <th>...</th>\n",
       "      <th>CD162</th>\n",
       "      <th>CD164</th>\n",
       "      <th>CD166</th>\n",
       "      <th>CD167</th>\n",
       "      <th>CD169</th>\n",
       "      <th>CD170</th>\n",
       "      <th>CD172</th>\n",
       "      <th>CD173</th>\n",
       "      <th>MB005</th>\n",
       "      <th>MB007</th>\n",
       "    </tr>\n",
       "  </thead>\n",
       "  <tbody>\n",
       "    <tr>\n",
       "      <td>0</td>\n",
       "      <td>0</td>\n",
       "      <td>1</td>\n",
       "      <td>1</td>\n",
       "      <td>1</td>\n",
       "      <td>31</td>\n",
       "      <td>2</td>\n",
       "      <td>1</td>\n",
       "      <td>12</td>\n",
       "      <td>2017/7/6 10:21</td>\n",
       "      <td>ios</td>\n",
       "      <td>...</td>\n",
       "      <td>13.0</td>\n",
       "      <td>13.0</td>\n",
       "      <td>0.0</td>\n",
       "      <td>0.0</td>\n",
       "      <td>1449.0</td>\n",
       "      <td>1449.0</td>\n",
       "      <td>2249.0</td>\n",
       "      <td>2249.0</td>\n",
       "      <td>7.0</td>\n",
       "      <td>IPHONE7</td>\n",
       "    </tr>\n",
       "    <tr>\n",
       "      <td>1</td>\n",
       "      <td>1</td>\n",
       "      <td>2</td>\n",
       "      <td>2</td>\n",
       "      <td>0</td>\n",
       "      <td>27</td>\n",
       "      <td>1</td>\n",
       "      <td>1</td>\n",
       "      <td>12</td>\n",
       "      <td>2017/4/6 12:51</td>\n",
       "      <td>h5</td>\n",
       "      <td>...</td>\n",
       "      <td>-99.0</td>\n",
       "      <td>-99.0</td>\n",
       "      <td>-99.0</td>\n",
       "      <td>-99.0</td>\n",
       "      <td>-99.0</td>\n",
       "      <td>-99.0</td>\n",
       "      <td>-99.0</td>\n",
       "      <td>-99.0</td>\n",
       "      <td>NaN</td>\n",
       "      <td>WEB</td>\n",
       "    </tr>\n",
       "    <tr>\n",
       "      <td>2</td>\n",
       "      <td>2</td>\n",
       "      <td>3</td>\n",
       "      <td>3</td>\n",
       "      <td>0</td>\n",
       "      <td>33</td>\n",
       "      <td>1</td>\n",
       "      <td>4</td>\n",
       "      <td>12</td>\n",
       "      <td>2017/7/1 14:11</td>\n",
       "      <td>h5</td>\n",
       "      <td>...</td>\n",
       "      <td>3.0</td>\n",
       "      <td>2.0</td>\n",
       "      <td>33.0</td>\n",
       "      <td>0.0</td>\n",
       "      <td>33.0</td>\n",
       "      <td>0.0</td>\n",
       "      <td>143.0</td>\n",
       "      <td>110.0</td>\n",
       "      <td>8.0</td>\n",
       "      <td>WEB</td>\n",
       "    </tr>\n",
       "    <tr>\n",
       "      <td>3</td>\n",
       "      <td>3</td>\n",
       "      <td>4</td>\n",
       "      <td>4</td>\n",
       "      <td>0</td>\n",
       "      <td>34</td>\n",
       "      <td>2</td>\n",
       "      <td>4</td>\n",
       "      <td>12</td>\n",
       "      <td>2017/7/7 10:10</td>\n",
       "      <td>android</td>\n",
       "      <td>...</td>\n",
       "      <td>0.0</td>\n",
       "      <td>0.0</td>\n",
       "      <td>0.0</td>\n",
       "      <td>0.0</td>\n",
       "      <td>0.0</td>\n",
       "      <td>0.0</td>\n",
       "      <td>0.0</td>\n",
       "      <td>0.0</td>\n",
       "      <td>10.0</td>\n",
       "      <td>OPPO</td>\n",
       "    </tr>\n",
       "    <tr>\n",
       "      <td>4</td>\n",
       "      <td>4</td>\n",
       "      <td>5</td>\n",
       "      <td>5</td>\n",
       "      <td>0</td>\n",
       "      <td>47</td>\n",
       "      <td>2</td>\n",
       "      <td>1</td>\n",
       "      <td>12</td>\n",
       "      <td>2017/7/6 14:37</td>\n",
       "      <td>h5</td>\n",
       "      <td>...</td>\n",
       "      <td>-99.0</td>\n",
       "      <td>-99.0</td>\n",
       "      <td>-99.0</td>\n",
       "      <td>-99.0</td>\n",
       "      <td>-99.0</td>\n",
       "      <td>-99.0</td>\n",
       "      <td>-99.0</td>\n",
       "      <td>-99.0</td>\n",
       "      <td>NaN</td>\n",
       "      <td>WEB</td>\n",
       "    </tr>\n",
       "  </tbody>\n",
       "</table>\n",
       "<p>5 rows × 89 columns</p>\n",
       "</div>"
      ],
      "text/plain": [
       "   Unnamed: 0  Unnamed: 0.1  id  loan_default  AP001  AP002  AP003  AP004  \\\n",
       "0           0             1   1             1     31      2      1     12   \n",
       "1           1             2   2             0     27      1      1     12   \n",
       "2           2             3   3             0     33      1      4     12   \n",
       "3           3             4   4             0     34      2      4     12   \n",
       "4           4             5   5             0     47      2      1     12   \n",
       "\n",
       "            AP005    AP006  ...  CD162  CD164  CD166  CD167   CD169   CD170  \\\n",
       "0  2017/7/6 10:21      ios  ...   13.0   13.0    0.0    0.0  1449.0  1449.0   \n",
       "1  2017/4/6 12:51       h5  ...  -99.0  -99.0  -99.0  -99.0   -99.0   -99.0   \n",
       "2  2017/7/1 14:11       h5  ...    3.0    2.0   33.0    0.0    33.0     0.0   \n",
       "3  2017/7/7 10:10  android  ...    0.0    0.0    0.0    0.0     0.0     0.0   \n",
       "4  2017/7/6 14:37       h5  ...  -99.0  -99.0  -99.0  -99.0   -99.0   -99.0   \n",
       "\n",
       "    CD172   CD173  MB005    MB007  \n",
       "0  2249.0  2249.0    7.0  IPHONE7  \n",
       "1   -99.0   -99.0    NaN      WEB  \n",
       "2   143.0   110.0    8.0      WEB  \n",
       "3     0.0     0.0   10.0     OPPO  \n",
       "4   -99.0   -99.0    NaN      WEB  \n",
       "\n",
       "[5 rows x 89 columns]"
      ]
     },
     "execution_count": 2,
     "metadata": {},
     "output_type": "execute_result"
    }
   ],
   "source": [
    "# Now to import and put the dataset \n",
    "df = pd.read_csv(\"/Users/jiayangdu/Desktop/Columbia University /APAN 5420/XYZloan_default_selected_vars.csv\")\n",
    "df.head()"
   ]
  },
  {
   "cell_type": "code",
   "execution_count": 3,
   "metadata": {},
   "outputs": [],
   "source": [
    "##adjust the varibles, drop meaningless variables\n",
    "df.drop(['Unnamed: 0','Unnamed: 0.1'],axis=1,inplace=True)"
   ]
  },
  {
   "cell_type": "code",
   "execution_count": 4,
   "metadata": {
    "scrolled": true
   },
   "outputs": [
    {
     "name": "stdout",
     "output_type": "stream",
     "text": [
      "<class 'pandas.core.frame.DataFrame'>\n",
      "RangeIndex: 80000 entries, 0 to 79999\n",
      "Data columns (total 87 columns):\n",
      "id              80000 non-null object\n",
      "loan_default    80000 non-null int64\n",
      "AP001           80000 non-null int64\n",
      "AP002           80000 non-null int64\n",
      "AP003           80000 non-null int64\n",
      "AP004           80000 non-null int64\n",
      "AP005           80000 non-null datetime64[ns]\n",
      "AP006           80000 non-null object\n",
      "AP007           80000 non-null int64\n",
      "AP008           80000 non-null int64\n",
      "AP009           80000 non-null int64\n",
      "TD001           80000 non-null int64\n",
      "TD002           80000 non-null int64\n",
      "TD005           80000 non-null int64\n",
      "TD006           80000 non-null int64\n",
      "TD009           80000 non-null int64\n",
      "TD010           80000 non-null int64\n",
      "TD013           80000 non-null int64\n",
      "TD014           80000 non-null int64\n",
      "TD015           80000 non-null int64\n",
      "TD022           60402 non-null float64\n",
      "TD023           72337 non-null float64\n",
      "TD024           76306 non-null float64\n",
      "TD025           77450 non-null float64\n",
      "TD026           78154 non-null float64\n",
      "TD027           78303 non-null float64\n",
      "TD028           78364 non-null float64\n",
      "TD029           78370 non-null float64\n",
      "TD044           3 non-null float64\n",
      "TD048           1 non-null float64\n",
      "TD051           5 non-null float64\n",
      "TD054           12 non-null float64\n",
      "TD055           1 non-null float64\n",
      "TD061           10 non-null float64\n",
      "TD062           1 non-null float64\n",
      "CR004           80000 non-null int64\n",
      "CR005           80000 non-null int64\n",
      "CR009           80000 non-null int64\n",
      "CR012           80000 non-null int64\n",
      "CR015           80000 non-null int64\n",
      "CR017           80000 non-null int64\n",
      "CR018           80000 non-null int64\n",
      "CR019           80000 non-null int64\n",
      "PA022           79619 non-null float64\n",
      "PA023           79619 non-null float64\n",
      "PA028           79619 non-null float64\n",
      "PA029           79619 non-null float64\n",
      "PA030           79619 non-null float64\n",
      "PA031           79619 non-null float64\n",
      "CD008           79619 non-null float64\n",
      "CD018           79619 non-null float64\n",
      "CD071           79619 non-null float64\n",
      "CD072           79619 non-null float64\n",
      "CD088           79619 non-null float64\n",
      "CD100           79619 non-null float64\n",
      "CD101           79619 non-null float64\n",
      "CD106           79619 non-null float64\n",
      "CD107           79619 non-null float64\n",
      "CD108           79619 non-null float64\n",
      "CD113           79619 non-null float64\n",
      "CD114           79619 non-null float64\n",
      "CD115           79619 non-null float64\n",
      "CD117           79619 non-null float64\n",
      "CD118           79619 non-null float64\n",
      "CD120           79619 non-null float64\n",
      "CD121           79619 non-null float64\n",
      "CD123           79619 non-null float64\n",
      "CD130           79619 non-null float64\n",
      "CD131           79619 non-null float64\n",
      "CD132           79619 non-null float64\n",
      "CD133           79619 non-null float64\n",
      "CD135           79619 non-null float64\n",
      "CD136           79619 non-null float64\n",
      "CD137           79619 non-null float64\n",
      "CD152           79619 non-null float64\n",
      "CD153           79619 non-null float64\n",
      "CD160           79619 non-null float64\n",
      "CD162           79619 non-null float64\n",
      "CD164           79619 non-null float64\n",
      "CD166           79619 non-null float64\n",
      "CD167           79619 non-null float64\n",
      "CD169           79619 non-null float64\n",
      "CD170           79619 non-null float64\n",
      "CD172           79619 non-null float64\n",
      "CD173           79619 non-null float64\n",
      "MB005           77207 non-null float64\n",
      "MB007           80000 non-null object\n",
      "dtypes: datetime64[ns](1), float64(58), int64(25), object(3)\n",
      "memory usage: 53.1+ MB\n"
     ]
    }
   ],
   "source": [
    "#id has no meaning of value, so we convert it to categorical variables\n",
    "df['id'] = df['id'].apply(lambda x:str(x))\n",
    "#AP005 represents the datetime, so we need to convert it to datetime type\n",
    "df['AP005'] = pd.to_datetime(df['AP005'])\n",
    "\n",
    "df.info()\n",
    "#there are some missing values "
   ]
  },
  {
   "cell_type": "code",
   "execution_count": 5,
   "metadata": {},
   "outputs": [],
   "source": [
    "#replace -1,-99,-98,-999 to na, since these two strange values may be systematic default value\n",
    "df.replace(-99.0,' ',inplace=True)\n",
    "df.replace(-99,' ',inplace=True)\n",
    "df.replace(-98.0,' ',inplace=True)\n",
    "df.replace(-98,' ',inplace=True)\n",
    "df.replace(-999,' ',inplace=True)\n",
    "df.replace(-99.0,' ',inplace=True)\n",
    "df.replace(-1,' ',inplace=True)"
   ]
  },
  {
   "cell_type": "code",
   "execution_count": 6,
   "metadata": {},
   "outputs": [
    {
     "data": {
      "text/html": [
       "<div>\n",
       "<style scoped>\n",
       "    .dataframe tbody tr th:only-of-type {\n",
       "        vertical-align: middle;\n",
       "    }\n",
       "\n",
       "    .dataframe tbody tr th {\n",
       "        vertical-align: top;\n",
       "    }\n",
       "\n",
       "    .dataframe thead th {\n",
       "        text-align: right;\n",
       "    }\n",
       "</style>\n",
       "<table border=\"1\" class=\"dataframe\">\n",
       "  <thead>\n",
       "    <tr style=\"text-align: right;\">\n",
       "      <th></th>\n",
       "      <th>id</th>\n",
       "      <th>loan_default</th>\n",
       "      <th>AP001</th>\n",
       "      <th>AP002</th>\n",
       "      <th>AP003</th>\n",
       "      <th>AP004</th>\n",
       "      <th>AP005</th>\n",
       "      <th>AP006</th>\n",
       "      <th>AP007</th>\n",
       "      <th>AP008</th>\n",
       "      <th>...</th>\n",
       "      <th>CD162</th>\n",
       "      <th>CD164</th>\n",
       "      <th>CD166</th>\n",
       "      <th>CD167</th>\n",
       "      <th>CD169</th>\n",
       "      <th>CD170</th>\n",
       "      <th>CD172</th>\n",
       "      <th>CD173</th>\n",
       "      <th>MB005</th>\n",
       "      <th>MB007</th>\n",
       "    </tr>\n",
       "  </thead>\n",
       "  <tbody>\n",
       "    <tr>\n",
       "      <td>0</td>\n",
       "      <td>1</td>\n",
       "      <td>1</td>\n",
       "      <td>31</td>\n",
       "      <td>2</td>\n",
       "      <td>1</td>\n",
       "      <td>12</td>\n",
       "      <td>2017-07-06 10:21:00</td>\n",
       "      <td>ios</td>\n",
       "      <td>3</td>\n",
       "      <td>3</td>\n",
       "      <td>...</td>\n",
       "      <td>13</td>\n",
       "      <td>13</td>\n",
       "      <td>0</td>\n",
       "      <td>0</td>\n",
       "      <td>1449</td>\n",
       "      <td>1449</td>\n",
       "      <td>2249</td>\n",
       "      <td>2249</td>\n",
       "      <td>7.0</td>\n",
       "      <td>IPHONE7</td>\n",
       "    </tr>\n",
       "    <tr>\n",
       "      <td>1</td>\n",
       "      <td>2</td>\n",
       "      <td>0</td>\n",
       "      <td>27</td>\n",
       "      <td>1</td>\n",
       "      <td>1</td>\n",
       "      <td>12</td>\n",
       "      <td>2017-04-06 12:51:00</td>\n",
       "      <td>h5</td>\n",
       "      <td>5</td>\n",
       "      <td>4</td>\n",
       "      <td>...</td>\n",
       "      <td></td>\n",
       "      <td></td>\n",
       "      <td></td>\n",
       "      <td></td>\n",
       "      <td></td>\n",
       "      <td></td>\n",
       "      <td></td>\n",
       "      <td></td>\n",
       "      <td>NaN</td>\n",
       "      <td>WEB</td>\n",
       "    </tr>\n",
       "    <tr>\n",
       "      <td>2</td>\n",
       "      <td>3</td>\n",
       "      <td>0</td>\n",
       "      <td>33</td>\n",
       "      <td>1</td>\n",
       "      <td>4</td>\n",
       "      <td>12</td>\n",
       "      <td>2017-07-01 14:11:00</td>\n",
       "      <td>h5</td>\n",
       "      <td>4</td>\n",
       "      <td>2</td>\n",
       "      <td>...</td>\n",
       "      <td>3</td>\n",
       "      <td>2</td>\n",
       "      <td>33</td>\n",
       "      <td>0</td>\n",
       "      <td>33</td>\n",
       "      <td>0</td>\n",
       "      <td>143</td>\n",
       "      <td>110</td>\n",
       "      <td>8.0</td>\n",
       "      <td>WEB</td>\n",
       "    </tr>\n",
       "    <tr>\n",
       "      <td>3</td>\n",
       "      <td>4</td>\n",
       "      <td>0</td>\n",
       "      <td>34</td>\n",
       "      <td>2</td>\n",
       "      <td>4</td>\n",
       "      <td>12</td>\n",
       "      <td>2017-07-07 10:10:00</td>\n",
       "      <td>android</td>\n",
       "      <td>5</td>\n",
       "      <td>5</td>\n",
       "      <td>...</td>\n",
       "      <td>0</td>\n",
       "      <td>0</td>\n",
       "      <td>0</td>\n",
       "      <td>0</td>\n",
       "      <td>0</td>\n",
       "      <td>0</td>\n",
       "      <td>0</td>\n",
       "      <td>0</td>\n",
       "      <td>10.0</td>\n",
       "      <td>OPPO</td>\n",
       "    </tr>\n",
       "    <tr>\n",
       "      <td>4</td>\n",
       "      <td>5</td>\n",
       "      <td>0</td>\n",
       "      <td>47</td>\n",
       "      <td>2</td>\n",
       "      <td>1</td>\n",
       "      <td>12</td>\n",
       "      <td>2017-07-06 14:37:00</td>\n",
       "      <td>h5</td>\n",
       "      <td>4</td>\n",
       "      <td>4</td>\n",
       "      <td>...</td>\n",
       "      <td></td>\n",
       "      <td></td>\n",
       "      <td></td>\n",
       "      <td></td>\n",
       "      <td></td>\n",
       "      <td></td>\n",
       "      <td></td>\n",
       "      <td></td>\n",
       "      <td>NaN</td>\n",
       "      <td>WEB</td>\n",
       "    </tr>\n",
       "  </tbody>\n",
       "</table>\n",
       "<p>5 rows × 87 columns</p>\n",
       "</div>"
      ],
      "text/plain": [
       "  id  loan_default  AP001  AP002  AP003  AP004               AP005    AP006  \\\n",
       "0  1             1     31      2      1     12 2017-07-06 10:21:00      ios   \n",
       "1  2             0     27      1      1     12 2017-04-06 12:51:00       h5   \n",
       "2  3             0     33      1      4     12 2017-07-01 14:11:00       h5   \n",
       "3  4             0     34      2      4     12 2017-07-07 10:10:00  android   \n",
       "4  5             0     47      2      1     12 2017-07-06 14:37:00       h5   \n",
       "\n",
       "   AP007  AP008  ...  CD162  CD164  CD166  CD167  CD169  CD170  CD172  CD173  \\\n",
       "0      3      3  ...     13     13      0      0   1449   1449   2249   2249   \n",
       "1      5      4  ...                                                           \n",
       "2      4      2  ...      3      2     33      0     33      0    143    110   \n",
       "3      5      5  ...      0      0      0      0      0      0      0      0   \n",
       "4      4      4  ...                                                           \n",
       "\n",
       "   MB005    MB007  \n",
       "0    7.0  IPHONE7  \n",
       "1    NaN      WEB  \n",
       "2    8.0      WEB  \n",
       "3   10.0     OPPO  \n",
       "4    NaN      WEB  \n",
       "\n",
       "[5 rows x 87 columns]"
      ]
     },
     "execution_count": 6,
     "metadata": {},
     "output_type": "execute_result"
    }
   ],
   "source": [
    "df.head() #missing values have been successfully replaced"
   ]
  },
  {
   "cell_type": "code",
   "execution_count": 7,
   "metadata": {},
   "outputs": [
    {
     "data": {
      "text/html": [
       "<div>\n",
       "<style scoped>\n",
       "    .dataframe tbody tr th:only-of-type {\n",
       "        vertical-align: middle;\n",
       "    }\n",
       "\n",
       "    .dataframe tbody tr th {\n",
       "        vertical-align: top;\n",
       "    }\n",
       "\n",
       "    .dataframe thead th {\n",
       "        text-align: right;\n",
       "    }\n",
       "</style>\n",
       "<table border=\"1\" class=\"dataframe\">\n",
       "  <thead>\n",
       "    <tr style=\"text-align: right;\">\n",
       "      <th></th>\n",
       "      <th>Total</th>\n",
       "      <th>Percent</th>\n",
       "    </tr>\n",
       "  </thead>\n",
       "  <tbody>\n",
       "    <tr>\n",
       "      <td>TD055</td>\n",
       "      <td>79999</td>\n",
       "      <td>0.999988</td>\n",
       "    </tr>\n",
       "    <tr>\n",
       "      <td>TD062</td>\n",
       "      <td>79999</td>\n",
       "      <td>0.999988</td>\n",
       "    </tr>\n",
       "    <tr>\n",
       "      <td>TD048</td>\n",
       "      <td>79999</td>\n",
       "      <td>0.999988</td>\n",
       "    </tr>\n",
       "    <tr>\n",
       "      <td>TD044</td>\n",
       "      <td>79997</td>\n",
       "      <td>0.999962</td>\n",
       "    </tr>\n",
       "    <tr>\n",
       "      <td>TD051</td>\n",
       "      <td>79995</td>\n",
       "      <td>0.999938</td>\n",
       "    </tr>\n",
       "    <tr>\n",
       "      <td>TD061</td>\n",
       "      <td>79990</td>\n",
       "      <td>0.999875</td>\n",
       "    </tr>\n",
       "    <tr>\n",
       "      <td>TD054</td>\n",
       "      <td>79988</td>\n",
       "      <td>0.999850</td>\n",
       "    </tr>\n",
       "    <tr>\n",
       "      <td>TD022</td>\n",
       "      <td>19598</td>\n",
       "      <td>0.244975</td>\n",
       "    </tr>\n",
       "    <tr>\n",
       "      <td>TD023</td>\n",
       "      <td>7663</td>\n",
       "      <td>0.095787</td>\n",
       "    </tr>\n",
       "    <tr>\n",
       "      <td>TD024</td>\n",
       "      <td>3694</td>\n",
       "      <td>0.046175</td>\n",
       "    </tr>\n",
       "    <tr>\n",
       "      <td>MB005</td>\n",
       "      <td>2793</td>\n",
       "      <td>0.034912</td>\n",
       "    </tr>\n",
       "    <tr>\n",
       "      <td>TD025</td>\n",
       "      <td>2550</td>\n",
       "      <td>0.031875</td>\n",
       "    </tr>\n",
       "    <tr>\n",
       "      <td>TD026</td>\n",
       "      <td>1846</td>\n",
       "      <td>0.023075</td>\n",
       "    </tr>\n",
       "    <tr>\n",
       "      <td>TD027</td>\n",
       "      <td>1697</td>\n",
       "      <td>0.021212</td>\n",
       "    </tr>\n",
       "    <tr>\n",
       "      <td>TD028</td>\n",
       "      <td>1636</td>\n",
       "      <td>0.020450</td>\n",
       "    </tr>\n",
       "    <tr>\n",
       "      <td>TD029</td>\n",
       "      <td>1630</td>\n",
       "      <td>0.020375</td>\n",
       "    </tr>\n",
       "    <tr>\n",
       "      <td>PA031</td>\n",
       "      <td>381</td>\n",
       "      <td>0.004763</td>\n",
       "    </tr>\n",
       "    <tr>\n",
       "      <td>CD100</td>\n",
       "      <td>381</td>\n",
       "      <td>0.004763</td>\n",
       "    </tr>\n",
       "    <tr>\n",
       "      <td>CD088</td>\n",
       "      <td>381</td>\n",
       "      <td>0.004763</td>\n",
       "    </tr>\n",
       "    <tr>\n",
       "      <td>CD072</td>\n",
       "      <td>381</td>\n",
       "      <td>0.004763</td>\n",
       "    </tr>\n",
       "  </tbody>\n",
       "</table>\n",
       "</div>"
      ],
      "text/plain": [
       "       Total   Percent\n",
       "TD055  79999  0.999988\n",
       "TD062  79999  0.999988\n",
       "TD048  79999  0.999988\n",
       "TD044  79997  0.999962\n",
       "TD051  79995  0.999938\n",
       "TD061  79990  0.999875\n",
       "TD054  79988  0.999850\n",
       "TD022  19598  0.244975\n",
       "TD023   7663  0.095787\n",
       "TD024   3694  0.046175\n",
       "MB005   2793  0.034912\n",
       "TD025   2550  0.031875\n",
       "TD026   1846  0.023075\n",
       "TD027   1697  0.021212\n",
       "TD028   1636  0.020450\n",
       "TD029   1630  0.020375\n",
       "PA031    381  0.004763\n",
       "CD100    381  0.004763\n",
       "CD088    381  0.004763\n",
       "CD072    381  0.004763"
      ]
     },
     "execution_count": 7,
     "metadata": {},
     "output_type": "execute_result"
    }
   ],
   "source": [
    "#missing values\n",
    "total = df.isnull().sum().sort_values(ascending=False)\n",
    "percent = (df.isnull().sum()/df.isnull().count()).sort_values(ascending=False)\n",
    "missing_data = pd.concat([total, percent], axis=1, keys=['Total', 'Percent'])\n",
    "missing_data.head(20)"
   ]
  },
  {
   "cell_type": "code",
   "execution_count": 8,
   "metadata": {},
   "outputs": [],
   "source": [
    "#from the above dataframe, we can see that there are some variables missing almost 100% values\n",
    "#therefore, i will drop those variables which lose up to 99% values\n",
    "df.drop(['TD055','TD062','TD048','TD044','TD051','TD061','TD054'],axis=1,inplace=True)\n",
    "# for other columns containing missing values, we do not need to deal with them\n",
    "# since in the following steps, we will bin some variables and missing values will be regarded as their own categories\n",
    "# the tree-based algorithms will capture the information from nah values"
   ]
  },
  {
   "cell_type": "code",
   "execution_count": 9,
   "metadata": {},
   "outputs": [
    {
     "data": {
      "text/html": [
       "<div>\n",
       "<style scoped>\n",
       "    .dataframe tbody tr th:only-of-type {\n",
       "        vertical-align: middle;\n",
       "    }\n",
       "\n",
       "    .dataframe tbody tr th {\n",
       "        vertical-align: top;\n",
       "    }\n",
       "\n",
       "    .dataframe thead th {\n",
       "        text-align: right;\n",
       "    }\n",
       "</style>\n",
       "<table border=\"1\" class=\"dataframe\">\n",
       "  <thead>\n",
       "    <tr style=\"text-align: right;\">\n",
       "      <th></th>\n",
       "      <th>loan_default</th>\n",
       "      <th>AP001</th>\n",
       "      <th>AP002</th>\n",
       "      <th>AP003</th>\n",
       "      <th>AP004</th>\n",
       "      <th>AP007</th>\n",
       "      <th>AP008</th>\n",
       "      <th>AP009</th>\n",
       "      <th>TD001</th>\n",
       "      <th>TD002</th>\n",
       "      <th>...</th>\n",
       "      <th>TD029</th>\n",
       "      <th>CR004</th>\n",
       "      <th>CR005</th>\n",
       "      <th>CR009</th>\n",
       "      <th>CR012</th>\n",
       "      <th>CR015</th>\n",
       "      <th>CR017</th>\n",
       "      <th>CR018</th>\n",
       "      <th>CR019</th>\n",
       "      <th>MB005</th>\n",
       "    </tr>\n",
       "  </thead>\n",
       "  <tbody>\n",
       "    <tr>\n",
       "      <td>count</td>\n",
       "      <td>80000.000000</td>\n",
       "      <td>80000.000000</td>\n",
       "      <td>80000.000000</td>\n",
       "      <td>80000.000000</td>\n",
       "      <td>80000.000000</td>\n",
       "      <td>80000.00000</td>\n",
       "      <td>80000.000000</td>\n",
       "      <td>80000.000000</td>\n",
       "      <td>80000.000000</td>\n",
       "      <td>80000.000000</td>\n",
       "      <td>...</td>\n",
       "      <td>78370.0</td>\n",
       "      <td>80000.000000</td>\n",
       "      <td>80000.000000</td>\n",
       "      <td>8.000000e+04</td>\n",
       "      <td>80000.0</td>\n",
       "      <td>80000.000000</td>\n",
       "      <td>80000.000000</td>\n",
       "      <td>80000.000000</td>\n",
       "      <td>80000.000000</td>\n",
       "      <td>77207.000000</td>\n",
       "    </tr>\n",
       "    <tr>\n",
       "      <td>mean</td>\n",
       "      <td>0.193600</td>\n",
       "      <td>31.706913</td>\n",
       "      <td>1.321813</td>\n",
       "      <td>2.014925</td>\n",
       "      <td>11.235413</td>\n",
       "      <td>3.30130</td>\n",
       "      <td>3.117200</td>\n",
       "      <td>0.727925</td>\n",
       "      <td>1.986962</td>\n",
       "      <td>0.706213</td>\n",
       "      <td>...</td>\n",
       "      <td>6.0</td>\n",
       "      <td>2.503450</td>\n",
       "      <td>1.595638</td>\n",
       "      <td>3.518711e+04</td>\n",
       "      <td>0.0</td>\n",
       "      <td>4.924750</td>\n",
       "      <td>5.234962</td>\n",
       "      <td>4.361112</td>\n",
       "      <td>6.199038</td>\n",
       "      <td>5.976272</td>\n",
       "    </tr>\n",
       "    <tr>\n",
       "      <td>std</td>\n",
       "      <td>0.395121</td>\n",
       "      <td>7.075070</td>\n",
       "      <td>0.467174</td>\n",
       "      <td>1.196806</td>\n",
       "      <td>2.212313</td>\n",
       "      <td>1.33655</td>\n",
       "      <td>1.306335</td>\n",
       "      <td>0.445031</td>\n",
       "      <td>1.807445</td>\n",
       "      <td>0.918347</td>\n",
       "      <td>...</td>\n",
       "      <td>0.0</td>\n",
       "      <td>1.117991</td>\n",
       "      <td>1.083602</td>\n",
       "      <td>6.359684e+04</td>\n",
       "      <td>0.0</td>\n",
       "      <td>1.094305</td>\n",
       "      <td>2.398870</td>\n",
       "      <td>2.498607</td>\n",
       "      <td>3.359354</td>\n",
       "      <td>3.641814</td>\n",
       "    </tr>\n",
       "    <tr>\n",
       "      <td>min</td>\n",
       "      <td>0.000000</td>\n",
       "      <td>20.000000</td>\n",
       "      <td>1.000000</td>\n",
       "      <td>1.000000</td>\n",
       "      <td>3.000000</td>\n",
       "      <td>1.00000</td>\n",
       "      <td>1.000000</td>\n",
       "      <td>0.000000</td>\n",
       "      <td>0.000000</td>\n",
       "      <td>0.000000</td>\n",
       "      <td>...</td>\n",
       "      <td>6.0</td>\n",
       "      <td>1.000000</td>\n",
       "      <td>1.000000</td>\n",
       "      <td>0.000000e+00</td>\n",
       "      <td>0.0</td>\n",
       "      <td>2.000000</td>\n",
       "      <td>1.000000</td>\n",
       "      <td>0.000000</td>\n",
       "      <td>1.000000</td>\n",
       "      <td>0.000000</td>\n",
       "    </tr>\n",
       "    <tr>\n",
       "      <td>25%</td>\n",
       "      <td>0.000000</td>\n",
       "      <td>27.000000</td>\n",
       "      <td>1.000000</td>\n",
       "      <td>1.000000</td>\n",
       "      <td>12.000000</td>\n",
       "      <td>2.00000</td>\n",
       "      <td>2.000000</td>\n",
       "      <td>0.000000</td>\n",
       "      <td>1.000000</td>\n",
       "      <td>0.000000</td>\n",
       "      <td>...</td>\n",
       "      <td>6.0</td>\n",
       "      <td>2.000000</td>\n",
       "      <td>1.000000</td>\n",
       "      <td>4.700000e+03</td>\n",
       "      <td>0.0</td>\n",
       "      <td>5.000000</td>\n",
       "      <td>3.000000</td>\n",
       "      <td>2.000000</td>\n",
       "      <td>3.000000</td>\n",
       "      <td>3.000000</td>\n",
       "    </tr>\n",
       "    <tr>\n",
       "      <td>50%</td>\n",
       "      <td>0.000000</td>\n",
       "      <td>30.000000</td>\n",
       "      <td>1.000000</td>\n",
       "      <td>1.000000</td>\n",
       "      <td>12.000000</td>\n",
       "      <td>3.00000</td>\n",
       "      <td>3.000000</td>\n",
       "      <td>1.000000</td>\n",
       "      <td>2.000000</td>\n",
       "      <td>0.000000</td>\n",
       "      <td>...</td>\n",
       "      <td>6.0</td>\n",
       "      <td>2.000000</td>\n",
       "      <td>1.000000</td>\n",
       "      <td>1.728500e+04</td>\n",
       "      <td>0.0</td>\n",
       "      <td>5.000000</td>\n",
       "      <td>6.000000</td>\n",
       "      <td>4.000000</td>\n",
       "      <td>5.000000</td>\n",
       "      <td>5.000000</td>\n",
       "    </tr>\n",
       "    <tr>\n",
       "      <td>75%</td>\n",
       "      <td>0.000000</td>\n",
       "      <td>35.000000</td>\n",
       "      <td>2.000000</td>\n",
       "      <td>3.000000</td>\n",
       "      <td>12.000000</td>\n",
       "      <td>5.00000</td>\n",
       "      <td>4.000000</td>\n",
       "      <td>1.000000</td>\n",
       "      <td>3.000000</td>\n",
       "      <td>1.000000</td>\n",
       "      <td>...</td>\n",
       "      <td>6.0</td>\n",
       "      <td>4.000000</td>\n",
       "      <td>2.000000</td>\n",
       "      <td>4.075000e+04</td>\n",
       "      <td>0.0</td>\n",
       "      <td>6.000000</td>\n",
       "      <td>8.000000</td>\n",
       "      <td>7.000000</td>\n",
       "      <td>10.000000</td>\n",
       "      <td>8.000000</td>\n",
       "    </tr>\n",
       "    <tr>\n",
       "      <td>max</td>\n",
       "      <td>1.000000</td>\n",
       "      <td>56.000000</td>\n",
       "      <td>2.000000</td>\n",
       "      <td>6.000000</td>\n",
       "      <td>12.000000</td>\n",
       "      <td>5.00000</td>\n",
       "      <td>5.000000</td>\n",
       "      <td>1.000000</td>\n",
       "      <td>20.000000</td>\n",
       "      <td>11.000000</td>\n",
       "      <td>...</td>\n",
       "      <td>6.0</td>\n",
       "      <td>4.000000</td>\n",
       "      <td>6.000000</td>\n",
       "      <td>1.420300e+06</td>\n",
       "      <td>0.0</td>\n",
       "      <td>6.000000</td>\n",
       "      <td>8.000000</td>\n",
       "      <td>8.000000</td>\n",
       "      <td>12.000000</td>\n",
       "      <td>47.000000</td>\n",
       "    </tr>\n",
       "  </tbody>\n",
       "</table>\n",
       "<p>8 rows × 34 columns</p>\n",
       "</div>"
      ],
      "text/plain": [
       "       loan_default         AP001         AP002         AP003         AP004  \\\n",
       "count  80000.000000  80000.000000  80000.000000  80000.000000  80000.000000   \n",
       "mean       0.193600     31.706913      1.321813      2.014925     11.235413   \n",
       "std        0.395121      7.075070      0.467174      1.196806      2.212313   \n",
       "min        0.000000     20.000000      1.000000      1.000000      3.000000   \n",
       "25%        0.000000     27.000000      1.000000      1.000000     12.000000   \n",
       "50%        0.000000     30.000000      1.000000      1.000000     12.000000   \n",
       "75%        0.000000     35.000000      2.000000      3.000000     12.000000   \n",
       "max        1.000000     56.000000      2.000000      6.000000     12.000000   \n",
       "\n",
       "             AP007         AP008         AP009         TD001         TD002  \\\n",
       "count  80000.00000  80000.000000  80000.000000  80000.000000  80000.000000   \n",
       "mean       3.30130      3.117200      0.727925      1.986962      0.706213   \n",
       "std        1.33655      1.306335      0.445031      1.807445      0.918347   \n",
       "min        1.00000      1.000000      0.000000      0.000000      0.000000   \n",
       "25%        2.00000      2.000000      0.000000      1.000000      0.000000   \n",
       "50%        3.00000      3.000000      1.000000      2.000000      0.000000   \n",
       "75%        5.00000      4.000000      1.000000      3.000000      1.000000   \n",
       "max        5.00000      5.000000      1.000000     20.000000     11.000000   \n",
       "\n",
       "       ...    TD029         CR004         CR005         CR009    CR012  \\\n",
       "count  ...  78370.0  80000.000000  80000.000000  8.000000e+04  80000.0   \n",
       "mean   ...      6.0      2.503450      1.595638  3.518711e+04      0.0   \n",
       "std    ...      0.0      1.117991      1.083602  6.359684e+04      0.0   \n",
       "min    ...      6.0      1.000000      1.000000  0.000000e+00      0.0   \n",
       "25%    ...      6.0      2.000000      1.000000  4.700000e+03      0.0   \n",
       "50%    ...      6.0      2.000000      1.000000  1.728500e+04      0.0   \n",
       "75%    ...      6.0      4.000000      2.000000  4.075000e+04      0.0   \n",
       "max    ...      6.0      4.000000      6.000000  1.420300e+06      0.0   \n",
       "\n",
       "              CR015         CR017         CR018         CR019         MB005  \n",
       "count  80000.000000  80000.000000  80000.000000  80000.000000  77207.000000  \n",
       "mean       4.924750      5.234962      4.361112      6.199038      5.976272  \n",
       "std        1.094305      2.398870      2.498607      3.359354      3.641814  \n",
       "min        2.000000      1.000000      0.000000      1.000000      0.000000  \n",
       "25%        5.000000      3.000000      2.000000      3.000000      3.000000  \n",
       "50%        5.000000      6.000000      4.000000      5.000000      5.000000  \n",
       "75%        6.000000      8.000000      7.000000     10.000000      8.000000  \n",
       "max        6.000000      8.000000      8.000000     12.000000     47.000000  \n",
       "\n",
       "[8 rows x 34 columns]"
      ]
     },
     "execution_count": 9,
     "metadata": {},
     "output_type": "execute_result"
    }
   ],
   "source": [
    "#get statistics info about numerical variables\n",
    "df.describe()"
   ]
  },
  {
   "cell_type": "code",
   "execution_count": 10,
   "metadata": {},
   "outputs": [
    {
     "data": {
      "text/html": [
       "<div>\n",
       "<style scoped>\n",
       "    .dataframe tbody tr th:only-of-type {\n",
       "        vertical-align: middle;\n",
       "    }\n",
       "\n",
       "    .dataframe tbody tr th {\n",
       "        vertical-align: top;\n",
       "    }\n",
       "\n",
       "    .dataframe thead th {\n",
       "        text-align: right;\n",
       "    }\n",
       "</style>\n",
       "<table border=\"1\" class=\"dataframe\">\n",
       "  <thead>\n",
       "    <tr style=\"text-align: right;\">\n",
       "      <th></th>\n",
       "      <th>id</th>\n",
       "      <th>AP006</th>\n",
       "      <th>MB007</th>\n",
       "    </tr>\n",
       "  </thead>\n",
       "  <tbody>\n",
       "    <tr>\n",
       "      <td>count</td>\n",
       "      <td>80000</td>\n",
       "      <td>80000</td>\n",
       "      <td>80000</td>\n",
       "    </tr>\n",
       "    <tr>\n",
       "      <td>unique</td>\n",
       "      <td>80000</td>\n",
       "      <td>4</td>\n",
       "      <td>112</td>\n",
       "    </tr>\n",
       "    <tr>\n",
       "      <td>top</td>\n",
       "      <td>41657</td>\n",
       "      <td>h5</td>\n",
       "      <td>WEB</td>\n",
       "    </tr>\n",
       "    <tr>\n",
       "      <td>freq</td>\n",
       "      <td>1</td>\n",
       "      <td>44246</td>\n",
       "      <td>43850</td>\n",
       "    </tr>\n",
       "  </tbody>\n",
       "</table>\n",
       "</div>"
      ],
      "text/plain": [
       "           id  AP006  MB007\n",
       "count   80000  80000  80000\n",
       "unique  80000      4    112\n",
       "top     41657     h5    WEB\n",
       "freq        1  44246  43850"
      ]
     },
     "execution_count": 10,
     "metadata": {},
     "output_type": "execute_result"
    }
   ],
   "source": [
    "#since after replacing, some numerical categories will become categorical\n",
    "#so we should convert the data types\n",
    "df_cat = df.describe(include=['O']).drop(['id','MB007','AP006'],axis=1)\n",
    "num_columns = df_cat.columns\n",
    "for col in num_columns:\n",
    "    df[col] = pd.to_numeric(df[col], errors='coerce')\n",
    "#Take a quick look at some basic categorical data\n",
    "df.describe(include=['O'])\n",
    "#we can see there is no duplicate applicants \n",
    "#h5 is the most common operation system \n",
    "#web is the most common operation device"
   ]
  },
  {
   "cell_type": "markdown",
   "metadata": {},
   "source": [
    "##### datetime variable"
   ]
  },
  {
   "cell_type": "code",
   "execution_count": 11,
   "metadata": {},
   "outputs": [],
   "source": [
    "#we cannot employ any DateTime field of the yymmdd:hhmmss format in any tree-based methods. \n",
    "# derive year, month, day, weekday, etc. from this field.\n",
    "df = df.assign(hour=df.AP005.dt.hour,\n",
    "               day=df.AP005.dt.day,\n",
    "               month=df.AP005.dt.month,\n",
    "               year=df.AP005.dt.year)"
   ]
  },
  {
   "cell_type": "code",
   "execution_count": 12,
   "metadata": {},
   "outputs": [],
   "source": [
    "df['DayofWeek']=df['AP005'].apply(lambda x:x.dayofweek)"
   ]
  },
  {
   "cell_type": "code",
   "execution_count": 13,
   "metadata": {},
   "outputs": [],
   "source": [
    "#drop unwanted columns\n",
    "df.drop('AP005',axis=1,inplace=True)"
   ]
  },
  {
   "cell_type": "markdown",
   "metadata": {},
   "source": [
    "#### Part 2: Target Variable"
   ]
  },
  {
   "cell_type": "markdown",
   "metadata": {},
   "source": [
    " Note: our target variable is \"loan_default\", so we have a logistic problem (0 or 1)"
   ]
  },
  {
   "cell_type": "code",
   "execution_count": 14,
   "metadata": {},
   "outputs": [
    {
     "data": {
      "image/png": "[encoded data removed]",
      "text/plain": [
       "<Figure size 432x288 with 1 Axes>"
      ]
     },
     "metadata": {
      "needs_background": "light"
     },
     "output_type": "display_data"
    }
   ],
   "source": [
    "#Visulization\n",
    "import seaborn as sns\n",
    "import matplotlib.pyplot as plt\n",
    "%matplotlib inline\n",
    "plot_tr = sns.countplot(x='loan_default', data=df)\n",
    "plot_tr.set_title(\"Default Distribution \\n 0: No Downgrade | 1: Downgrade\", fontsize=16)\n",
    "plot_tr.set_xlabel(\"Is the loan defaulted?\", fontsize=14)\n",
    "plot_tr.set_ylabel('Count', fontsize=14)\n",
    "total = len(df)\n",
    "for p in plot_tr.patches:\n",
    "    height = p.get_height()\n",
    "    plot_tr.text(p.get_x()+p.get_width()/2.,\n",
    "            height + 3,\n",
    "            '{:1.2f}%'.format(height/total*100),\n",
    "            ha=\"center\", fontsize=12) "
   ]
  },
  {
   "cell_type": "markdown",
   "metadata": {},
   "source": [
    "A 20% target incidence considering the amount of data in the dataset could work, however the proportion is still very small and I consider it to be imbalanced. Hence, I will implement data augmentation techniques in order to boost the target incidence with synthetic data. "
   ]
  },
  {
   "cell_type": "markdown",
   "metadata": {},
   "source": [
    "###  Modelling"
   ]
  },
  {
   "cell_type": "code",
   "execution_count": 15,
   "metadata": {
    "scrolled": false
   },
   "outputs": [
    {
     "name": "stdout",
     "output_type": "stream",
     "text": [
      "Checking whether there is an H2O instance running at http://localhost:54321 . connected.\n"
     ]
    },
    {
     "data": {
      "text/html": [
       "<div style=\"overflow:auto\"><table style=\"width:50%\"><tr><td>H2O_cluster_uptime:</td>\n",
       "<td>20 hours 46 mins</td></tr>\n",
       "<tr><td>H2O_cluster_timezone:</td>\n",
       "<td>America/New_York</td></tr>\n",
       "<tr><td>H2O_data_parsing_timezone:</td>\n",
       "<td>UTC</td></tr>\n",
       "<tr><td>H2O_cluster_version:</td>\n",
       "<td>3.30.0.7</td></tr>\n",
       "<tr><td>H2O_cluster_version_age:</td>\n",
       "<td>11 days </td></tr>\n",
       "<tr><td>H2O_cluster_name:</td>\n",
       "<td>H2O_from_python_jiayangdu_bdarss</td></tr>\n",
       "<tr><td>H2O_cluster_total_nodes:</td>\n",
       "<td>1</td></tr>\n",
       "<tr><td>H2O_cluster_free_memory:</td>\n",
       "<td>1.233 Gb</td></tr>\n",
       "<tr><td>H2O_cluster_total_cores:</td>\n",
       "<td>8</td></tr>\n",
       "<tr><td>H2O_cluster_allowed_cores:</td>\n",
       "<td>8</td></tr>\n",
       "<tr><td>H2O_cluster_status:</td>\n",
       "<td>locked, healthy</td></tr>\n",
       "<tr><td>H2O_connection_url:</td>\n",
       "<td>http://localhost:54321</td></tr>\n",
       "<tr><td>H2O_connection_proxy:</td>\n",
       "<td>{\"http\": null, \"https\": null}</td></tr>\n",
       "<tr><td>H2O_internal_security:</td>\n",
       "<td>False</td></tr>\n",
       "<tr><td>H2O_API_Extensions:</td>\n",
       "<td>Amazon S3, XGBoost, Algos, AutoML, Core V3, TargetEncoder, Core V4</td></tr>\n",
       "<tr><td>Python_version:</td>\n",
       "<td>3.7.4 final</td></tr></table></div>"
      ],
      "text/plain": [
       "--------------------------  ------------------------------------------------------------------\n",
       "H2O_cluster_uptime:         20 hours 46 mins\n",
       "H2O_cluster_timezone:       America/New_York\n",
       "H2O_data_parsing_timezone:  UTC\n",
       "H2O_cluster_version:        3.30.0.7\n",
       "H2O_cluster_version_age:    11 days\n",
       "H2O_cluster_name:           H2O_from_python_jiayangdu_bdarss\n",
       "H2O_cluster_total_nodes:    1\n",
       "H2O_cluster_free_memory:    1.233 Gb\n",
       "H2O_cluster_total_cores:    8\n",
       "H2O_cluster_allowed_cores:  8\n",
       "H2O_cluster_status:         locked, healthy\n",
       "H2O_connection_url:         http://localhost:54321\n",
       "H2O_connection_proxy:       {\"http\": null, \"https\": null}\n",
       "H2O_internal_security:      False\n",
       "H2O_API_Extensions:         Amazon S3, XGBoost, Algos, AutoML, Core V3, TargetEncoder, Core V4\n",
       "Python_version:             3.7.4 final\n",
       "--------------------------  ------------------------------------------------------------------"
      ]
     },
     "metadata": {},
     "output_type": "display_data"
    }
   ],
   "source": [
    "import h2o\n",
    "h2o.init()"
   ]
  },
  {
   "cell_type": "code",
   "execution_count": 16,
   "metadata": {},
   "outputs": [],
   "source": [
    "from h2o.estimators.glm import H2OGeneralizedLinearEstimator\n",
    "from h2o.automl import H2OAutoML"
   ]
  },
  {
   "cell_type": "markdown",
   "metadata": {},
   "source": [
    "### Model 1: GLM"
   ]
  },
  {
   "cell_type": "code",
   "execution_count": 17,
   "metadata": {},
   "outputs": [],
   "source": [
    "# To copy the dataset for this modelling\n",
    "df1 = df.copy()"
   ]
  },
  {
   "cell_type": "markdown",
   "metadata": {},
   "source": [
    "#### Outliers flooring or capping"
   ]
  },
  {
   "cell_type": "markdown",
   "metadata": {},
   "source": [
    "calculate 99% and 1% percentile as cap and floor for each column, the if value >= 99% percentile then redefine the value as the value of 99% percentile; similarly if value <= 1% percentile then redefine value as the value of 1% percentile"
   ]
  },
  {
   "cell_type": "code",
   "execution_count": 18,
   "metadata": {},
   "outputs": [],
   "source": [
    "###find out those numerical variables\n",
    "###make it easier for the following steps (binning continuous variables)\n",
    "numerical_columns = ['MB005','CD173','CD172','CD170','CD169','CD167','CD166',\n",
    "                 'CD164','CD162','CD160','CD153','CD152','CD137','CD136',\n",
    "                 'CD135','CD133','CD132','CD131','CD130','CD123','CD121',\n",
    "                 'CD120','CD118','CD117','CD115','CD114','CD113','CD108',\n",
    "                 'CD107','CD106','CD101','CD100','CD088','CD072','CD071',\n",
    "                 'CD018','CD008','PA031','PA030','PA029','PA028','PA023',\n",
    "                 'PA022','CR019','CR018','CR017','CR015','CR012','CR009','CR005',\n",
    "                 'CR004','TD029','TD028','TD027','TD026','TD025','TD024','TD023',\n",
    "                 'TD022','TD015','TD014','TD013','TD010','TD009','TD006','TD005',\n",
    "                 'TD002','TD001','AP004']"
   ]
  },
  {
   "cell_type": "code",
   "execution_count": 19,
   "metadata": {},
   "outputs": [],
   "source": [
    "for col in numerical_columns:\n",
    "    percentiles = df1[col].quantile([0.01,0.99]).values\n",
    "    df1[col][df1[col] <= percentiles[0]] = percentiles[0]\n",
    "    df1[col][df1[col] >= percentiles[1]] = percentiles[1]"
   ]
  },
  {
   "cell_type": "markdown",
   "metadata": {},
   "source": [
    "#### missing values"
   ]
  },
  {
   "cell_type": "markdown",
   "metadata": {},
   "source": [
    "Different from tree-based methods, missing values are not handled and rows with any missing values will be omitted from the data set by GLM on h2o. Therefore, we need to impute missing values up front if there are many.\n",
    "\n",
    "Then use fillna() to impute the missing values with the median values(not use mean since mean is influenced by outliers). Use the for-loop function to impute missing values for those columns."
   ]
  },
  {
   "cell_type": "code",
   "execution_count": 20,
   "metadata": {},
   "outputs": [
    {
     "data": {
      "text/plain": [
       "Index(['PA030', 'PA023', 'PA031', 'PA029', 'PA022', 'PA028', 'TD022', 'TD023',\n",
       "       'TD024', 'CD018', 'CD008', 'CD131', 'CD130', 'CD123', 'CD121', 'CD133',\n",
       "       'CD071', 'CD072', 'CD088', 'CD100', 'CD101', 'CD106', 'CD107', 'CD108',\n",
       "       'CD113', 'CD114', 'CD115', 'CD117', 'CD132', 'CD136', 'CD135', 'CD160',\n",
       "       'CD173', 'CD172', 'CD170', 'CD169', 'CD167', 'CD120', 'CD164', 'CD162',\n",
       "       'CD166', 'CD153', 'CD152', 'CD137', 'CD118', 'MB005', 'TD025', 'TD026',\n",
       "       'TD027', 'TD028', 'TD029'],\n",
       "      dtype='object')"
      ]
     },
     "execution_count": 20,
     "metadata": {},
     "output_type": "execute_result"
    }
   ],
   "source": [
    "def null_cell(df):\n",
    "    missing_values = df.isnull().sum()\n",
    "    missing_values_per = df.isnull().sum() / df.isnull().count()\n",
    "    null_values = pd.concat([missing_values, missing_values_per],axis=1, keys = ['the_null','the_null_perc'])\n",
    "    null_values = null_values.sort_values('the_null',ascending=False)\n",
    "    return null_values[null_values['the_null']>0]\n",
    "\n",
    "fill_list = (null_cell(df1)).index\n",
    "fill_list"
   ]
  },
  {
   "cell_type": "code",
   "execution_count": 21,
   "metadata": {},
   "outputs": [],
   "source": [
    "for col in fill_list:\n",
    "    df1.loc[:,col].fillna(df1.loc[:,col].median(),inplace=True)"
   ]
  },
  {
   "cell_type": "code",
   "execution_count": 22,
   "metadata": {},
   "outputs": [
    {
     "data": {
      "text/plain": [
       "0"
      ]
     },
     "execution_count": 22,
     "metadata": {},
     "output_type": "execute_result"
    }
   ],
   "source": [
    "#missing values\n",
    "sum(df1.isnull().sum()) #we've gotten rid of all our NAs"
   ]
  },
  {
   "cell_type": "markdown",
   "metadata": {},
   "source": [
    "#### Categorical variables"
   ]
  },
  {
   "cell_type": "markdown",
   "metadata": {},
   "source": [
    "\"Letting GLM handle categorical columns is better, as it can take advantage of the categorical column for better performance and memory utilization. We strongly recommend avoiding one-hot encoding categorical columns with many levels into many binary columns, as this is very inefficient. This is especially true for Python users who are used to expanding their categorical variables manually for other frameworks.\"\n",
    "\n",
    "h2o will automatically expands categoricals into 1-hot encoded binary vectors\n",
    "\n",
    "reference:https://www.h2o.ai/wp-content/uploads/2018/01/GLM-BOOKLET.pdf"
   ]
  },
  {
   "cell_type": "code",
   "execution_count": 23,
   "metadata": {},
   "outputs": [
    {
     "data": {
      "text/plain": [
       "float64    52\n",
       "int64      29\n",
       "object      3\n",
       "dtype: int64"
      ]
     },
     "execution_count": 23,
     "metadata": {},
     "output_type": "execute_result"
    }
   ],
   "source": [
    "df1.dtypes.value_counts()"
   ]
  },
  {
   "cell_type": "code",
   "execution_count": 24,
   "metadata": {},
   "outputs": [
    {
     "data": {
      "text/plain": [
       "id       80000\n",
       "AP006        4\n",
       "MB007      112\n",
       "dtype: int64"
      ]
     },
     "execution_count": 24,
     "metadata": {},
     "output_type": "execute_result"
    }
   ],
   "source": [
    "# subcategories within categorical data\n",
    "df1.select_dtypes('object').apply(pd.Series.nunique, axis = 0) # mb007 has too many "
   ]
  },
  {
   "cell_type": "code",
   "execution_count": 25,
   "metadata": {},
   "outputs": [
    {
     "data": {
      "text/plain": [
       "<matplotlib.axes._subplots.AxesSubplot at 0x124dee8d0>"
      ]
     },
     "execution_count": 25,
     "metadata": {},
     "output_type": "execute_result"
    },
    {
     "data": {
      "image/png": "[encoded data removed]",
      "text/plain": [
       "<Figure size 1080x576 with 2 Axes>"
      ]
     },
     "metadata": {
      "needs_background": "light"
     },
     "output_type": "display_data"
    }
   ],
   "source": [
    "# explorary on categorical features\n",
    "fig,axes=plt.subplots(1,2,figsize=(15,8))\n",
    "sns.countplot(x='AP006',hue='loan_default', data=df1,dodge=False, ax=axes[0])\n",
    "sns.countplot(x='MB007',hue='loan_default', data=df1,dodge=False, ax=axes[1])"
   ]
  },
  {
   "cell_type": "code",
   "execution_count": 38,
   "metadata": {},
   "outputs": [
    {
     "name": "stdout",
     "output_type": "stream",
     "text": [
      "<class 'pandas.core.frame.DataFrame'>\n",
      "RangeIndex: 80000 entries, 0 to 79999\n",
      "Data columns (total 8 columns):\n",
      "month        80000 non-null category\n",
      "hour         80000 non-null category\n",
      "day          80000 non-null category\n",
      "year         80000 non-null category\n",
      "DayofWeek    80000 non-null category\n",
      "AP006        80000 non-null category\n",
      "MB007        80000 non-null category\n",
      "AP003        80000 non-null category\n",
      "dtypes: category(8)\n",
      "memory usage: 634.3 KB\n"
     ]
    }
   ],
   "source": [
    "#Create list with categorical features' names.\n",
    "#AP003 education level\n",
    "nonum_feats_names = ['month', 'hour', 'day', 'year', 'DayofWeek', 'AP006', 'MB007','AP003']\n",
    "#Assign appropriate data type to categorical variables.\n",
    "nonum_feats = df1[nonum_feats_names].astype('category')\n",
    "nonum_feats.info()"
   ]
  },
  {
   "cell_type": "code",
   "execution_count": 39,
   "metadata": {},
   "outputs": [
    {
     "name": "stdout",
     "output_type": "stream",
     "text": [
      "<class 'pandas.core.frame.DataFrame'>\n",
      "RangeIndex: 80000 entries, 0 to 79999\n",
      "Columns: 181 entries, month_4 to AP003_6\n",
      "dtypes: uint8(181)\n",
      "memory usage: 13.8 MB\n"
     ]
    }
   ],
   "source": [
    "#One-hot-code categorical variables and dropping the reference value.\n",
    "ohc_feats = pd.get_dummies(nonum_feats,drop_first=True)\n",
    "ohc_feats.info()"
   ]
  },
  {
   "cell_type": "markdown",
   "metadata": {},
   "source": [
    "In GLM or Deep Learning, H2O will one-hot encode the categoricals automatically under the hood -- either way you don't need to do any pre-processing. However, for the oversampling step whcih only deals with numericals (I managed to use smotenc which deals with both categoricals and numericals later, but something went wrong ), I still mannually create dummies here. "
   ]
  },
  {
   "cell_type": "markdown",
   "metadata": {},
   "source": [
    "#### numerical variables"
   ]
  },
  {
   "cell_type": "markdown",
   "metadata": {},
   "source": [
    "When GLM performs regression (with factor columns), one category can be left out to avoid multicollinearity. If regularization is disabled (lambda = 0), then one category is left out. However, when using a the default lambda parameter, all categories are included.\n",
    "\n",
    "The reason for the different behavior with regularization is that collinearity is not a problem with regularization. And it’s better to leave regularization to find out which level to ignore (or how to distribute the coefficients between the levels).\n",
    "\n",
    "reference: http://docs.h2o.ai/h2o/latest-stable/h2o-docs/data-science/glm.html#handling-of-categorical-variables"
   ]
  },
  {
   "cell_type": "markdown",
   "metadata": {},
   "source": [
    "exploratory on the correlation between numerical variables"
   ]
  },
  {
   "cell_type": "code",
   "execution_count": 45,
   "metadata": {},
   "outputs": [],
   "source": [
    "num_cols_names = list(set(list(df1.columns)).difference(set(nonum_feats_names)))\n",
    "num_cols_names.remove('loan_default')\n",
    "num_cols_names.remove('id')"
   ]
  },
  {
   "cell_type": "code",
   "execution_count": 46,
   "metadata": {},
   "outputs": [
    {
     "data": {
      "text/plain": [
       "<matplotlib.axes._subplots.AxesSubplot at 0x138fe5fd0>"
      ]
     },
     "execution_count": 46,
     "metadata": {},
     "output_type": "execute_result"
    },
    {
     "data": {
      "image/png": "[encoded data removed]",
      "text/plain": [
       "<Figure size 432x288 with 2 Axes>"
      ]
     },
     "metadata": {
      "needs_background": "light"
     },
     "output_type": "display_data"
    }
   ],
   "source": [
    "corrmat = df1[num_cols_names].corr()\n",
    "sns.heatmap(corrmat, annot = True)"
   ]
  },
  {
   "cell_type": "markdown",
   "metadata": {},
   "source": [
    "#### Scaling the data\n",
    "\n",
    "The scaling method I chose represents each column in values from 0 to 1 according to their relative values. It creates less variance in data and smoothes it out to relative values making them easier to compare to each other."
   ]
  },
  {
   "cell_type": "code",
   "execution_count": 48,
   "metadata": {},
   "outputs": [],
   "source": [
    "df_1 = pd.concat([df1[num_cols_names], ohc_feats],axis=1) #df_1 do not contain target variable"
   ]
  },
  {
   "cell_type": "code",
   "execution_count": 49,
   "metadata": {},
   "outputs": [],
   "source": [
    "# Define what type of scaling we will use \n",
    "from sklearn.preprocessing import MinMaxScaler\n",
    "scaler = MinMaxScaler(feature_range = (0, 1))"
   ]
  },
  {
   "cell_type": "code",
   "execution_count": 50,
   "metadata": {},
   "outputs": [
    {
     "data": {
      "text/plain": [
       "MinMaxScaler()"
      ]
     },
     "execution_count": 50,
     "metadata": {},
     "output_type": "execute_result"
    }
   ],
   "source": [
    "# Fit scaler to our data\n",
    "scaler.fit(df_1[num_cols_names])"
   ]
  },
  {
   "cell_type": "code",
   "execution_count": 51,
   "metadata": {},
   "outputs": [],
   "source": [
    "# Calculate scaled values and store them in a separate object\n",
    "df_1[num_cols_names] = scaler.transform(df1[num_cols_names])"
   ]
  },
  {
   "cell_type": "markdown",
   "metadata": {},
   "source": [
    "#### predictor and target"
   ]
  },
  {
   "cell_type": "code",
   "execution_count": 52,
   "metadata": {},
   "outputs": [
    {
     "data": {
      "text/html": [
       "<div>\n",
       "<style scoped>\n",
       "    .dataframe tbody tr th:only-of-type {\n",
       "        vertical-align: middle;\n",
       "    }\n",
       "\n",
       "    .dataframe tbody tr th {\n",
       "        vertical-align: top;\n",
       "    }\n",
       "\n",
       "    .dataframe thead th {\n",
       "        text-align: right;\n",
       "    }\n",
       "</style>\n",
       "<table border=\"1\" class=\"dataframe\">\n",
       "  <thead>\n",
       "    <tr style=\"text-align: right;\">\n",
       "      <th></th>\n",
       "      <th>varname</th>\n",
       "      <th>dtype</th>\n",
       "      <th>source</th>\n",
       "    </tr>\n",
       "  </thead>\n",
       "  <tbody>\n",
       "    <tr>\n",
       "      <td>0</td>\n",
       "      <td>CR005</td>\n",
       "      <td>float64</td>\n",
       "      <td>CR</td>\n",
       "    </tr>\n",
       "    <tr>\n",
       "      <td>1</td>\n",
       "      <td>TD009</td>\n",
       "      <td>float64</td>\n",
       "      <td>TD</td>\n",
       "    </tr>\n",
       "    <tr>\n",
       "      <td>2</td>\n",
       "      <td>AP002</td>\n",
       "      <td>float64</td>\n",
       "      <td>AP</td>\n",
       "    </tr>\n",
       "    <tr>\n",
       "      <td>3</td>\n",
       "      <td>CD018</td>\n",
       "      <td>float64</td>\n",
       "      <td>CD</td>\n",
       "    </tr>\n",
       "    <tr>\n",
       "      <td>4</td>\n",
       "      <td>PA023</td>\n",
       "      <td>float64</td>\n",
       "      <td>PA</td>\n",
       "    </tr>\n",
       "    <tr>\n",
       "      <td>5</td>\n",
       "      <td>AP007</td>\n",
       "      <td>float64</td>\n",
       "      <td>AP</td>\n",
       "    </tr>\n",
       "    <tr>\n",
       "      <td>6</td>\n",
       "      <td>TD026</td>\n",
       "      <td>float64</td>\n",
       "      <td>TD</td>\n",
       "    </tr>\n",
       "    <tr>\n",
       "      <td>7</td>\n",
       "      <td>TD024</td>\n",
       "      <td>float64</td>\n",
       "      <td>TD</td>\n",
       "    </tr>\n",
       "    <tr>\n",
       "      <td>8</td>\n",
       "      <td>PA022</td>\n",
       "      <td>float64</td>\n",
       "      <td>PA</td>\n",
       "    </tr>\n",
       "    <tr>\n",
       "      <td>9</td>\n",
       "      <td>CD136</td>\n",
       "      <td>float64</td>\n",
       "      <td>CD</td>\n",
       "    </tr>\n",
       "  </tbody>\n",
       "</table>\n",
       "</div>"
      ],
      "text/plain": [
       "  varname    dtype source\n",
       "0   CR005  float64     CR\n",
       "1   TD009  float64     TD\n",
       "2   AP002  float64     AP\n",
       "3   CD018  float64     CD\n",
       "4   PA023  float64     PA\n",
       "5   AP007  float64     AP\n",
       "6   TD026  float64     TD\n",
       "7   TD024  float64     TD\n",
       "8   PA022  float64     PA\n",
       "9   CD136  float64     CD"
      ]
     },
     "execution_count": 52,
     "metadata": {},
     "output_type": "execute_result"
    }
   ],
   "source": [
    "var = pd.DataFrame(df_1.dtypes).reset_index()\n",
    "var.columns = ['varname','dtype'] \n",
    "var['source'] = var['varname'].str[:2]\n",
    "var.head(10)"
   ]
  },
  {
   "cell_type": "code",
   "execution_count": 53,
   "metadata": {},
   "outputs": [
    {
     "data": {
      "text/plain": [
       "MB    112\n",
       "CD     36\n",
       "da     30\n",
       "ho     23\n",
       "TD     17\n",
       "AP     13\n",
       "CR      8\n",
       "Da      6\n",
       "PA      6\n",
       "mo      4\n",
       "Name: source, dtype: int64"
      ]
     },
     "execution_count": 53,
     "metadata": {},
     "output_type": "execute_result"
    }
   ],
   "source": [
    "var['source'].value_counts()"
   ]
  },
  {
   "cell_type": "code",
   "execution_count": 55,
   "metadata": {},
   "outputs": [],
   "source": [
    "# \"AP004\" is a bad data field and should be removed.\n",
    "MB_list = list(var[var['source']=='MB']['varname'])\n",
    "AP_list = list(var[(var['source']=='AP') & (var['varname']!='AP004')]['varname'])\n",
    "TD_list = list(var[var['source']=='TD']['varname'])\n",
    "CR_list = list(var[var['source']=='CR']['varname'])\n",
    "PA_list = list(var[var['source']=='PA']['varname'])\n",
    "CD_list = list(var[var['source']=='CD']['varname'])\n",
    "# other remaining variables to get a dummy list\n",
    "other_list = list(set(list(df_1.columns)).difference(set(MB_list+AP_list+TD_list+CR_list+PA_list+CD_list)))"
   ]
  },
  {
   "cell_type": "code",
   "execution_count": 56,
   "metadata": {},
   "outputs": [],
   "source": [
    "predictors = MB_list + TD_list + AP_list + CD_list + CR_list + PA_list + other_list\n",
    "target='loan_default'"
   ]
  },
  {
   "cell_type": "markdown",
   "metadata": {},
   "source": [
    "#### oversampling"
   ]
  },
  {
   "cell_type": "markdown",
   "metadata": {},
   "source": [
    "SMOTE-NC\n",
    "\n",
    "For this project I managed to Synthetic Minority Over-sampling Technique for Nominal and Continuous features (SMOTE-NC) from the imbalanced-learn library, which creates synthetic data for categorical as well as quantitative features in the data set. SMOTE-NC slightly changes the way a new sample is generated by performing something specific for the categorical features. In fact, the categories of a new generated sample are decided by picking the most frequent category of the nearest neighbors present during the generation. \n",
    "\n",
    "reference: https://medium.com/analytics-vidhya/smote-nc-in-ml-categorization-models-fo-imbalanced-datasets-8adbdcf08c25\n",
    "\n",
    "However, it does not work in my cases, I have no idea about how to adjust it, so I just left the code as below."
   ]
  },
  {
   "cell_type": "code",
   "execution_count": 72,
   "metadata": {},
   "outputs": [
    {
     "name": "stdout",
     "output_type": "stream",
     "text": [
      "[ 4  6 78 79 80 81 82 83]\n"
     ]
    }
   ],
   "source": [
    "##Obatin column index for categorical features\n",
    "cat_col_index = np.argwhere(df1.columns.isin(nonum_feats_names)).ravel()\n",
    "print(cat_col_index)"
   ]
  },
  {
   "cell_type": "code",
   "execution_count": 75,
   "metadata": {},
   "outputs": [],
   "source": [
    "#from imblearn.over_sampling import SMOTENC\n",
    "#from collections import Counter\n",
    "\n",
    "#X = df1.drop('loan_default',axis=1)\n",
    "#y = df1[target]\n",
    "\n",
    "#Instantiate SMOTENC algorith with 60% oversampling\n",
    "#sm = SMOTENC(categorical_features= cat_col_index, random_state=123)\n",
    "#X_rs, y_rs = sm.fit_resample(X,y)\n",
    "\n",
    "#print('Random undersampling {}'.format(Counter(y_rs)))"
   ]
  },
  {
   "cell_type": "code",
   "execution_count": 76,
   "metadata": {},
   "outputs": [
    {
     "name": "stdout",
     "output_type": "stream",
     "text": [
      "Random undersampling Counter({1: 64512, 0: 64512})\n"
     ]
    }
   ],
   "source": [
    "# therefore, i tried smote\n",
    "from imblearn.over_sampling import SMOTE\n",
    "from collections import Counter\n",
    "\n",
    "X = df_1[predictors]\n",
    "y = df1[target]\n",
    "\n",
    "oversample = SMOTE()\n",
    "X_rs, y_rs = oversample.fit_resample(X,y)\n",
    "\n",
    "print('Random undersampling {}'.format(Counter(y_rs)))"
   ]
  },
  {
   "cell_type": "code",
   "execution_count": 77,
   "metadata": {},
   "outputs": [],
   "source": [
    "y_rs = y_rs.to_frame()"
   ]
  },
  {
   "cell_type": "code",
   "execution_count": 78,
   "metadata": {},
   "outputs": [],
   "source": [
    "df1_oversample = X_rs.copy()\n",
    "df1_oversample['loan_default'] = y_rs['loan_default'].tolist()"
   ]
  },
  {
   "cell_type": "markdown",
   "metadata": {},
   "source": [
    "#### train test split"
   ]
  },
  {
   "cell_type": "code",
   "execution_count": 79,
   "metadata": {},
   "outputs": [
    {
     "name": "stdout",
     "output_type": "stream",
     "text": [
      "train: 90316\n",
      "test: 38708\n"
     ]
    }
   ],
   "source": [
    "#train test split 7:3\n",
    "from sklearn.model_selection import train_test_split\n",
    "train,test = train_test_split(df1_oversample, test_size=0.30, random_state=42)\n",
    "print('train:',len(train));print('test:', len(test))"
   ]
  },
  {
   "cell_type": "markdown",
   "metadata": {},
   "source": [
    "#### modelling"
   ]
  },
  {
   "cell_type": "markdown",
   "metadata": {},
   "source": [
    "##### run with a small sample dataset"
   ]
  },
  {
   "cell_type": "code",
   "execution_count": 82,
   "metadata": {},
   "outputs": [
    {
     "name": "stdout",
     "output_type": "stream",
     "text": [
      "Parse progress: |█████████████████████████████████████████████████████████| 100%\n",
      "Parse progress: |█████████████████████████████████████████████████████████| 100%\n"
     ]
    }
   ],
   "source": [
    "train_smpl = train.sample(frac=0.1, random_state=1)\n",
    "test_smpl = test.sample(frac=0.1, random_state=1)\n",
    "train_hex = h2o.H2OFrame(train_smpl)\n",
    "test_hex = h2o.H2OFrame(test_smpl)"
   ]
  },
  {
   "cell_type": "code",
   "execution_count": 83,
   "metadata": {},
   "outputs": [
    {
     "name": "stdout",
     "output_type": "stream",
     "text": [
      "glm Model Build progress: |███████████████████████████████████████████████| 100%\n"
     ]
    }
   ],
   "source": [
    "glm_v1 = H2OGeneralizedLinearEstimator(family= \"binomial\", lambda_ = 0.05) # compute_p_values = True)\n",
    "glm_v1.train(predictors,target,training_frame=train_hex)"
   ]
  },
  {
   "cell_type": "code",
   "execution_count": 84,
   "metadata": {},
   "outputs": [
    {
     "name": "stdout",
     "output_type": "stream",
     "text": [
      "glm prediction progress: |████████████████████████████████████████████████| 100%\n"
     ]
    },
    {
     "data": {
      "text/html": [
       "<table>\n",
       "<thead>\n",
       "<tr><th style=\"text-align: right;\">  predict</th><th style=\"text-align: right;\">      p0</th><th style=\"text-align: right;\">      p1</th></tr>\n",
       "</thead>\n",
       "<tbody>\n",
       "<tr><td style=\"text-align: right;\">        1</td><td style=\"text-align: right;\">0.421622</td><td style=\"text-align: right;\">0.578378</td></tr>\n",
       "<tr><td style=\"text-align: right;\">        0</td><td style=\"text-align: right;\">0.72542 </td><td style=\"text-align: right;\">0.27458 </td></tr>\n",
       "<tr><td style=\"text-align: right;\">        1</td><td style=\"text-align: right;\">0.476902</td><td style=\"text-align: right;\">0.523098</td></tr>\n",
       "<tr><td style=\"text-align: right;\">        0</td><td style=\"text-align: right;\">0.63294 </td><td style=\"text-align: right;\">0.36706 </td></tr>\n",
       "<tr><td style=\"text-align: right;\">        0</td><td style=\"text-align: right;\">0.872081</td><td style=\"text-align: right;\">0.127919</td></tr>\n",
       "<tr><td style=\"text-align: right;\">        1</td><td style=\"text-align: right;\">0.256359</td><td style=\"text-align: right;\">0.743641</td></tr>\n",
       "<tr><td style=\"text-align: right;\">        1</td><td style=\"text-align: right;\">0.439554</td><td style=\"text-align: right;\">0.560446</td></tr>\n",
       "<tr><td style=\"text-align: right;\">        1</td><td style=\"text-align: right;\">0.445731</td><td style=\"text-align: right;\">0.554269</td></tr>\n",
       "<tr><td style=\"text-align: right;\">        0</td><td style=\"text-align: right;\">0.767923</td><td style=\"text-align: right;\">0.232077</td></tr>\n",
       "<tr><td style=\"text-align: right;\">        0</td><td style=\"text-align: right;\">0.814803</td><td style=\"text-align: right;\">0.185197</td></tr>\n",
       "</tbody>\n",
       "</table>"
      ]
     },
     "metadata": {},
     "output_type": "display_data"
    },
    {
     "data": {
      "text/plain": []
     },
     "execution_count": 84,
     "metadata": {},
     "output_type": "execute_result"
    }
   ],
   "source": [
    "glm_v1.predict(test_hex)"
   ]
  },
  {
   "cell_type": "code",
   "execution_count": 85,
   "metadata": {},
   "outputs": [
    {
     "name": "stdout",
     "output_type": "stream",
     "text": [
      "glm prediction progress: |████████████████████████████████████████████████| 100%\n"
     ]
    },
    {
     "data": {
      "text/html": [
       "<table>\n",
       "<thead>\n",
       "<tr><th style=\"text-align: right;\">      p1</th></tr>\n",
       "</thead>\n",
       "<tbody>\n",
       "<tr><td style=\"text-align: right;\">0.578378</td></tr>\n",
       "<tr><td style=\"text-align: right;\">0.27458 </td></tr>\n",
       "<tr><td style=\"text-align: right;\">0.523098</td></tr>\n",
       "<tr><td style=\"text-align: right;\">0.36706 </td></tr>\n",
       "<tr><td style=\"text-align: right;\">0.127919</td></tr>\n",
       "<tr><td style=\"text-align: right;\">0.743641</td></tr>\n",
       "<tr><td style=\"text-align: right;\">0.560446</td></tr>\n",
       "<tr><td style=\"text-align: right;\">0.554269</td></tr>\n",
       "<tr><td style=\"text-align: right;\">0.232077</td></tr>\n",
       "<tr><td style=\"text-align: right;\">0.185197</td></tr>\n",
       "</tbody>\n",
       "</table>"
      ]
     },
     "metadata": {},
     "output_type": "display_data"
    },
    {
     "data": {
      "text/plain": []
     },
     "execution_count": 85,
     "metadata": {},
     "output_type": "execute_result"
    }
   ],
   "source": [
    "glm_v1.predict(test_hex)['p1']"
   ]
  },
  {
   "cell_type": "code",
   "execution_count": 86,
   "metadata": {},
   "outputs": [
    {
     "name": "stdout",
     "output_type": "stream",
     "text": [
      "glm prediction progress: |████████████████████████████████████████████████| 100%\n"
     ]
    },
    {
     "data": {
      "text/html": [
       "<div>\n",
       "<style scoped>\n",
       "    .dataframe tbody tr th:only-of-type {\n",
       "        vertical-align: middle;\n",
       "    }\n",
       "\n",
       "    .dataframe tbody tr th {\n",
       "        vertical-align: top;\n",
       "    }\n",
       "\n",
       "    .dataframe thead th {\n",
       "        text-align: right;\n",
       "    }\n",
       "</style>\n",
       "<table border=\"1\" class=\"dataframe\">\n",
       "  <thead>\n",
       "    <tr style=\"text-align: right;\">\n",
       "      <th></th>\n",
       "      <th>loan_default</th>\n",
       "      <th>p1</th>\n",
       "    </tr>\n",
       "  </thead>\n",
       "  <tbody>\n",
       "    <tr>\n",
       "      <td>0</td>\n",
       "      <td>1</td>\n",
       "      <td>0.578378</td>\n",
       "    </tr>\n",
       "    <tr>\n",
       "      <td>1</td>\n",
       "      <td>0</td>\n",
       "      <td>0.274580</td>\n",
       "    </tr>\n",
       "    <tr>\n",
       "      <td>2</td>\n",
       "      <td>0</td>\n",
       "      <td>0.523098</td>\n",
       "    </tr>\n",
       "    <tr>\n",
       "      <td>3</td>\n",
       "      <td>0</td>\n",
       "      <td>0.367060</td>\n",
       "    </tr>\n",
       "    <tr>\n",
       "      <td>4</td>\n",
       "      <td>0</td>\n",
       "      <td>0.127919</td>\n",
       "    </tr>\n",
       "  </tbody>\n",
       "</table>\n",
       "</div>"
      ],
      "text/plain": [
       "   loan_default        p1\n",
       "0             1  0.578378\n",
       "1             0  0.274580\n",
       "2             0  0.523098\n",
       "3             0  0.367060\n",
       "4             0  0.127919"
      ]
     },
     "execution_count": 86,
     "metadata": {},
     "output_type": "execute_result"
    }
   ],
   "source": [
    "predictions = glm_v1.predict(test_hex)['p1']\n",
    "test_scores = test_hex['loan_default'].cbind(predictions).as_data_frame()\n",
    "test_scores.head()"
   ]
  },
  {
   "cell_type": "code",
   "execution_count": 87,
   "metadata": {
    "scrolled": false
   },
   "outputs": [
    {
     "name": "stdout",
     "output_type": "stream",
     "text": [
      "glm prediction progress: |████████████████████████████████████████████████| 100%\n"
     ]
    },
    {
     "data": {
      "text/html": [
       "<div>\n",
       "<style scoped>\n",
       "    .dataframe tbody tr th:only-of-type {\n",
       "        vertical-align: middle;\n",
       "    }\n",
       "\n",
       "    .dataframe tbody tr th {\n",
       "        vertical-align: top;\n",
       "    }\n",
       "\n",
       "    .dataframe thead th {\n",
       "        text-align: right;\n",
       "    }\n",
       "</style>\n",
       "<table border=\"1\" class=\"dataframe\">\n",
       "  <thead>\n",
       "    <tr style=\"text-align: right;\">\n",
       "      <th></th>\n",
       "      <th>count</th>\n",
       "      <th>actual</th>\n",
       "      <th>non_actual</th>\n",
       "      <th>cum_count</th>\n",
       "      <th>cum_actual</th>\n",
       "      <th>cum_non_actual</th>\n",
       "      <th>percent_cum_actual</th>\n",
       "      <th>percent_cum_non_actual</th>\n",
       "      <th>if_random</th>\n",
       "      <th>lift</th>\n",
       "      <th>K_S</th>\n",
       "      <th>gain</th>\n",
       "    </tr>\n",
       "    <tr>\n",
       "      <th>decile</th>\n",
       "      <th></th>\n",
       "      <th></th>\n",
       "      <th></th>\n",
       "      <th></th>\n",
       "      <th></th>\n",
       "      <th></th>\n",
       "      <th></th>\n",
       "      <th></th>\n",
       "      <th></th>\n",
       "      <th></th>\n",
       "      <th></th>\n",
       "      <th></th>\n",
       "    </tr>\n",
       "  </thead>\n",
       "  <tbody>\n",
       "    <tr>\n",
       "      <td>0</td>\n",
       "      <td>388</td>\n",
       "      <td>292</td>\n",
       "      <td>96</td>\n",
       "      <td>388</td>\n",
       "      <td>292</td>\n",
       "      <td>96</td>\n",
       "      <td>0.16</td>\n",
       "      <td>0.05</td>\n",
       "      <td>186.0</td>\n",
       "      <td>1.57</td>\n",
       "      <td>11.0</td>\n",
       "      <td>75.26</td>\n",
       "    </tr>\n",
       "    <tr>\n",
       "      <td>1</td>\n",
       "      <td>387</td>\n",
       "      <td>276</td>\n",
       "      <td>111</td>\n",
       "      <td>775</td>\n",
       "      <td>568</td>\n",
       "      <td>207</td>\n",
       "      <td>0.31</td>\n",
       "      <td>0.10</td>\n",
       "      <td>372.0</td>\n",
       "      <td>1.53</td>\n",
       "      <td>21.0</td>\n",
       "      <td>73.29</td>\n",
       "    </tr>\n",
       "    <tr>\n",
       "      <td>2</td>\n",
       "      <td>387</td>\n",
       "      <td>262</td>\n",
       "      <td>125</td>\n",
       "      <td>1162</td>\n",
       "      <td>830</td>\n",
       "      <td>332</td>\n",
       "      <td>0.45</td>\n",
       "      <td>0.17</td>\n",
       "      <td>558.0</td>\n",
       "      <td>1.49</td>\n",
       "      <td>28.0</td>\n",
       "      <td>71.43</td>\n",
       "    </tr>\n",
       "    <tr>\n",
       "      <td>3</td>\n",
       "      <td>387</td>\n",
       "      <td>247</td>\n",
       "      <td>140</td>\n",
       "      <td>1549</td>\n",
       "      <td>1077</td>\n",
       "      <td>472</td>\n",
       "      <td>0.58</td>\n",
       "      <td>0.23</td>\n",
       "      <td>744.0</td>\n",
       "      <td>1.45</td>\n",
       "      <td>35.0</td>\n",
       "      <td>69.53</td>\n",
       "    </tr>\n",
       "    <tr>\n",
       "      <td>4</td>\n",
       "      <td>387</td>\n",
       "      <td>211</td>\n",
       "      <td>176</td>\n",
       "      <td>1936</td>\n",
       "      <td>1288</td>\n",
       "      <td>648</td>\n",
       "      <td>0.69</td>\n",
       "      <td>0.32</td>\n",
       "      <td>930.0</td>\n",
       "      <td>1.38</td>\n",
       "      <td>37.0</td>\n",
       "      <td>66.53</td>\n",
       "    </tr>\n",
       "    <tr>\n",
       "      <td>5</td>\n",
       "      <td>387</td>\n",
       "      <td>187</td>\n",
       "      <td>200</td>\n",
       "      <td>2323</td>\n",
       "      <td>1475</td>\n",
       "      <td>848</td>\n",
       "      <td>0.79</td>\n",
       "      <td>0.42</td>\n",
       "      <td>1116.0</td>\n",
       "      <td>1.32</td>\n",
       "      <td>37.0</td>\n",
       "      <td>63.50</td>\n",
       "    </tr>\n",
       "    <tr>\n",
       "      <td>6</td>\n",
       "      <td>387</td>\n",
       "      <td>136</td>\n",
       "      <td>251</td>\n",
       "      <td>2710</td>\n",
       "      <td>1611</td>\n",
       "      <td>1099</td>\n",
       "      <td>0.87</td>\n",
       "      <td>0.55</td>\n",
       "      <td>1302.0</td>\n",
       "      <td>1.24</td>\n",
       "      <td>32.0</td>\n",
       "      <td>59.45</td>\n",
       "    </tr>\n",
       "    <tr>\n",
       "      <td>7</td>\n",
       "      <td>387</td>\n",
       "      <td>124</td>\n",
       "      <td>263</td>\n",
       "      <td>3097</td>\n",
       "      <td>1735</td>\n",
       "      <td>1362</td>\n",
       "      <td>0.93</td>\n",
       "      <td>0.68</td>\n",
       "      <td>1488.0</td>\n",
       "      <td>1.17</td>\n",
       "      <td>25.0</td>\n",
       "      <td>56.02</td>\n",
       "    </tr>\n",
       "    <tr>\n",
       "      <td>8</td>\n",
       "      <td>387</td>\n",
       "      <td>76</td>\n",
       "      <td>311</td>\n",
       "      <td>3484</td>\n",
       "      <td>1811</td>\n",
       "      <td>1673</td>\n",
       "      <td>0.97</td>\n",
       "      <td>0.83</td>\n",
       "      <td>1674.0</td>\n",
       "      <td>1.08</td>\n",
       "      <td>14.0</td>\n",
       "      <td>51.98</td>\n",
       "    </tr>\n",
       "    <tr>\n",
       "      <td>9</td>\n",
       "      <td>387</td>\n",
       "      <td>49</td>\n",
       "      <td>338</td>\n",
       "      <td>3871</td>\n",
       "      <td>1860</td>\n",
       "      <td>2011</td>\n",
       "      <td>1.00</td>\n",
       "      <td>1.00</td>\n",
       "      <td>1860.0</td>\n",
       "      <td>1.00</td>\n",
       "      <td>0.0</td>\n",
       "      <td>48.05</td>\n",
       "    </tr>\n",
       "  </tbody>\n",
       "</table>\n",
       "</div>"
      ],
      "text/plain": [
       "        count  actual  non_actual  cum_count  cum_actual  cum_non_actual  \\\n",
       "decile                                                                     \n",
       "0         388     292          96        388         292              96   \n",
       "1         387     276         111        775         568             207   \n",
       "2         387     262         125       1162         830             332   \n",
       "3         387     247         140       1549        1077             472   \n",
       "4         387     211         176       1936        1288             648   \n",
       "5         387     187         200       2323        1475             848   \n",
       "6         387     136         251       2710        1611            1099   \n",
       "7         387     124         263       3097        1735            1362   \n",
       "8         387      76         311       3484        1811            1673   \n",
       "9         387      49         338       3871        1860            2011   \n",
       "\n",
       "        percent_cum_actual  percent_cum_non_actual  if_random  lift   K_S  \\\n",
       "decile                                                                      \n",
       "0                     0.16                    0.05      186.0  1.57  11.0   \n",
       "1                     0.31                    0.10      372.0  1.53  21.0   \n",
       "2                     0.45                    0.17      558.0  1.49  28.0   \n",
       "3                     0.58                    0.23      744.0  1.45  35.0   \n",
       "4                     0.69                    0.32      930.0  1.38  37.0   \n",
       "5                     0.79                    0.42     1116.0  1.32  37.0   \n",
       "6                     0.87                    0.55     1302.0  1.24  32.0   \n",
       "7                     0.93                    0.68     1488.0  1.17  25.0   \n",
       "8                     0.97                    0.83     1674.0  1.08  14.0   \n",
       "9                     1.00                    1.00     1860.0  1.00   0.0   \n",
       "\n",
       "         gain  \n",
       "decile         \n",
       "0       75.26  \n",
       "1       73.29  \n",
       "2       71.43  \n",
       "3       69.53  \n",
       "4       66.53  \n",
       "5       63.50  \n",
       "6       59.45  \n",
       "7       56.02  \n",
       "8       51.98  \n",
       "9       48.05  "
      ]
     },
     "execution_count": 87,
     "metadata": {},
     "output_type": "execute_result"
    }
   ],
   "source": [
    "def createGains(model):\n",
    "    predictions = model.predict(test_hex)['p1']\n",
    "    test_scores = test_hex['loan_default'].cbind(predictions).as_data_frame()\n",
    "\n",
    "    #sort on prediction (descending), add id, and decile for groups containing 1/10 of datapoints\n",
    "    test_scores = test_scores.sort_values(by='p1',ascending=False)\n",
    "    test_scores['row_id'] = range(0,0+len(test_scores))\n",
    "    test_scores['decile'] = ( test_scores['row_id'] / (len(test_scores)/10) ).astype(int)\n",
    "    #see count by decile\n",
    "    test_scores.loc[test_scores['decile'] == 10]=9\n",
    "    test_scores['decile'].value_counts()\n",
    "\n",
    "    #create gains table\n",
    "    gains = test_scores.groupby('decile')['loan_default'].agg(['count','sum'])\n",
    "    gains.columns = ['count','actual']\n",
    "    gains\n",
    "\n",
    "    #add features to gains table\n",
    "    gains['non_actual'] = gains['count'] - gains['actual']\n",
    "    gains['cum_count'] = gains['count'].cumsum()\n",
    "    gains['cum_actual'] = gains['actual'].cumsum()\n",
    "    gains['cum_non_actual'] = gains['non_actual'].cumsum()\n",
    "    gains['percent_cum_actual'] = (gains['cum_actual'] / np.max(gains['cum_actual'])).round(2)\n",
    "    gains['percent_cum_non_actual'] = (gains['cum_non_actual'] / np.max(gains['cum_non_actual'])).round(2)\n",
    "    gains['if_random'] = np.max(gains['cum_actual']) /10 \n",
    "    gains['if_random'] = gains['if_random'].cumsum()\n",
    "    gains['lift'] = (gains['cum_actual'] / gains['if_random']).round(2)\n",
    "    gains['K_S'] = np.abs( gains['percent_cum_actual'] -  gains['percent_cum_non_actual'] ) * 100\n",
    "    gains['gain']=(gains['cum_actual']/gains['cum_count']*100).round(2)\n",
    "    gains = pd.DataFrame(gains)\n",
    "    return(gains)\n",
    "\n",
    "createGains(glm_v1)"
   ]
  },
  {
   "cell_type": "code",
   "execution_count": 88,
   "metadata": {
    "scrolled": false
   },
   "outputs": [
    {
     "name": "stdout",
     "output_type": "stream",
     "text": [
      "glm prediction progress: |████████████████████████████████████████████████| 100%\n",
      "\n",
      "   * ROC curve: The ROC curve plots the true positive rate vs. the false rositive sate\n",
      "\n",
      "\t  * The area under the curve (AUC): A value between 0.5 (random) and 1.0 (perfect), measuring the prediction accuracy\n",
      "\n",
      "   * Recall (R) = The number of true positives / (the number of true positives + the number of false negatives)\n",
      "\n"
     ]
    },
    {
     "data": {
      "image/png": "[encoded data removed]",
      "text/plain": [
       "<Figure size 720x288 with 2 Axes>"
      ]
     },
     "metadata": {
      "needs_background": "light"
     },
     "output_type": "display_data"
    }
   ],
   "source": [
    "def ROC_AUC(my_result,df,target):\n",
    "    from sklearn.metrics import roc_curve,auc\n",
    "    from sklearn.metrics import average_precision_score\n",
    "    from sklearn.metrics import precision_recall_curve\n",
    "    import matplotlib.pyplot as plt\n",
    "\n",
    "    # ROC\n",
    "    y_actual = df[target].as_data_frame()\n",
    "    y_pred = my_result.predict(df)['p1'].as_data_frame()\n",
    "    fpr = list()\n",
    "    tpr = list()\n",
    "    roc_auc = list()\n",
    "    fpr,tpr,_ = roc_curve(y_actual,y_pred)\n",
    "    roc_auc = auc(fpr,tpr)\n",
    "    \n",
    "    # Precision-Recall\n",
    "    average_precision = average_precision_score(y_actual,y_pred)\n",
    "\n",
    "    print('')\n",
    "    print('   * ROC curve: The ROC curve plots the true positive rate vs. the false rositive sate')\n",
    "    print('')\n",
    "    print('\t  * The area under the curve (AUC): A value between 0.5 (random) and 1.0 (perfect), measuring the prediction accuracy')\n",
    "    print('')\n",
    "    print('   * Recall (R) = The number of true positives / (the number of true positives + the number of false negatives)')\n",
    "    print('')\n",
    "    \n",
    "    # plotting\n",
    "    plt.figure(figsize=(10,4))\n",
    "\n",
    "    # ROC\n",
    "    plt.subplot(1,2,1)\n",
    "    plt.plot(fpr,tpr,color='darkorange',lw=2,label='ROC curve (aare=%0.2f)' % roc_auc)\n",
    "    plt.plot([0,1],[0,1],color='navy',lw=3,linestyle='--')\n",
    "    plt.xlim([0.0,1.0])\n",
    "    plt.ylim([0.0,1.05])\n",
    "    plt.xlabel('False Positive Rate')\n",
    "    plt.ylabel('True Positive Rate')\n",
    "    plt.title('Receiver operating characteristic: AUC={0:0.4f}'.format(roc_auc))\n",
    "    plt.legend(loc='lower right')\n",
    "\n",
    "    # Precision-Recall\n",
    "    plt.subplot(1,2,2)\n",
    "    precision,recall,_ = precision_recall_curve(y_actual,y_pred)\n",
    "    plt.step(recall,precision,color='b',alpha=0.2,where='post')\n",
    "    plt.fill_between(recall,precision,step='post',alpha=0.2,color='b')\n",
    "    plt.xlabel('Recall')\n",
    "    plt.ylabel('Precision')\n",
    "    plt.ylim([0.0,1.05])\n",
    "    plt.xlim([0.0,1.0])\n",
    "    plt.title('Precision-Recall curve: PR={0:0.4f}'.format(average_precision))\n",
    "    plt.show()\n",
    "    \n",
    "ROC_AUC(glm_v1,test_hex,'loan_default')"
   ]
  },
  {
   "cell_type": "code",
   "execution_count": 89,
   "metadata": {},
   "outputs": [
    {
     "data": {
      "text/html": [
       "<div>\n",
       "<style scoped>\n",
       "    .dataframe tbody tr th:only-of-type {\n",
       "        vertical-align: middle;\n",
       "    }\n",
       "\n",
       "    .dataframe tbody tr th {\n",
       "        vertical-align: top;\n",
       "    }\n",
       "\n",
       "    .dataframe thead th {\n",
       "        text-align: right;\n",
       "    }\n",
       "</style>\n",
       "<table border=\"1\" class=\"dataframe\">\n",
       "  <thead>\n",
       "    <tr style=\"text-align: right;\">\n",
       "      <th></th>\n",
       "      <th>names</th>\n",
       "      <th>coefficients</th>\n",
       "      <th>standardized_coefficients</th>\n",
       "    </tr>\n",
       "  </thead>\n",
       "  <tbody>\n",
       "    <tr>\n",
       "      <td>162</td>\n",
       "      <td>AP004</td>\n",
       "      <td>1.238482</td>\n",
       "      <td>0.262248</td>\n",
       "    </tr>\n",
       "    <tr>\n",
       "      <td>53</td>\n",
       "      <td>TD013</td>\n",
       "      <td>0.735834</td>\n",
       "      <td>0.154460</td>\n",
       "    </tr>\n",
       "    <tr>\n",
       "      <td>45</td>\n",
       "      <td>TD009</td>\n",
       "      <td>0.361749</td>\n",
       "      <td>0.076233</td>\n",
       "    </tr>\n",
       "    <tr>\n",
       "      <td>50</td>\n",
       "      <td>TD005</td>\n",
       "      <td>0.227438</td>\n",
       "      <td>0.046289</td>\n",
       "    </tr>\n",
       "    <tr>\n",
       "      <td>48</td>\n",
       "      <td>TD001</td>\n",
       "      <td>0.119937</td>\n",
       "      <td>0.024716</td>\n",
       "    </tr>\n",
       "    <tr>\n",
       "      <td>...</td>\n",
       "      <td>...</td>\n",
       "      <td>...</td>\n",
       "      <td>...</td>\n",
       "    </tr>\n",
       "    <tr>\n",
       "      <td>57</td>\n",
       "      <td>AP002</td>\n",
       "      <td>-0.106369</td>\n",
       "      <td>-0.047642</td>\n",
       "    </tr>\n",
       "    <tr>\n",
       "      <td>141</td>\n",
       "      <td>hour_8</td>\n",
       "      <td>-0.327530</td>\n",
       "      <td>-0.051490</td>\n",
       "    </tr>\n",
       "    <tr>\n",
       "      <td>1</td>\n",
       "      <td>MB005</td>\n",
       "      <td>-0.372240</td>\n",
       "      <td>-0.075689</td>\n",
       "    </tr>\n",
       "    <tr>\n",
       "      <td>65</td>\n",
       "      <td>AP003_3</td>\n",
       "      <td>-0.511553</td>\n",
       "      <td>-0.221945</td>\n",
       "    </tr>\n",
       "    <tr>\n",
       "      <td>66</td>\n",
       "      <td>AP003_4</td>\n",
       "      <td>-1.004737</td>\n",
       "      <td>-0.293998</td>\n",
       "    </tr>\n",
       "  </tbody>\n",
       "</table>\n",
       "<p>182 rows × 3 columns</p>\n",
       "</div>"
      ],
      "text/plain": [
       "       names  coefficients  standardized_coefficients\n",
       "162    AP004      1.238482                   0.262248\n",
       "53     TD013      0.735834                   0.154460\n",
       "45     TD009      0.361749                   0.076233\n",
       "50     TD005      0.227438                   0.046289\n",
       "48     TD001      0.119937                   0.024716\n",
       "..       ...           ...                        ...\n",
       "57     AP002     -0.106369                  -0.047642\n",
       "141   hour_8     -0.327530                  -0.051490\n",
       "1      MB005     -0.372240                  -0.075689\n",
       "65   AP003_3     -0.511553                  -0.221945\n",
       "66   AP003_4     -1.004737                  -0.293998\n",
       "\n",
       "[182 rows x 3 columns]"
      ]
     },
     "execution_count": 89,
     "metadata": {},
     "output_type": "execute_result"
    }
   ],
   "source": [
    "# Print the Coefficients table\n",
    "coefs = glm_v1._model_json['output']['coefficients_table'].as_data_frame()\n",
    "coefs = pd.DataFrame(coefs)\n",
    "coefs.sort_values(by='standardized_coefficients',ascending=False)\n",
    "#glm did automatically delt with categoricals"
   ]
  },
  {
   "cell_type": "markdown",
   "metadata": {},
   "source": [
    "#### parameter tunning"
   ]
  },
  {
   "cell_type": "markdown",
   "metadata": {},
   "source": [
    "##### lambda search"
   ]
  },
  {
   "cell_type": "code",
   "execution_count": 90,
   "metadata": {},
   "outputs": [
    {
     "name": "stdout",
     "output_type": "stream",
     "text": [
      "glm Model Build progress: |███████████████████████████████████████████████| 100%\n",
      "0.13188079074259593\n"
     ]
    }
   ],
   "source": [
    "#try using the `lambda_search` parameter (boolean):\n",
    "# initialize the estimator then train the model\n",
    "bestlam_glm = H2OGeneralizedLinearEstimator(family= \"binomial\", lambda_search = True)\n",
    "bestlam_glm.train(x=predictors, y=target,training_frame= train_hex,validation_frame= test_hex)\n",
    "\n",
    "# print the mse for the validation data\n",
    "print(bestlam_glm.mse(valid=True))"
   ]
  },
  {
   "cell_type": "code",
   "execution_count": 91,
   "metadata": {},
   "outputs": [
    {
     "name": "stdout",
     "output_type": "stream",
     "text": [
      "glm prediction progress: |████████████████████████████████████████████████| 100%\n",
      "   loan_default        p1\n",
      "0             1  0.967420\n",
      "1             0  0.041042\n",
      "2             0  0.369286\n",
      "3             0  0.117709\n",
      "4             0  0.022486\n",
      "glm prediction progress: |████████████████████████████████████████████████| 100%\n",
      "\n",
      "   * ROC curve: The ROC curve plots the true positive rate vs. the false rositive sate\n",
      "\n",
      "\t  * The area under the curve (AUC): A value between 0.5 (random) and 1.0 (perfect), measuring the prediction accuracy\n",
      "\n",
      "   * Recall (R) = The number of true positives / (the number of true positives + the number of false negatives)\n",
      "\n"
     ]
    },
    {
     "data": {
      "image/png": "[encoded data removed]",
      "text/plain": [
       "<Figure size 720x288 with 2 Axes>"
      ]
     },
     "metadata": {
      "needs_background": "light"
     },
     "output_type": "display_data"
    }
   ],
   "source": [
    "#predict using the above model\n",
    "c = bestlam_glm.predict(test_hex)\n",
    "predictions = c['p1']\n",
    "test_scores = test_hex['loan_default'].cbind(predictions).as_data_frame()\n",
    "print(test_scores.head())\n",
    "ROC_AUC(bestlam_glm,test_hex,'loan_default')"
   ]
  },
  {
   "cell_type": "markdown",
   "metadata": {},
   "source": [
    "If we use the built-in lamda function, in my case, the performance has been improved a lot."
   ]
  },
  {
   "cell_type": "markdown",
   "metadata": {},
   "source": [
    "##### grid (lambda, alpha) search"
   ]
  },
  {
   "cell_type": "code",
   "execution_count": 92,
   "metadata": {},
   "outputs": [
    {
     "name": "stdout",
     "output_type": "stream",
     "text": [
      "glm Grid Build progress: |████████████████████████████████████████████████| 100%\n",
      "                    alpha                 lambda  \\\n",
      "0                  [0.01]  [0.12099999999999998]   \n",
      "1                  [0.01]  [0.38099999999999995]   \n",
      "2    [0.7100000000000001]  [0.27099999999999996]   \n",
      "3                  [0.91]   [0.6409999999999999]   \n",
      "4    [0.7100000000000001]   [0.8609999999999999]   \n",
      "\n",
      "                                                               model_ids  \\\n",
      "0  Grid_GLM_Key_Frame__upload_a3ea6ad44d3ccdfe75b175de0d8441aa.hex_mo...   \n",
      "1  Grid_GLM_Key_Frame__upload_a3ea6ad44d3ccdfe75b175de0d8441aa.hex_mo...   \n",
      "2  Grid_GLM_Key_Frame__upload_a3ea6ad44d3ccdfe75b175de0d8441aa.hex_mo...   \n",
      "3  Grid_GLM_Key_Frame__upload_a3ea6ad44d3ccdfe75b175de0d8441aa.hex_mo...   \n",
      "4  Grid_GLM_Key_Frame__upload_a3ea6ad44d3ccdfe75b175de0d8441aa.hex_mo...   \n",
      "\n",
      "                   auc  \n",
      "0   0.8369172783528126  \n",
      "1   0.7883013467719585  \n",
      "2   0.4856139911449591  \n",
      "3   0.4836462914686528  \n",
      "4  0.48235829845759576  \n",
      "\n",
      "[0.12099999999999998]\n",
      "[0.01]\n"
     ]
    }
   ],
   "source": [
    "# select the values for lambda to grid over\n",
    "from h2o.grid.grid_search import H2OGridSearch\n",
    "hyper_params = {'lambda': list(np.arange(0.001,1,0.01)),\n",
    "               'alpha': list(np.arange(0.01,1,0.1))}\n",
    "\n",
    "search_criteria_dim_reduction= {'strategy': 'RandomDiscrete',\n",
    "                   'max_runtime_secs': 100,\n",
    "                   'max_models': 5,\n",
    "                   'stopping_metric': \"auto\",\n",
    "                   'stopping_tolerance': 0.001,\n",
    "                   'stopping_rounds': 5,\n",
    "                   'seed': 1234}\n",
    "\n",
    "glm_v2 = H2OGeneralizedLinearEstimator(family= \"binomial\",nfolds = 5,balance_classes = True)\n",
    "\n",
    "\n",
    "# Train and validate a cartesian grid of GLMs\n",
    "grid = H2OGridSearch(model = glm_v2,hyper_params=hyper_params,search_criteria=search_criteria_dim_reduction)\n",
    "\n",
    "grid.train(x=predictors, y=target,training_frame= train_hex,validation_frame= test_hex)\n",
    "\n",
    "# Get the grid results, sort the grid models by decreasing AUC\n",
    "grid_table = grid.get_grid(sort_by = 'auc', decreasing = True)\n",
    "print(grid_table)\n",
    "\n",
    "best = grid_table.models[0]\n",
    "best_lambda = best.actual_params['lambda']\n",
    "best_alpha = best.actual_params['alpha']\n",
    "print(best_lambda)\n",
    "print(best_alpha)"
   ]
  },
  {
   "cell_type": "code",
   "execution_count": 93,
   "metadata": {},
   "outputs": [
    {
     "name": "stdout",
     "output_type": "stream",
     "text": [
      "glm Model Build progress: |███████████████████████████████████████████████| 100%\n",
      "glm prediction progress: |████████████████████████████████████████████████| 100%\n",
      "glm prediction progress: |████████████████████████████████████████████████| 100%\n"
     ]
    },
    {
     "data": {
      "text/html": [
       "<table>\n",
       "<thead>\n",
       "<tr><th style=\"text-align: right;\">      p1</th></tr>\n",
       "</thead>\n",
       "<tbody>\n",
       "<tr><td style=\"text-align: right;\">0.642253</td></tr>\n",
       "<tr><td style=\"text-align: right;\">0.186811</td></tr>\n",
       "<tr><td style=\"text-align: right;\">0.405142</td></tr>\n",
       "<tr><td style=\"text-align: right;\">0.324332</td></tr>\n",
       "<tr><td style=\"text-align: right;\">0.138885</td></tr>\n",
       "<tr><td style=\"text-align: right;\">0.877848</td></tr>\n",
       "<tr><td style=\"text-align: right;\">0.706493</td></tr>\n",
       "<tr><td style=\"text-align: right;\">0.529823</td></tr>\n",
       "<tr><td style=\"text-align: right;\">0.24939 </td></tr>\n",
       "<tr><td style=\"text-align: right;\">0.167293</td></tr>\n",
       "</tbody>\n",
       "</table>"
      ]
     },
     "metadata": {},
     "output_type": "display_data"
    },
    {
     "name": "stdout",
     "output_type": "stream",
     "text": [
      "\n",
      "glm prediction progress: |████████████████████████████████████████████████| 100%\n",
      "   loan_default        p1\n",
      "0             1  0.642253\n",
      "1             0  0.186811\n",
      "2             0  0.405142\n",
      "3             0  0.324332\n",
      "4             0  0.138885\n",
      "glm prediction progress: |████████████████████████████████████████████████| 100%\n",
      "\n",
      "   * ROC curve: The ROC curve plots the true positive rate vs. the false rositive sate\n",
      "\n",
      "\t  * The area under the curve (AUC): A value between 0.5 (random) and 1.0 (perfect), measuring the prediction accuracy\n",
      "\n",
      "   * Recall (R) = The number of true positives / (the number of true positives + the number of false negatives)\n",
      "\n"
     ]
    },
    {
     "data": {
      "image/png": "[encoded data removed]",
      "text/plain": [
       "<Figure size 720x288 with 2 Axes>"
      ]
     },
     "metadata": {
      "needs_background": "light"
     },
     "output_type": "display_data"
    }
   ],
   "source": [
    "#try the above parameters\n",
    "glm_v2 = H2OGeneralizedLinearEstimator(family= \"binomial\", lambda_ = best_lambda, alpha = best_alpha) # compute_p_values = True)\n",
    "glm_v2.train(predictors,target,training_frame=train_hex)\n",
    "#predict using the above model\n",
    "glm_v2.predict(test_hex)\n",
    "print(glm_v2.predict(test_hex)['p1'])\n",
    "predictions = glm_v2.predict(test_hex)['p1']\n",
    "test_scores = test_hex['loan_default'].cbind(predictions).as_data_frame()\n",
    "print(test_scores.head())\n",
    "ROC_AUC(glm_v2,test_hex,'loan_default')"
   ]
  },
  {
   "cell_type": "markdown",
   "metadata": {},
   "source": [
    "Compared to the initial model, the AUC performance as well as PR worked better with lambda_search."
   ]
  },
  {
   "cell_type": "markdown",
   "metadata": {},
   "source": [
    "#### Now the code works fine with the small dataset, we can model with the entire dataset"
   ]
  },
  {
   "cell_type": "code",
   "execution_count": 94,
   "metadata": {},
   "outputs": [
    {
     "name": "stdout",
     "output_type": "stream",
     "text": [
      "Parse progress: |█████████████████████████████████████████████████████████| 100%\n",
      "Parse progress: |█████████████████████████████████████████████████████████| 100%\n",
      "Parse progress: |█████████████████████████████████████████████████████████| 100%\n"
     ]
    }
   ],
   "source": [
    "df1_hex = h2o.H2OFrame(df_1)\n",
    "train_hex = h2o.H2OFrame(train)\n",
    "test_hex = h2o.H2OFrame(test)"
   ]
  },
  {
   "cell_type": "code",
   "execution_count": 95,
   "metadata": {},
   "outputs": [
    {
     "name": "stdout",
     "output_type": "stream",
     "text": [
      "glm Model Build progress: |███████████████████████████████████████████████| 100%\n",
      "glm prediction progress: |████████████████████████████████████████████████| 100%\n",
      "glm prediction progress: |████████████████████████████████████████████████| 100%\n"
     ]
    },
    {
     "data": {
      "text/html": [
       "<table>\n",
       "<thead>\n",
       "<tr><th style=\"text-align: right;\">      p1</th></tr>\n",
       "</thead>\n",
       "<tbody>\n",
       "<tr><td style=\"text-align: right;\">0.44975 </td></tr>\n",
       "<tr><td style=\"text-align: right;\">0.431068</td></tr>\n",
       "<tr><td style=\"text-align: right;\">0.737734</td></tr>\n",
       "<tr><td style=\"text-align: right;\">0.434242</td></tr>\n",
       "<tr><td style=\"text-align: right;\">0.665413</td></tr>\n",
       "<tr><td style=\"text-align: right;\">0.463105</td></tr>\n",
       "<tr><td style=\"text-align: right;\">0.704751</td></tr>\n",
       "<tr><td style=\"text-align: right;\">0.571002</td></tr>\n",
       "<tr><td style=\"text-align: right;\">0.690974</td></tr>\n",
       "<tr><td style=\"text-align: right;\">0.269045</td></tr>\n",
       "</tbody>\n",
       "</table>"
      ]
     },
     "metadata": {},
     "output_type": "display_data"
    },
    {
     "name": "stdout",
     "output_type": "stream",
     "text": [
      "\n",
      "glm prediction progress: |████████████████████████████████████████████████| 100%\n",
      "   loan_default        p1\n",
      "0             0  0.449750\n",
      "1             1  0.431068\n",
      "2             1  0.737734\n",
      "3             1  0.434242\n",
      "4             1  0.665413\n",
      "glm prediction progress: |████████████████████████████████████████████████| 100%\n",
      "\n",
      "   * ROC curve: The ROC curve plots the true positive rate vs. the false rositive sate\n",
      "\n",
      "\t  * The area under the curve (AUC): A value between 0.5 (random) and 1.0 (perfect), measuring the prediction accuracy\n",
      "\n",
      "   * Recall (R) = The number of true positives / (the number of true positives + the number of false negatives)\n",
      "\n"
     ]
    },
    {
     "data": {
      "image/png": "[encoded data removed]",
      "text/plain": [
       "<Figure size 720x288 with 2 Axes>"
      ]
     },
     "metadata": {
      "needs_background": "light"
     },
     "output_type": "display_data"
    }
   ],
   "source": [
    "###using the parameter tuned by grid search\n",
    "glm_v3 = H2OGeneralizedLinearEstimator(family= \"binomial\", lambda_ = best_lambda, alpha = best_alpha) # compute_p_values = True)\n",
    "glm_v3.train(predictors,target,training_frame=train_hex)\n",
    "glm_v3.predict(test_hex)\n",
    "print(glm_v3.predict(test_hex)['p1'])\n",
    "predictions = glm_v3.predict(test_hex)['p1']\n",
    "test_scores = test_hex['loan_default'].cbind(predictions).as_data_frame()\n",
    "print(test_scores.head())\n",
    "ROC_AUC(glm_v3,test_hex,'loan_default')"
   ]
  },
  {
   "cell_type": "code",
   "execution_count": 96,
   "metadata": {},
   "outputs": [
    {
     "name": "stdout",
     "output_type": "stream",
     "text": [
      "glm Model Build progress: |███████████████████████████████████████████████| 100%\n",
      "glm prediction progress: |████████████████████████████████████████████████| 100%\n",
      "glm prediction progress: |████████████████████████████████████████████████| 100%\n"
     ]
    },
    {
     "data": {
      "text/html": [
       "<table>\n",
       "<thead>\n",
       "<tr><th style=\"text-align: right;\">       p1</th></tr>\n",
       "</thead>\n",
       "<tbody>\n",
       "<tr><td style=\"text-align: right;\">0.341533 </td></tr>\n",
       "<tr><td style=\"text-align: right;\">0.188376 </td></tr>\n",
       "<tr><td style=\"text-align: right;\">0.990259 </td></tr>\n",
       "<tr><td style=\"text-align: right;\">0.193494 </td></tr>\n",
       "<tr><td style=\"text-align: right;\">0.964127 </td></tr>\n",
       "<tr><td style=\"text-align: right;\">0.378808 </td></tr>\n",
       "<tr><td style=\"text-align: right;\">0.986496 </td></tr>\n",
       "<tr><td style=\"text-align: right;\">0.885791 </td></tr>\n",
       "<tr><td style=\"text-align: right;\">0.97596  </td></tr>\n",
       "<tr><td style=\"text-align: right;\">0.0986703</td></tr>\n",
       "</tbody>\n",
       "</table>"
      ]
     },
     "metadata": {},
     "output_type": "display_data"
    },
    {
     "name": "stdout",
     "output_type": "stream",
     "text": [
      "\n",
      "glm prediction progress: |████████████████████████████████████████████████| 100%\n",
      "   loan_default        p1\n",
      "0             0  0.341533\n",
      "1             1  0.188376\n",
      "2             1  0.990259\n",
      "3             1  0.193494\n",
      "4             1  0.964127\n",
      "glm prediction progress: |████████████████████████████████████████████████| 100%\n",
      "\n",
      "   * ROC curve: The ROC curve plots the true positive rate vs. the false rositive sate\n",
      "\n",
      "\t  * The area under the curve (AUC): A value between 0.5 (random) and 1.0 (perfect), measuring the prediction accuracy\n",
      "\n",
      "   * Recall (R) = The number of true positives / (the number of true positives + the number of false negatives)\n",
      "\n"
     ]
    },
    {
     "data": {
      "image/png": "[encoded data removed]",
      "text/plain": [
       "<Figure size 720x288 with 2 Axes>"
      ]
     },
     "metadata": {
      "needs_background": "light"
     },
     "output_type": "display_data"
    }
   ],
   "source": [
    "#using the lambda search\n",
    "glm_v4 = H2OGeneralizedLinearEstimator(family= \"binomial\", lambda_search = True) # compute_p_values = True)\n",
    "glm_v4.train(predictors,target,training_frame=train_hex)\n",
    "glm_v4.predict(test_hex)\n",
    "print(glm_v4.predict(test_hex)['p1'])\n",
    "predictions = glm_v4.predict(test_hex)['p1']\n",
    "test_scores = test_hex['loan_default'].cbind(predictions).as_data_frame()\n",
    "print(test_scores.head())\n",
    "ROC_AUC(glm_v4,test_hex,'loan_default')"
   ]
  },
  {
   "cell_type": "markdown",
   "metadata": {},
   "source": [
    "Obviously, in my case,'lambda search'produces better performance.And PR has been largely improved as well. "
   ]
  },
  {
   "cell_type": "code",
   "execution_count": 97,
   "metadata": {},
   "outputs": [
    {
     "name": "stdout",
     "output_type": "stream",
     "text": [
      "glm prediction progress: |████████████████████████████████████████████████| 100%\n"
     ]
    },
    {
     "data": {
      "text/html": [
       "<div>\n",
       "<style scoped>\n",
       "    .dataframe tbody tr th:only-of-type {\n",
       "        vertical-align: middle;\n",
       "    }\n",
       "\n",
       "    .dataframe tbody tr th {\n",
       "        vertical-align: top;\n",
       "    }\n",
       "\n",
       "    .dataframe thead th {\n",
       "        text-align: right;\n",
       "    }\n",
       "</style>\n",
       "<table border=\"1\" class=\"dataframe\">\n",
       "  <thead>\n",
       "    <tr style=\"text-align: right;\">\n",
       "      <th></th>\n",
       "      <th>count</th>\n",
       "      <th>actual</th>\n",
       "      <th>non_actual</th>\n",
       "      <th>cum_count</th>\n",
       "      <th>cum_actual</th>\n",
       "      <th>cum_non_actual</th>\n",
       "      <th>percent_cum_actual</th>\n",
       "      <th>percent_cum_non_actual</th>\n",
       "      <th>if_random</th>\n",
       "      <th>lift</th>\n",
       "      <th>K_S</th>\n",
       "      <th>gain</th>\n",
       "    </tr>\n",
       "    <tr>\n",
       "      <th>decile</th>\n",
       "      <th></th>\n",
       "      <th></th>\n",
       "      <th></th>\n",
       "      <th></th>\n",
       "      <th></th>\n",
       "      <th></th>\n",
       "      <th></th>\n",
       "      <th></th>\n",
       "      <th></th>\n",
       "      <th></th>\n",
       "      <th></th>\n",
       "      <th></th>\n",
       "    </tr>\n",
       "  </thead>\n",
       "  <tbody>\n",
       "    <tr>\n",
       "      <td>0</td>\n",
       "      <td>3871</td>\n",
       "      <td>3847</td>\n",
       "      <td>24</td>\n",
       "      <td>3871</td>\n",
       "      <td>3847</td>\n",
       "      <td>24</td>\n",
       "      <td>0.20</td>\n",
       "      <td>0.00</td>\n",
       "      <td>1930.2</td>\n",
       "      <td>1.99</td>\n",
       "      <td>20.0</td>\n",
       "      <td>99.38</td>\n",
       "    </tr>\n",
       "    <tr>\n",
       "      <td>1</td>\n",
       "      <td>3871</td>\n",
       "      <td>3810</td>\n",
       "      <td>61</td>\n",
       "      <td>7742</td>\n",
       "      <td>7657</td>\n",
       "      <td>85</td>\n",
       "      <td>0.40</td>\n",
       "      <td>0.00</td>\n",
       "      <td>3860.4</td>\n",
       "      <td>1.98</td>\n",
       "      <td>40.0</td>\n",
       "      <td>98.90</td>\n",
       "    </tr>\n",
       "    <tr>\n",
       "      <td>2</td>\n",
       "      <td>3871</td>\n",
       "      <td>3618</td>\n",
       "      <td>253</td>\n",
       "      <td>11613</td>\n",
       "      <td>11275</td>\n",
       "      <td>338</td>\n",
       "      <td>0.58</td>\n",
       "      <td>0.02</td>\n",
       "      <td>5790.6</td>\n",
       "      <td>1.95</td>\n",
       "      <td>56.0</td>\n",
       "      <td>97.09</td>\n",
       "    </tr>\n",
       "    <tr>\n",
       "      <td>3</td>\n",
       "      <td>3871</td>\n",
       "      <td>2395</td>\n",
       "      <td>1476</td>\n",
       "      <td>15484</td>\n",
       "      <td>13670</td>\n",
       "      <td>1814</td>\n",
       "      <td>0.71</td>\n",
       "      <td>0.09</td>\n",
       "      <td>7720.8</td>\n",
       "      <td>1.77</td>\n",
       "      <td>62.0</td>\n",
       "      <td>88.28</td>\n",
       "    </tr>\n",
       "    <tr>\n",
       "      <td>4</td>\n",
       "      <td>3870</td>\n",
       "      <td>1762</td>\n",
       "      <td>2108</td>\n",
       "      <td>19354</td>\n",
       "      <td>15432</td>\n",
       "      <td>3922</td>\n",
       "      <td>0.80</td>\n",
       "      <td>0.20</td>\n",
       "      <td>9651.0</td>\n",
       "      <td>1.60</td>\n",
       "      <td>60.0</td>\n",
       "      <td>79.74</td>\n",
       "    </tr>\n",
       "    <tr>\n",
       "      <td>5</td>\n",
       "      <td>3871</td>\n",
       "      <td>1332</td>\n",
       "      <td>2539</td>\n",
       "      <td>23225</td>\n",
       "      <td>16764</td>\n",
       "      <td>6461</td>\n",
       "      <td>0.87</td>\n",
       "      <td>0.33</td>\n",
       "      <td>11581.2</td>\n",
       "      <td>1.45</td>\n",
       "      <td>54.0</td>\n",
       "      <td>72.18</td>\n",
       "    </tr>\n",
       "    <tr>\n",
       "      <td>6</td>\n",
       "      <td>3871</td>\n",
       "      <td>1006</td>\n",
       "      <td>2865</td>\n",
       "      <td>27096</td>\n",
       "      <td>17770</td>\n",
       "      <td>9326</td>\n",
       "      <td>0.92</td>\n",
       "      <td>0.48</td>\n",
       "      <td>13511.4</td>\n",
       "      <td>1.32</td>\n",
       "      <td>44.0</td>\n",
       "      <td>65.58</td>\n",
       "    </tr>\n",
       "    <tr>\n",
       "      <td>7</td>\n",
       "      <td>3871</td>\n",
       "      <td>738</td>\n",
       "      <td>3133</td>\n",
       "      <td>30967</td>\n",
       "      <td>18508</td>\n",
       "      <td>12459</td>\n",
       "      <td>0.96</td>\n",
       "      <td>0.64</td>\n",
       "      <td>15441.6</td>\n",
       "      <td>1.20</td>\n",
       "      <td>32.0</td>\n",
       "      <td>59.77</td>\n",
       "    </tr>\n",
       "    <tr>\n",
       "      <td>8</td>\n",
       "      <td>3871</td>\n",
       "      <td>487</td>\n",
       "      <td>3384</td>\n",
       "      <td>34838</td>\n",
       "      <td>18995</td>\n",
       "      <td>15843</td>\n",
       "      <td>0.98</td>\n",
       "      <td>0.82</td>\n",
       "      <td>17371.8</td>\n",
       "      <td>1.09</td>\n",
       "      <td>16.0</td>\n",
       "      <td>54.52</td>\n",
       "    </tr>\n",
       "    <tr>\n",
       "      <td>9</td>\n",
       "      <td>3870</td>\n",
       "      <td>307</td>\n",
       "      <td>3563</td>\n",
       "      <td>38708</td>\n",
       "      <td>19302</td>\n",
       "      <td>19406</td>\n",
       "      <td>1.00</td>\n",
       "      <td>1.00</td>\n",
       "      <td>19302.0</td>\n",
       "      <td>1.00</td>\n",
       "      <td>0.0</td>\n",
       "      <td>49.87</td>\n",
       "    </tr>\n",
       "  </tbody>\n",
       "</table>\n",
       "</div>"
      ],
      "text/plain": [
       "        count  actual  non_actual  cum_count  cum_actual  cum_non_actual  \\\n",
       "decile                                                                     \n",
       "0        3871    3847          24       3871        3847              24   \n",
       "1        3871    3810          61       7742        7657              85   \n",
       "2        3871    3618         253      11613       11275             338   \n",
       "3        3871    2395        1476      15484       13670            1814   \n",
       "4        3870    1762        2108      19354       15432            3922   \n",
       "5        3871    1332        2539      23225       16764            6461   \n",
       "6        3871    1006        2865      27096       17770            9326   \n",
       "7        3871     738        3133      30967       18508           12459   \n",
       "8        3871     487        3384      34838       18995           15843   \n",
       "9        3870     307        3563      38708       19302           19406   \n",
       "\n",
       "        percent_cum_actual  percent_cum_non_actual  if_random  lift   K_S  \\\n",
       "decile                                                                      \n",
       "0                     0.20                    0.00     1930.2  1.99  20.0   \n",
       "1                     0.40                    0.00     3860.4  1.98  40.0   \n",
       "2                     0.58                    0.02     5790.6  1.95  56.0   \n",
       "3                     0.71                    0.09     7720.8  1.77  62.0   \n",
       "4                     0.80                    0.20     9651.0  1.60  60.0   \n",
       "5                     0.87                    0.33    11581.2  1.45  54.0   \n",
       "6                     0.92                    0.48    13511.4  1.32  44.0   \n",
       "7                     0.96                    0.64    15441.6  1.20  32.0   \n",
       "8                     0.98                    0.82    17371.8  1.09  16.0   \n",
       "9                     1.00                    1.00    19302.0  1.00   0.0   \n",
       "\n",
       "         gain  \n",
       "decile         \n",
       "0       99.38  \n",
       "1       98.90  \n",
       "2       97.09  \n",
       "3       88.28  \n",
       "4       79.74  \n",
       "5       72.18  \n",
       "6       65.58  \n",
       "7       59.77  \n",
       "8       54.52  \n",
       "9       49.87  "
      ]
     },
     "execution_count": 97,
     "metadata": {},
     "output_type": "execute_result"
    }
   ],
   "source": [
    "#gain tables\n",
    "createGains(glm_v4)"
   ]
  },
  {
   "cell_type": "markdown",
   "metadata": {},
   "source": [
    "Here we can see the lift in the first decile is almost 2. This suggests the model allows addressing almost two times more targets for this group, compared with addressing without the model, that is randomly. The first group covered 99% applicants who are loan defaulters, using no model we should inspect 50% defaulters and using the given model we should get almost 100% defaulters. \n",
    "\n",
    "(Gain at a given decile level is the ratio of cumulative number of targets (events) up to that decile to the total number of targets (events) in the entire data set. )"
   ]
  },
  {
   "cell_type": "code",
   "execution_count": 98,
   "metadata": {},
   "outputs": [
    {
     "data": {
      "text/html": [
       "<div>\n",
       "<style scoped>\n",
       "    .dataframe tbody tr th:only-of-type {\n",
       "        vertical-align: middle;\n",
       "    }\n",
       "\n",
       "    .dataframe tbody tr th {\n",
       "        vertical-align: top;\n",
       "    }\n",
       "\n",
       "    .dataframe thead th {\n",
       "        text-align: right;\n",
       "    }\n",
       "</style>\n",
       "<table border=\"1\" class=\"dataframe\">\n",
       "  <thead>\n",
       "    <tr style=\"text-align: right;\">\n",
       "      <th></th>\n",
       "      <th>names</th>\n",
       "      <th>coefficients</th>\n",
       "      <th>standardized_coefficients</th>\n",
       "    </tr>\n",
       "  </thead>\n",
       "  <tbody>\n",
       "    <tr>\n",
       "      <td>0</td>\n",
       "      <td>Intercept</td>\n",
       "      <td>10.030867</td>\n",
       "      <td>0.483929</td>\n",
       "    </tr>\n",
       "    <tr>\n",
       "      <td>212</td>\n",
       "      <td>AP004</td>\n",
       "      <td>2.057870</td>\n",
       "      <td>0.423248</td>\n",
       "    </tr>\n",
       "    <tr>\n",
       "      <td>145</td>\n",
       "      <td>CD114</td>\n",
       "      <td>2.049394</td>\n",
       "      <td>0.275768</td>\n",
       "    </tr>\n",
       "    <tr>\n",
       "      <td>103</td>\n",
       "      <td>TD013</td>\n",
       "      <td>1.072638</td>\n",
       "      <td>0.227251</td>\n",
       "    </tr>\n",
       "    <tr>\n",
       "      <td>158</td>\n",
       "      <td>CR018</td>\n",
       "      <td>0.557112</td>\n",
       "      <td>0.165958</td>\n",
       "    </tr>\n",
       "    <tr>\n",
       "      <td>...</td>\n",
       "      <td>...</td>\n",
       "      <td>...</td>\n",
       "      <td>...</td>\n",
       "    </tr>\n",
       "    <tr>\n",
       "      <td>192</td>\n",
       "      <td>hour_11</td>\n",
       "      <td>-3.857728</td>\n",
       "      <td>-0.963473</td>\n",
       "    </tr>\n",
       "    <tr>\n",
       "      <td>189</td>\n",
       "      <td>hour_15</td>\n",
       "      <td>-3.892653</td>\n",
       "      <td>-0.982071</td>\n",
       "    </tr>\n",
       "    <tr>\n",
       "      <td>40</td>\n",
       "      <td>MB007_IPHONE8</td>\n",
       "      <td>-4.596986</td>\n",
       "      <td>-1.072948</td>\n",
       "    </tr>\n",
       "    <tr>\n",
       "      <td>39</td>\n",
       "      <td>MB007_IPHONE7</td>\n",
       "      <td>-4.502457</td>\n",
       "      <td>-1.170518</td>\n",
       "    </tr>\n",
       "    <tr>\n",
       "      <td>85</td>\n",
       "      <td>MB007_WEB</td>\n",
       "      <td>-3.384088</td>\n",
       "      <td>-1.686757</td>\n",
       "    </tr>\n",
       "  </tbody>\n",
       "</table>\n",
       "<p>232 rows × 3 columns</p>\n",
       "</div>"
      ],
      "text/plain": [
       "             names  coefficients  standardized_coefficients\n",
       "0        Intercept     10.030867                   0.483929\n",
       "212          AP004      2.057870                   0.423248\n",
       "145          CD114      2.049394                   0.275768\n",
       "103          TD013      1.072638                   0.227251\n",
       "158          CR018      0.557112                   0.165958\n",
       "..             ...           ...                        ...\n",
       "192        hour_11     -3.857728                  -0.963473\n",
       "189        hour_15     -3.892653                  -0.982071\n",
       "40   MB007_IPHONE8     -4.596986                  -1.072948\n",
       "39   MB007_IPHONE7     -4.502457                  -1.170518\n",
       "85       MB007_WEB     -3.384088                  -1.686757\n",
       "\n",
       "[232 rows x 3 columns]"
      ]
     },
     "execution_count": 98,
     "metadata": {},
     "output_type": "execute_result"
    }
   ],
   "source": [
    "# Print the Coefficients table\n",
    "coefs = glm_v4._model_json['output']['coefficients_table'].as_data_frame()\n",
    "coefs = pd.DataFrame(coefs)\n",
    "coefs.sort_values(by='standardized_coefficients',ascending=False)"
   ]
  },
  {
   "cell_type": "markdown",
   "metadata": {},
   "source": [
    "### Model 2: AutoML"
   ]
  },
  {
   "cell_type": "markdown",
   "metadata": {},
   "source": [
    "Automated machine learning can be thought of as the standard machine learning process with the automation of some of the steps involved. AutoML very broadly includes:\n",
    "\n",
    "Automating certain parts of data preparation, e.g. imputation, standardization, feature selection, etc.\n",
    "\n",
    "Being able to generate various models automatically, e.g. random grid search, Bayesian Hyperparameter Optimization, etc.\n",
    "\n",
    "Getting the best model out of all the generated models, which most of the time is an Ensemble, e.g. ensemble selection, stacking, etc."
   ]
  },
  {
   "cell_type": "code",
   "execution_count": 124,
   "metadata": {},
   "outputs": [],
   "source": [
    "# To copy the dataset for this modelling\n",
    "df2 = df.copy()"
   ]
  },
  {
   "cell_type": "markdown",
   "metadata": {},
   "source": [
    "#### outliers: \n",
    "Since we will use tree-based algorithems which treat continuous variable as categorical variable as well, so the these modles are not sensitive to outliers at all and we do not need to cap or floor outliers here."
   ]
  },
  {
   "cell_type": "markdown",
   "metadata": {},
   "source": [
    "#### missing values"
   ]
  },
  {
   "cell_type": "markdown",
   "metadata": {},
   "source": [
    "Same with the data preprocessing for the previous tree-based algorithem.we just need to bin them "
   ]
  },
  {
   "cell_type": "code",
   "execution_count": 125,
   "metadata": {},
   "outputs": [
    {
     "data": {
      "text/html": [
       "<div>\n",
       "<style scoped>\n",
       "    .dataframe tbody tr th:only-of-type {\n",
       "        vertical-align: middle;\n",
       "    }\n",
       "\n",
       "    .dataframe tbody tr th {\n",
       "        vertical-align: top;\n",
       "    }\n",
       "\n",
       "    .dataframe thead th {\n",
       "        text-align: right;\n",
       "    }\n",
       "</style>\n",
       "<table border=\"1\" class=\"dataframe\">\n",
       "  <thead>\n",
       "    <tr style=\"text-align: right;\">\n",
       "      <th></th>\n",
       "      <th>Total</th>\n",
       "      <th>Percent</th>\n",
       "    </tr>\n",
       "  </thead>\n",
       "  <tbody>\n",
       "    <tr>\n",
       "      <td>PA030</td>\n",
       "      <td>69801</td>\n",
       "      <td>0.872513</td>\n",
       "    </tr>\n",
       "    <tr>\n",
       "      <td>PA023</td>\n",
       "      <td>57919</td>\n",
       "      <td>0.723988</td>\n",
       "    </tr>\n",
       "    <tr>\n",
       "      <td>PA031</td>\n",
       "      <td>57919</td>\n",
       "      <td>0.723988</td>\n",
       "    </tr>\n",
       "    <tr>\n",
       "      <td>PA029</td>\n",
       "      <td>55001</td>\n",
       "      <td>0.687512</td>\n",
       "    </tr>\n",
       "    <tr>\n",
       "      <td>PA022</td>\n",
       "      <td>52554</td>\n",
       "      <td>0.656925</td>\n",
       "    </tr>\n",
       "    <tr>\n",
       "      <td>PA028</td>\n",
       "      <td>52554</td>\n",
       "      <td>0.656925</td>\n",
       "    </tr>\n",
       "    <tr>\n",
       "      <td>TD022</td>\n",
       "      <td>19598</td>\n",
       "      <td>0.244975</td>\n",
       "    </tr>\n",
       "    <tr>\n",
       "      <td>TD023</td>\n",
       "      <td>7663</td>\n",
       "      <td>0.095787</td>\n",
       "    </tr>\n",
       "    <tr>\n",
       "      <td>TD024</td>\n",
       "      <td>3694</td>\n",
       "      <td>0.046175</td>\n",
       "    </tr>\n",
       "    <tr>\n",
       "      <td>CD115</td>\n",
       "      <td>3688</td>\n",
       "      <td>0.046100</td>\n",
       "    </tr>\n",
       "    <tr>\n",
       "      <td>CD113</td>\n",
       "      <td>3688</td>\n",
       "      <td>0.046100</td>\n",
       "    </tr>\n",
       "    <tr>\n",
       "      <td>CD114</td>\n",
       "      <td>3688</td>\n",
       "      <td>0.046100</td>\n",
       "    </tr>\n",
       "    <tr>\n",
       "      <td>CD008</td>\n",
       "      <td>3688</td>\n",
       "      <td>0.046100</td>\n",
       "    </tr>\n",
       "    <tr>\n",
       "      <td>CD117</td>\n",
       "      <td>3688</td>\n",
       "      <td>0.046100</td>\n",
       "    </tr>\n",
       "    <tr>\n",
       "      <td>CD118</td>\n",
       "      <td>3688</td>\n",
       "      <td>0.046100</td>\n",
       "    </tr>\n",
       "    <tr>\n",
       "      <td>CD106</td>\n",
       "      <td>3688</td>\n",
       "      <td>0.046100</td>\n",
       "    </tr>\n",
       "    <tr>\n",
       "      <td>CD107</td>\n",
       "      <td>3688</td>\n",
       "      <td>0.046100</td>\n",
       "    </tr>\n",
       "    <tr>\n",
       "      <td>CD071</td>\n",
       "      <td>3688</td>\n",
       "      <td>0.046100</td>\n",
       "    </tr>\n",
       "    <tr>\n",
       "      <td>CD101</td>\n",
       "      <td>3688</td>\n",
       "      <td>0.046100</td>\n",
       "    </tr>\n",
       "    <tr>\n",
       "      <td>CD100</td>\n",
       "      <td>3688</td>\n",
       "      <td>0.046100</td>\n",
       "    </tr>\n",
       "  </tbody>\n",
       "</table>\n",
       "</div>"
      ],
      "text/plain": [
       "       Total   Percent\n",
       "PA030  69801  0.872513\n",
       "PA023  57919  0.723988\n",
       "PA031  57919  0.723988\n",
       "PA029  55001  0.687512\n",
       "PA022  52554  0.656925\n",
       "PA028  52554  0.656925\n",
       "TD022  19598  0.244975\n",
       "TD023   7663  0.095787\n",
       "TD024   3694  0.046175\n",
       "CD115   3688  0.046100\n",
       "CD113   3688  0.046100\n",
       "CD114   3688  0.046100\n",
       "CD008   3688  0.046100\n",
       "CD117   3688  0.046100\n",
       "CD118   3688  0.046100\n",
       "CD106   3688  0.046100\n",
       "CD107   3688  0.046100\n",
       "CD071   3688  0.046100\n",
       "CD101   3688  0.046100\n",
       "CD100   3688  0.046100"
      ]
     },
     "execution_count": 125,
     "metadata": {},
     "output_type": "execute_result"
    }
   ],
   "source": [
    "total = df2.isnull().sum().sort_values(ascending=False)\n",
    "percent = (df2.isnull().sum()/df2.isnull().count()).sort_values(ascending=False)\n",
    "missing_data = pd.concat([total, percent], axis=1, keys=['Total', 'Percent'])\n",
    "missing_data.head(20)"
   ]
  },
  {
   "cell_type": "code",
   "execution_count": 126,
   "metadata": {},
   "outputs": [],
   "source": [
    "# then we should notice variable PA030,PA031,PA023,PA029,PA028,PA022 LOST MORE THAN 50% VALUES,\n",
    "# when we look into these variables, we could find they do not carry any important information\n",
    "# because they only have 1 value (0) across the whole data set.\n",
    "# Therefore, I will drop them as well\n",
    "#'TD025,026,027,028,029' and'CR012',\n",
    "df2.drop(['PA030','PA031','PA023','PA029','PA028','PA022'],axis=1,inplace=True)"
   ]
  },
  {
   "cell_type": "markdown",
   "metadata": {},
   "source": [
    "#### categoricals and numericals"
   ]
  },
  {
   "cell_type": "code",
   "execution_count": 127,
   "metadata": {},
   "outputs": [],
   "source": [
    "#Create list with categorical features' names.\n",
    "#AP003 education level (ordinal)\n",
    "nonum_feats_names = ['month', 'hour', 'day', 'year', 'DayofWeek', 'AP006', 'MB007','AP003']\n",
    "#Create list with numerical features' names.\n",
    "num_cols_names = list(set(list(df2.columns)).difference(set(nonum_feats_names)))\n",
    "num_cols_names.remove('loan_default')\n",
    "num_cols_names.remove('id')"
   ]
  },
  {
   "cell_type": "markdown",
   "metadata": {},
   "source": [
    "#### binning numbericals"
   ]
  },
  {
   "cell_type": "code",
   "execution_count": 128,
   "metadata": {},
   "outputs": [],
   "source": [
    "#binning numbericals\n",
    "#we use cut and qcut to convert a numerical column into a categorical one,\n",
    "#perhaps to make it better suited for a machine learning model (in case of a fairly skewed numerical column), or just for better analyzing the data at hand. \n",
    "for col in num_cols_names:\n",
    "    df2[col] = pd.qcut(df2[col],10,duplicates='drop',labels=False)"
   ]
  },
  {
   "cell_type": "code",
   "execution_count": 129,
   "metadata": {},
   "outputs": [
    {
     "data": {
      "text/html": [
       "<div>\n",
       "<style scoped>\n",
       "    .dataframe tbody tr th:only-of-type {\n",
       "        vertical-align: middle;\n",
       "    }\n",
       "\n",
       "    .dataframe tbody tr th {\n",
       "        vertical-align: top;\n",
       "    }\n",
       "\n",
       "    .dataframe thead th {\n",
       "        text-align: right;\n",
       "    }\n",
       "</style>\n",
       "<table border=\"1\" class=\"dataframe\">\n",
       "  <thead>\n",
       "    <tr style=\"text-align: right;\">\n",
       "      <th></th>\n",
       "      <th>Total</th>\n",
       "      <th>Percent</th>\n",
       "    </tr>\n",
       "  </thead>\n",
       "  <tbody>\n",
       "    <tr>\n",
       "      <td>TD028</td>\n",
       "      <td>80000</td>\n",
       "      <td>1.000000</td>\n",
       "    </tr>\n",
       "    <tr>\n",
       "      <td>TD025</td>\n",
       "      <td>80000</td>\n",
       "      <td>1.000000</td>\n",
       "    </tr>\n",
       "    <tr>\n",
       "      <td>TD026</td>\n",
       "      <td>80000</td>\n",
       "      <td>1.000000</td>\n",
       "    </tr>\n",
       "    <tr>\n",
       "      <td>TD027</td>\n",
       "      <td>80000</td>\n",
       "      <td>1.000000</td>\n",
       "    </tr>\n",
       "    <tr>\n",
       "      <td>TD029</td>\n",
       "      <td>80000</td>\n",
       "      <td>1.000000</td>\n",
       "    </tr>\n",
       "    <tr>\n",
       "      <td>CR012</td>\n",
       "      <td>80000</td>\n",
       "      <td>1.000000</td>\n",
       "    </tr>\n",
       "    <tr>\n",
       "      <td>TD022</td>\n",
       "      <td>19598</td>\n",
       "      <td>0.244975</td>\n",
       "    </tr>\n",
       "    <tr>\n",
       "      <td>TD023</td>\n",
       "      <td>7663</td>\n",
       "      <td>0.095787</td>\n",
       "    </tr>\n",
       "    <tr>\n",
       "      <td>TD024</td>\n",
       "      <td>3694</td>\n",
       "      <td>0.046175</td>\n",
       "    </tr>\n",
       "    <tr>\n",
       "      <td>CD114</td>\n",
       "      <td>3688</td>\n",
       "      <td>0.046100</td>\n",
       "    </tr>\n",
       "  </tbody>\n",
       "</table>\n",
       "</div>"
      ],
      "text/plain": [
       "       Total   Percent\n",
       "TD028  80000  1.000000\n",
       "TD025  80000  1.000000\n",
       "TD026  80000  1.000000\n",
       "TD027  80000  1.000000\n",
       "TD029  80000  1.000000\n",
       "CR012  80000  1.000000\n",
       "TD022  19598  0.244975\n",
       "TD023   7663  0.095787\n",
       "TD024   3694  0.046175\n",
       "CD114   3688  0.046100"
      ]
     },
     "execution_count": 129,
     "metadata": {},
     "output_type": "execute_result"
    }
   ],
   "source": [
    "#check missing values again \n",
    "total = df2.isnull().sum().sort_values(ascending=False)\n",
    "percent = (df2.isnull().sum()/df2.isnull().count()).sort_values(ascending=False)\n",
    "missing_data = pd.concat([total, percent], axis=1, keys=['Total', 'Percent'])\n",
    "missing_data.head(10)"
   ]
  },
  {
   "cell_type": "code",
   "execution_count": 130,
   "metadata": {},
   "outputs": [],
   "source": [
    "# then we should notice variable #'TD025,026,027,028,029' and'CR012',year are 100% missing values,\n",
    "# when we look into these variables, we could find they do not carry any important information\n",
    "# because they only have 1 value (0) across the whole data set.\n",
    "# Therefore, I will drop them as well\n",
    "\n",
    "####\n",
    "##the NaN values are kept as NaNs in the output result as well, but it is ok, since the tree-based will treat them as categoricals\n",
    "df2.drop(['TD025','TD026','TD027','TD028','TD029','year','CR012'],axis=1,inplace=True)"
   ]
  },
  {
   "cell_type": "code",
   "execution_count": 131,
   "metadata": {},
   "outputs": [],
   "source": [
    "#update numerical features' names.\n",
    "num_cols_names = list(set(list(df2.columns)).difference(set(nonum_feats_names)))"
   ]
  },
  {
   "cell_type": "markdown",
   "metadata": {},
   "source": [
    "#### categorical variable"
   ]
  },
  {
   "cell_type": "code",
   "execution_count": 132,
   "metadata": {},
   "outputs": [
    {
     "name": "stdout",
     "output_type": "stream",
     "text": [
      "<class 'pandas.core.frame.DataFrame'>\n",
      "RangeIndex: 80000 entries, 0 to 79999\n",
      "Columns: 181 entries, month_4 to AP003_6\n",
      "dtypes: uint8(181)\n",
      "memory usage: 13.8 MB\n"
     ]
    }
   ],
   "source": [
    "#Ap002 gender\n",
    "# in oreder to standardlize, \n",
    "# change 1 to 0, 2 to 1\n",
    "df2['AP002'] = df2['AP002'] - 1\n",
    "\n",
    "#one-hot encoding (get dummies)\n",
    "#One-hot-code categorical variables and dropping the reference value.\n",
    "ohc_feats = pd.get_dummies(nonum_feats,drop_first=True)\n",
    "ohc_feats.info()"
   ]
  },
  {
   "cell_type": "code",
   "execution_count": 133,
   "metadata": {},
   "outputs": [],
   "source": [
    "df_2 = pd.concat([df2[num_cols_names], ohc_feats],axis=1) #df2 do not contain target variable"
   ]
  },
  {
   "cell_type": "code",
   "execution_count": 134,
   "metadata": {},
   "outputs": [
    {
     "data": {
      "text/plain": [
       "Index(['TD022', 'TD023', 'TD024', 'CD153', 'CD162', 'CD133', 'CD172', 'CD173',\n",
       "       'CD106', 'CD121', 'CD108', 'CD123', 'CD160', 'CD118', 'CD132', 'CD130',\n",
       "       'CD135', 'CD167', 'CD170', 'CD100', 'CD008', 'CD152', 'CD115', 'CD113',\n",
       "       'CD169', 'CD018', 'CD136', 'CD166', 'CD120', 'CD137', 'CD107', 'CD088',\n",
       "       'CD071', 'CD164', 'CD131', 'CD072', 'CD101', 'CD117', 'CD114', 'MB005'],\n",
       "      dtype='object')"
      ]
     },
     "execution_count": 134,
     "metadata": {},
     "output_type": "execute_result"
    }
   ],
   "source": [
    "#fill na with median as well\n",
    "def null_cell(df):\n",
    "    missing_values = df.isnull().sum()\n",
    "    missing_values_per = df.isnull().sum() / df.isnull().count()\n",
    "    null_values = pd.concat([missing_values, missing_values_per],axis=1, keys = ['the_null','the_null_perc'])\n",
    "    null_values = null_values.sort_values('the_null',ascending=False)\n",
    "    return null_values[null_values['the_null']>0]\n",
    "\n",
    "fill_list = (null_cell(df_2)).index\n",
    "fill_list"
   ]
  },
  {
   "cell_type": "code",
   "execution_count": 135,
   "metadata": {},
   "outputs": [],
   "source": [
    "for col in fill_list:\n",
    "    df_2.loc[:,col].fillna(df_2.loc[:,col].median(),inplace=True)"
   ]
  },
  {
   "cell_type": "markdown",
   "metadata": {},
   "source": [
    "#### predictor and target"
   ]
  },
  {
   "cell_type": "code",
   "execution_count": 136,
   "metadata": {},
   "outputs": [
    {
     "data": {
      "text/html": [
       "<div>\n",
       "<style scoped>\n",
       "    .dataframe tbody tr th:only-of-type {\n",
       "        vertical-align: middle;\n",
       "    }\n",
       "\n",
       "    .dataframe tbody tr th {\n",
       "        vertical-align: top;\n",
       "    }\n",
       "\n",
       "    .dataframe thead th {\n",
       "        text-align: right;\n",
       "    }\n",
       "</style>\n",
       "<table border=\"1\" class=\"dataframe\">\n",
       "  <thead>\n",
       "    <tr style=\"text-align: right;\">\n",
       "      <th></th>\n",
       "      <th>varname</th>\n",
       "      <th>dtype</th>\n",
       "      <th>source</th>\n",
       "    </tr>\n",
       "  </thead>\n",
       "  <tbody>\n",
       "    <tr>\n",
       "      <td>0</td>\n",
       "      <td>CR005</td>\n",
       "      <td>int64</td>\n",
       "      <td>CR</td>\n",
       "    </tr>\n",
       "    <tr>\n",
       "      <td>1</td>\n",
       "      <td>TD009</td>\n",
       "      <td>int64</td>\n",
       "      <td>TD</td>\n",
       "    </tr>\n",
       "    <tr>\n",
       "      <td>2</td>\n",
       "      <td>AP002</td>\n",
       "      <td>int64</td>\n",
       "      <td>AP</td>\n",
       "    </tr>\n",
       "    <tr>\n",
       "      <td>3</td>\n",
       "      <td>CD018</td>\n",
       "      <td>float64</td>\n",
       "      <td>CD</td>\n",
       "    </tr>\n",
       "    <tr>\n",
       "      <td>4</td>\n",
       "      <td>AP007</td>\n",
       "      <td>int64</td>\n",
       "      <td>AP</td>\n",
       "    </tr>\n",
       "    <tr>\n",
       "      <td>5</td>\n",
       "      <td>TD024</td>\n",
       "      <td>float64</td>\n",
       "      <td>TD</td>\n",
       "    </tr>\n",
       "    <tr>\n",
       "      <td>6</td>\n",
       "      <td>CD136</td>\n",
       "      <td>float64</td>\n",
       "      <td>CD</td>\n",
       "    </tr>\n",
       "    <tr>\n",
       "      <td>7</td>\n",
       "      <td>CD166</td>\n",
       "      <td>float64</td>\n",
       "      <td>CD</td>\n",
       "    </tr>\n",
       "    <tr>\n",
       "      <td>8</td>\n",
       "      <td>CD120</td>\n",
       "      <td>float64</td>\n",
       "      <td>CD</td>\n",
       "    </tr>\n",
       "    <tr>\n",
       "      <td>9</td>\n",
       "      <td>CD137</td>\n",
       "      <td>float64</td>\n",
       "      <td>CD</td>\n",
       "    </tr>\n",
       "  </tbody>\n",
       "</table>\n",
       "</div>"
      ],
      "text/plain": [
       "  varname    dtype source\n",
       "0   CR005    int64     CR\n",
       "1   TD009    int64     TD\n",
       "2   AP002    int64     AP\n",
       "3   CD018  float64     CD\n",
       "4   AP007    int64     AP\n",
       "5   TD024  float64     TD\n",
       "6   CD136  float64     CD\n",
       "7   CD166  float64     CD\n",
       "8   CD120  float64     CD\n",
       "9   CD137  float64     CD"
      ]
     },
     "execution_count": 136,
     "metadata": {},
     "output_type": "execute_result"
    }
   ],
   "source": [
    "var = pd.DataFrame(df_2.dtypes).reset_index()\n",
    "var.columns = ['varname','dtype'] \n",
    "var['source'] = var['varname'].str[:2]\n",
    "var.head(10)"
   ]
  },
  {
   "cell_type": "code",
   "execution_count": 137,
   "metadata": {},
   "outputs": [
    {
     "data": {
      "text/plain": [
       "MB    112\n",
       "CD     36\n",
       "da     30\n",
       "ho     23\n",
       "AP     13\n",
       "TD     12\n",
       "CR      7\n",
       "Da      6\n",
       "mo      4\n",
       "lo      1\n",
       "id      1\n",
       "Name: source, dtype: int64"
      ]
     },
     "execution_count": 137,
     "metadata": {},
     "output_type": "execute_result"
    }
   ],
   "source": [
    "var['source'].value_counts()"
   ]
  },
  {
   "cell_type": "code",
   "execution_count": 138,
   "metadata": {},
   "outputs": [],
   "source": [
    "# \"AP004\" is a bad data field and should be removed.\n",
    "MB_list = list(var[var['source']=='MB']['varname'])\n",
    "AP_list = list(var[(var['source']=='AP') & (var['varname']!='AP004')]['varname'])\n",
    "TD_list = list(var[var['source']=='TD']['varname'])\n",
    "CR_list = list(var[var['source']=='CR']['varname'])\n",
    "PA_list = list(var[var['source']=='PA']['varname'])\n",
    "CD_list = list(var[var['source']=='CD']['varname'])\n",
    "# other remaining variables to get a other_list\n",
    "other_list = list(set(list(df_2.columns)).difference(set(MB_list+AP_list+TD_list+CR_list+PA_list+CD_list)))"
   ]
  },
  {
   "cell_type": "code",
   "execution_count": 139,
   "metadata": {},
   "outputs": [],
   "source": [
    "predictors = MB_list + TD_list + AP_list + CD_list + CR_list + PA_list + other_list\n",
    "target='loan_default'"
   ]
  },
  {
   "cell_type": "markdown",
   "metadata": {},
   "source": [
    "#### oversampling"
   ]
  },
  {
   "cell_type": "code",
   "execution_count": 140,
   "metadata": {},
   "outputs": [
    {
     "data": {
      "text/plain": [
       "0"
      ]
     },
     "execution_count": 140,
     "metadata": {},
     "output_type": "execute_result"
    }
   ],
   "source": [
    "sum(df_2.isna().sum())"
   ]
  },
  {
   "cell_type": "code",
   "execution_count": 141,
   "metadata": {},
   "outputs": [
    {
     "name": "stdout",
     "output_type": "stream",
     "text": [
      "Random undersampling Counter({0: 64512, 1: 62878})\n"
     ]
    }
   ],
   "source": [
    "from imblearn.over_sampling import ADASYN\n",
    "from collections import Counter\n",
    "\n",
    "X = df_2[predictors]\n",
    "y = df2[target]\n",
    "\n",
    "oversample = ADASYN()\n",
    "X_rs, y_rs = oversample.fit_sample(X,y)\n",
    "\n",
    "print('Random undersampling {}'.format(Counter(y_rs)))"
   ]
  },
  {
   "cell_type": "code",
   "execution_count": 142,
   "metadata": {},
   "outputs": [],
   "source": [
    "y_rs = y_rs.to_frame()\n",
    "\n",
    "df2_oversample = X_rs.copy()\n",
    "df2_oversample['loan_default'] = y_rs['loan_default'].tolist()"
   ]
  },
  {
   "cell_type": "markdown",
   "metadata": {},
   "source": [
    "#### train test split"
   ]
  },
  {
   "cell_type": "code",
   "execution_count": 143,
   "metadata": {},
   "outputs": [
    {
     "name": "stdout",
     "output_type": "stream",
     "text": [
      "train: 89173\n",
      "test: 38217\n"
     ]
    }
   ],
   "source": [
    "#train test split 7:3\n",
    "from sklearn.model_selection import train_test_split\n",
    "train, test = train_test_split(df2_oversample, test_size=0.30, random_state=42)\n",
    "print('train:',len(train));print('test:', len(test))"
   ]
  },
  {
   "cell_type": "markdown",
   "metadata": {},
   "source": [
    "#### modelling"
   ]
  },
  {
   "cell_type": "code",
   "execution_count": 144,
   "metadata": {},
   "outputs": [
    {
     "name": "stdout",
     "output_type": "stream",
     "text": [
      "Parse progress: |█████████████████████████████████████████████████████████| 100%\n",
      "Parse progress: |█████████████████████████████████████████████████████████| 100%\n"
     ]
    }
   ],
   "source": [
    "train_smpl = train.sample(frac=0.1, random_state=1)\n",
    "test_smpl = test.sample(frac=0.1, random_state=1)\n",
    "train_hex = h2o.H2OFrame(train_smpl)\n",
    "test_hex = h2o.H2OFrame(test_smpl)"
   ]
  },
  {
   "cell_type": "code",
   "execution_count": 145,
   "metadata": {},
   "outputs": [
    {
     "name": "stdout",
     "output_type": "stream",
     "text": [
      "AutoML progress: |████████████████████████████████████████████████████████| 100%\n"
     ]
    }
   ],
   "source": [
    "# Run AutoML for 20 base models (limited to 1 hour max runtime by default)\n",
    "aml_v1 = H2OAutoML(max_runtime_secs = 600, max_models=20, seed=1234) #set up 10min max runtime\n",
    "aml_v1.train(predictors,target,training_frame=train_hex)"
   ]
  },
  {
   "cell_type": "code",
   "execution_count": 146,
   "metadata": {},
   "outputs": [
    {
     "data": {
      "text/html": [
       "<table>\n",
       "<thead>\n",
       "<tr><th>model_id                                           </th><th style=\"text-align: right;\">  mean_residual_deviance</th><th style=\"text-align: right;\">    rmse</th><th style=\"text-align: right;\">      mse</th><th style=\"text-align: right;\">     mae</th><th style=\"text-align: right;\">   rmsle</th></tr>\n",
       "</thead>\n",
       "<tbody>\n",
       "<tr><td>StackedEnsemble_AllModels_AutoML_20200802_142520   </td><td style=\"text-align: right;\">               0.0961466</td><td style=\"text-align: right;\">0.310075</td><td style=\"text-align: right;\">0.0961466</td><td style=\"text-align: right;\">0.206403</td><td style=\"text-align: right;\">0.218185</td></tr>\n",
       "<tr><td>StackedEnsemble_BestOfFamily_AutoML_20200802_142520</td><td style=\"text-align: right;\">               0.0964843</td><td style=\"text-align: right;\">0.310619</td><td style=\"text-align: right;\">0.0964843</td><td style=\"text-align: right;\">0.20739 </td><td style=\"text-align: right;\">0.218776</td></tr>\n",
       "<tr><td>GLM_1_AutoML_20200802_142520                       </td><td style=\"text-align: right;\">               0.101918 </td><td style=\"text-align: right;\">0.319246</td><td style=\"text-align: right;\">0.101918 </td><td style=\"text-align: right;\">0.22841 </td><td style=\"text-align: right;\">0.224448</td></tr>\n",
       "<tr><td>DeepLearning_1_AutoML_20200802_142520              </td><td style=\"text-align: right;\">               0.102766 </td><td style=\"text-align: right;\">0.320572</td><td style=\"text-align: right;\">0.102766 </td><td style=\"text-align: right;\">0.182701</td><td style=\"text-align: right;\">0.225377</td></tr>\n",
       "<tr><td>GBM_3_AutoML_20200802_142520                       </td><td style=\"text-align: right;\">               0.105919 </td><td style=\"text-align: right;\">0.325452</td><td style=\"text-align: right;\">0.105919 </td><td style=\"text-align: right;\">0.235072</td><td style=\"text-align: right;\">0.230619</td></tr>\n",
       "<tr><td>GBM_1_AutoML_20200802_142520                       </td><td style=\"text-align: right;\">               0.106244 </td><td style=\"text-align: right;\">0.325951</td><td style=\"text-align: right;\">0.106244 </td><td style=\"text-align: right;\">0.239878</td><td style=\"text-align: right;\">0.230685</td></tr>\n",
       "<tr><td>GBM_2_AutoML_20200802_142520                       </td><td style=\"text-align: right;\">               0.106464 </td><td style=\"text-align: right;\">0.326288</td><td style=\"text-align: right;\">0.106464 </td><td style=\"text-align: right;\">0.237691</td><td style=\"text-align: right;\">0.230665</td></tr>\n",
       "<tr><td>GBM_5_AutoML_20200802_142520                       </td><td style=\"text-align: right;\">               0.106894 </td><td style=\"text-align: right;\">0.326946</td><td style=\"text-align: right;\">0.106894 </td><td style=\"text-align: right;\">0.242855</td><td style=\"text-align: right;\">0.229401</td></tr>\n",
       "<tr><td>GBM_grid__1_AutoML_20200802_142520_model_1         </td><td style=\"text-align: right;\">               0.108413 </td><td style=\"text-align: right;\">0.329261</td><td style=\"text-align: right;\">0.108413 </td><td style=\"text-align: right;\">0.250105</td><td style=\"text-align: right;\">0.232684</td></tr>\n",
       "<tr><td>GBM_4_AutoML_20200802_142520                       </td><td style=\"text-align: right;\">               0.108442 </td><td style=\"text-align: right;\">0.329305</td><td style=\"text-align: right;\">0.108442 </td><td style=\"text-align: right;\">0.23851 </td><td style=\"text-align: right;\">0.233928</td></tr>\n",
       "</tbody>\n",
       "</table>"
      ]
     },
     "metadata": {},
     "output_type": "display_data"
    },
    {
     "data": {
      "text/plain": []
     },
     "execution_count": 146,
     "metadata": {},
     "output_type": "execute_result"
    }
   ],
   "source": [
    "aml_v1.leaderboard.head()"
   ]
  },
  {
   "cell_type": "code",
   "execution_count": 147,
   "metadata": {},
   "outputs": [
    {
     "name": "stdout",
     "output_type": "stream",
     "text": [
      "stackedensemble prediction progress: |████████████████████████████████████| 100%\n"
     ]
    },
    {
     "data": {
      "text/html": [
       "<table>\n",
       "<thead>\n",
       "<tr><th style=\"text-align: right;\">  predict</th></tr>\n",
       "</thead>\n",
       "<tbody>\n",
       "<tr><td style=\"text-align: right;\"> 0.156729</td></tr>\n",
       "<tr><td style=\"text-align: right;\"> 0.108067</td></tr>\n",
       "<tr><td style=\"text-align: right;\"> 0.244134</td></tr>\n",
       "<tr><td style=\"text-align: right;\"> 0.879764</td></tr>\n",
       "<tr><td style=\"text-align: right;\"> 0.969602</td></tr>\n",
       "<tr><td style=\"text-align: right;\"> 0.938295</td></tr>\n",
       "<tr><td style=\"text-align: right;\"> 0.100895</td></tr>\n",
       "<tr><td style=\"text-align: right;\"> 0.941023</td></tr>\n",
       "<tr><td style=\"text-align: right;\"> 0.147083</td></tr>\n",
       "<tr><td style=\"text-align: right;\"> 0.994112</td></tr>\n",
       "</tbody>\n",
       "</table>"
      ]
     },
     "metadata": {},
     "output_type": "display_data"
    },
    {
     "data": {
      "text/plain": []
     },
     "execution_count": 147,
     "metadata": {},
     "output_type": "execute_result"
    }
   ],
   "source": [
    "#predict using leader model\n",
    "pred = aml_v1.predict(test_hex)\n",
    "pred.head()"
   ]
  },
  {
   "cell_type": "code",
   "execution_count": 148,
   "metadata": {},
   "outputs": [
    {
     "name": "stdout",
     "output_type": "stream",
     "text": [
      "\n",
      "ModelMetricsRegressionGLM: stackedensemble\n",
      "** Reported on test data. **\n",
      "\n",
      "MSE: 0.09847804884320484\n",
      "RMSE: 0.3138121234802837\n",
      "MAE: 0.21031967584856842\n",
      "RMSLE: 0.22074325586122984\n",
      "R^2: 0.6060032207944808\n",
      "Mean Residual Deviance: 0.09847804884320484\n",
      "Null degrees of freedom: 3821\n",
      "Residual degrees of freedom: 3808\n",
      "Null deviance: 955.3446298121698\n",
      "Residual deviance: 376.3831026787289\n",
      "AIC: 2017.2697543065894\n"
     ]
    },
    {
     "data": {
      "text/plain": []
     },
     "execution_count": 148,
     "metadata": {},
     "output_type": "execute_result"
    }
   ],
   "source": [
    "perf = aml_v1.leader.model_performance(test_hex)\n",
    "perf"
   ]
  },
  {
   "cell_type": "markdown",
   "metadata": {},
   "source": [
    "#### Ensemble Exploration"
   ]
  },
  {
   "cell_type": "code",
   "execution_count": 149,
   "metadata": {},
   "outputs": [],
   "source": [
    "# Get model ids for all models in the AutoML Leaderboard\n",
    "model_ids = list(aml_v1.leaderboard['model_id'].as_data_frame().iloc[:,0])\n",
    "# Get the \"All Models\" Stacked Ensemble model\n",
    "se = h2o.get_model([mid for mid in model_ids if \"StackedEnsemble_AllModels\" in mid][0])\n",
    "# Get the Stacked Ensemble metalearner model\n",
    "metalearner = h2o.get_model(se.metalearner()['name'])"
   ]
  },
  {
   "cell_type": "code",
   "execution_count": 150,
   "metadata": {},
   "outputs": [
    {
     "data": {
      "image/png": "[encoded data removed]",
      "text/plain": [
       "<Figure size 1008x720 with 1 Axes>"
      ]
     },
     "metadata": {
      "needs_background": "light"
     },
     "output_type": "display_data"
    }
   ],
   "source": [
    "#The following shows us how much each base learner is contributing to the ensemble.\n",
    "metalearner.std_coef_plot()"
   ]
  },
  {
   "cell_type": "markdown",
   "metadata": {},
   "source": [
    "#### Evaluation"
   ]
  },
  {
   "cell_type": "code",
   "execution_count": 151,
   "metadata": {},
   "outputs": [
    {
     "name": "stdout",
     "output_type": "stream",
     "text": [
      "stackedensemble prediction progress: |████████████████████████████████████| 100%\n"
     ]
    },
    {
     "data": {
      "text/html": [
       "<div>\n",
       "<style scoped>\n",
       "    .dataframe tbody tr th:only-of-type {\n",
       "        vertical-align: middle;\n",
       "    }\n",
       "\n",
       "    .dataframe tbody tr th {\n",
       "        vertical-align: top;\n",
       "    }\n",
       "\n",
       "    .dataframe thead th {\n",
       "        text-align: right;\n",
       "    }\n",
       "</style>\n",
       "<table border=\"1\" class=\"dataframe\">\n",
       "  <thead>\n",
       "    <tr style=\"text-align: right;\">\n",
       "      <th></th>\n",
       "      <th>count</th>\n",
       "      <th>actual</th>\n",
       "      <th>non_actual</th>\n",
       "      <th>cum_count</th>\n",
       "      <th>cum_actual</th>\n",
       "      <th>cum_non_actual</th>\n",
       "      <th>percent_cum_actual</th>\n",
       "      <th>percent_cum_non_actual</th>\n",
       "      <th>if_random</th>\n",
       "      <th>lift</th>\n",
       "      <th>K_S</th>\n",
       "      <th>gain</th>\n",
       "    </tr>\n",
       "    <tr>\n",
       "      <th>decile</th>\n",
       "      <th></th>\n",
       "      <th></th>\n",
       "      <th></th>\n",
       "      <th></th>\n",
       "      <th></th>\n",
       "      <th></th>\n",
       "      <th></th>\n",
       "      <th></th>\n",
       "      <th></th>\n",
       "      <th></th>\n",
       "      <th></th>\n",
       "      <th></th>\n",
       "    </tr>\n",
       "  </thead>\n",
       "  <tbody>\n",
       "    <tr>\n",
       "      <td>0</td>\n",
       "      <td>383</td>\n",
       "      <td>383</td>\n",
       "      <td>0</td>\n",
       "      <td>383</td>\n",
       "      <td>383</td>\n",
       "      <td>0</td>\n",
       "      <td>0.20</td>\n",
       "      <td>0.00</td>\n",
       "      <td>188.3</td>\n",
       "      <td>2.03</td>\n",
       "      <td>20.0</td>\n",
       "      <td>100.00</td>\n",
       "    </tr>\n",
       "    <tr>\n",
       "      <td>1</td>\n",
       "      <td>382</td>\n",
       "      <td>382</td>\n",
       "      <td>0</td>\n",
       "      <td>765</td>\n",
       "      <td>765</td>\n",
       "      <td>0</td>\n",
       "      <td>0.41</td>\n",
       "      <td>0.00</td>\n",
       "      <td>376.6</td>\n",
       "      <td>2.03</td>\n",
       "      <td>41.0</td>\n",
       "      <td>100.00</td>\n",
       "    </tr>\n",
       "    <tr>\n",
       "      <td>2</td>\n",
       "      <td>382</td>\n",
       "      <td>382</td>\n",
       "      <td>0</td>\n",
       "      <td>1147</td>\n",
       "      <td>1147</td>\n",
       "      <td>0</td>\n",
       "      <td>0.61</td>\n",
       "      <td>0.00</td>\n",
       "      <td>564.9</td>\n",
       "      <td>2.03</td>\n",
       "      <td>61.0</td>\n",
       "      <td>100.00</td>\n",
       "    </tr>\n",
       "    <tr>\n",
       "      <td>3</td>\n",
       "      <td>382</td>\n",
       "      <td>306</td>\n",
       "      <td>76</td>\n",
       "      <td>1529</td>\n",
       "      <td>1453</td>\n",
       "      <td>76</td>\n",
       "      <td>0.77</td>\n",
       "      <td>0.04</td>\n",
       "      <td>753.2</td>\n",
       "      <td>1.93</td>\n",
       "      <td>73.0</td>\n",
       "      <td>95.03</td>\n",
       "    </tr>\n",
       "    <tr>\n",
       "      <td>4</td>\n",
       "      <td>382</td>\n",
       "      <td>110</td>\n",
       "      <td>272</td>\n",
       "      <td>1911</td>\n",
       "      <td>1563</td>\n",
       "      <td>348</td>\n",
       "      <td>0.83</td>\n",
       "      <td>0.18</td>\n",
       "      <td>941.5</td>\n",
       "      <td>1.66</td>\n",
       "      <td>65.0</td>\n",
       "      <td>81.79</td>\n",
       "    </tr>\n",
       "    <tr>\n",
       "      <td>5</td>\n",
       "      <td>383</td>\n",
       "      <td>96</td>\n",
       "      <td>287</td>\n",
       "      <td>2294</td>\n",
       "      <td>1659</td>\n",
       "      <td>635</td>\n",
       "      <td>0.88</td>\n",
       "      <td>0.33</td>\n",
       "      <td>1129.8</td>\n",
       "      <td>1.47</td>\n",
       "      <td>55.0</td>\n",
       "      <td>72.32</td>\n",
       "    </tr>\n",
       "    <tr>\n",
       "      <td>6</td>\n",
       "      <td>382</td>\n",
       "      <td>77</td>\n",
       "      <td>305</td>\n",
       "      <td>2676</td>\n",
       "      <td>1736</td>\n",
       "      <td>940</td>\n",
       "      <td>0.92</td>\n",
       "      <td>0.48</td>\n",
       "      <td>1318.1</td>\n",
       "      <td>1.32</td>\n",
       "      <td>44.0</td>\n",
       "      <td>64.87</td>\n",
       "    </tr>\n",
       "    <tr>\n",
       "      <td>7</td>\n",
       "      <td>382</td>\n",
       "      <td>68</td>\n",
       "      <td>314</td>\n",
       "      <td>3058</td>\n",
       "      <td>1804</td>\n",
       "      <td>1254</td>\n",
       "      <td>0.96</td>\n",
       "      <td>0.65</td>\n",
       "      <td>1506.4</td>\n",
       "      <td>1.20</td>\n",
       "      <td>31.0</td>\n",
       "      <td>58.99</td>\n",
       "    </tr>\n",
       "    <tr>\n",
       "      <td>8</td>\n",
       "      <td>382</td>\n",
       "      <td>39</td>\n",
       "      <td>343</td>\n",
       "      <td>3440</td>\n",
       "      <td>1843</td>\n",
       "      <td>1597</td>\n",
       "      <td>0.98</td>\n",
       "      <td>0.82</td>\n",
       "      <td>1694.7</td>\n",
       "      <td>1.09</td>\n",
       "      <td>16.0</td>\n",
       "      <td>53.58</td>\n",
       "    </tr>\n",
       "    <tr>\n",
       "      <td>9</td>\n",
       "      <td>382</td>\n",
       "      <td>40</td>\n",
       "      <td>342</td>\n",
       "      <td>3822</td>\n",
       "      <td>1883</td>\n",
       "      <td>1939</td>\n",
       "      <td>1.00</td>\n",
       "      <td>1.00</td>\n",
       "      <td>1883.0</td>\n",
       "      <td>1.00</td>\n",
       "      <td>0.0</td>\n",
       "      <td>49.27</td>\n",
       "    </tr>\n",
       "  </tbody>\n",
       "</table>\n",
       "</div>"
      ],
      "text/plain": [
       "        count  actual  non_actual  cum_count  cum_actual  cum_non_actual  \\\n",
       "decile                                                                     \n",
       "0         383     383           0        383         383               0   \n",
       "1         382     382           0        765         765               0   \n",
       "2         382     382           0       1147        1147               0   \n",
       "3         382     306          76       1529        1453              76   \n",
       "4         382     110         272       1911        1563             348   \n",
       "5         383      96         287       2294        1659             635   \n",
       "6         382      77         305       2676        1736             940   \n",
       "7         382      68         314       3058        1804            1254   \n",
       "8         382      39         343       3440        1843            1597   \n",
       "9         382      40         342       3822        1883            1939   \n",
       "\n",
       "        percent_cum_actual  percent_cum_non_actual  if_random  lift   K_S  \\\n",
       "decile                                                                      \n",
       "0                     0.20                    0.00      188.3  2.03  20.0   \n",
       "1                     0.41                    0.00      376.6  2.03  41.0   \n",
       "2                     0.61                    0.00      564.9  2.03  61.0   \n",
       "3                     0.77                    0.04      753.2  1.93  73.0   \n",
       "4                     0.83                    0.18      941.5  1.66  65.0   \n",
       "5                     0.88                    0.33     1129.8  1.47  55.0   \n",
       "6                     0.92                    0.48     1318.1  1.32  44.0   \n",
       "7                     0.96                    0.65     1506.4  1.20  31.0   \n",
       "8                     0.98                    0.82     1694.7  1.09  16.0   \n",
       "9                     1.00                    1.00     1883.0  1.00   0.0   \n",
       "\n",
       "          gain  \n",
       "decile          \n",
       "0       100.00  \n",
       "1       100.00  \n",
       "2       100.00  \n",
       "3        95.03  \n",
       "4        81.79  \n",
       "5        72.32  \n",
       "6        64.87  \n",
       "7        58.99  \n",
       "8        53.58  \n",
       "9        49.27  "
      ]
     },
     "execution_count": 151,
     "metadata": {},
     "output_type": "execute_result"
    }
   ],
   "source": [
    "def createGains(model):\n",
    "    predictions = model.predict(test_hex)\n",
    "    test_scores = test_hex['loan_default'].cbind(predictions).as_data_frame()\n",
    "\n",
    "    #sort on prediction (descending), add id, and decile for groups containing 1/10 of datapoints\n",
    "    test_scores = test_scores.sort_values(by='predict',ascending=False)\n",
    "    test_scores['row_id'] = range(0,0+len(test_scores))\n",
    "    test_scores['decile'] = ( test_scores['row_id'] / (len(test_scores)/10) ).astype(int)\n",
    "    #see count by decile\n",
    "    test_scores.loc[test_scores['decile'] == 10]=9\n",
    "    test_scores['decile'].value_counts()\n",
    "\n",
    "    #create gains table\n",
    "    gains = test_scores.groupby('decile')['loan_default'].agg(['count','sum'])\n",
    "    gains.columns = ['count','actual']\n",
    "    gains\n",
    "\n",
    "    #add features to gains table\n",
    "    gains['non_actual'] = gains['count'] - gains['actual']\n",
    "    gains['cum_count'] = gains['count'].cumsum()\n",
    "    gains['cum_actual'] = gains['actual'].cumsum()\n",
    "    gains['cum_non_actual'] = gains['non_actual'].cumsum()\n",
    "    gains['percent_cum_actual'] = (gains['cum_actual'] / np.max(gains['cum_actual'])).round(2)\n",
    "    gains['percent_cum_non_actual'] = (gains['cum_non_actual'] / np.max(gains['cum_non_actual'])).round(2)\n",
    "    gains['if_random'] = np.max(gains['cum_actual']) /10 \n",
    "    gains['if_random'] = gains['if_random'].cumsum()\n",
    "    gains['lift'] = (gains['cum_actual'] / gains['if_random']).round(2)\n",
    "    gains['K_S'] = np.abs( gains['percent_cum_actual'] -  gains['percent_cum_non_actual'] ) * 100\n",
    "    gains['gain']=(gains['cum_actual']/gains['cum_count']*100).round(2)\n",
    "    gains = pd.DataFrame(gains)\n",
    "    return(gains)\n",
    "\n",
    "createGains(aml_v1)"
   ]
  },
  {
   "cell_type": "code",
   "execution_count": 156,
   "metadata": {},
   "outputs": [
    {
     "name": "stdout",
     "output_type": "stream",
     "text": [
      "stackedensemble prediction progress: |████████████████████████████████████| 100%\n",
      "\n",
      "   * ROC curve: The ROC curve plots the true positive rate vs. the false rositive sate\n",
      "\n",
      "\t  * The area under the curve (AUC): A value between 0.5 (random) and 1.0 (perfect), measuring the prediction accuracy\n",
      "\n",
      "   * Recall (R) = The number of true positives / (the number of true positives + the number of false negatives)\n",
      "\n"
     ]
    },
    {
     "data": {
      "image/png": "[encoded data removed]",
      "text/plain": [
       "<Figure size 720x288 with 2 Axes>"
      ]
     },
     "metadata": {
      "needs_background": "light"
     },
     "output_type": "display_data"
    }
   ],
   "source": [
    "from sklearn import metrics\n",
    "def ROC_AUC(my_result,df,target):\n",
    "\n",
    "    # ROC\n",
    "    y_actual = df[target].as_data_frame()\n",
    "    y_pred = my_result.predict(df).as_data_frame()\n",
    "    fpr = list()\n",
    "    tpr = list()\n",
    "    roc_auc = list()\n",
    "    fpr,tpr,threshold = metrics.roc_curve(y_actual,y_pred) ###Calculate the true positive rate and the false positive rate\n",
    "    roc_auc = metrics.auc(fpr,tpr) ###calculate auc\n",
    "    \n",
    "    # Precision-Recall\n",
    "    average_precision = metrics.average_precision_score(y_actual,y_pred)\n",
    "\n",
    "    print('')\n",
    "    print('   * ROC curve: The ROC curve plots the true positive rate vs. the false rositive sate')\n",
    "    print('')\n",
    "    print('\t  * The area under the curve (AUC): A value between 0.5 (random) and 1.0 (perfect), measuring the prediction accuracy')\n",
    "    print('')\n",
    "    print('   * Recall (R) = The number of true positives / (the number of true positives + the number of false negatives)')\n",
    "    print('')\n",
    "    \n",
    "    # plotting\n",
    "    plt.figure(figsize=(10,4))\n",
    "\n",
    "    # ROC curve\n",
    "    plt.subplot(1,2,1)\n",
    "    plt.plot(fpr,tpr,color='darkorange',lw=2,label='ROC curve (area=%0.2f)' % roc_auc) ###The false positive rate is the abscissa, and the true rate is the ordinate\n",
    "    plt.plot([0,1],[0,1],color='navy',lw=3,linestyle='--')\n",
    "    plt.xlim([0.0,1.0])\n",
    "    plt.ylim([0.0,1.05])\n",
    "    plt.xlabel('False Positive Rate')\n",
    "    plt.ylabel('True Positive Rate')\n",
    "    plt.title('Receiver operating characteristic curve: AUC={0:0.4f}'.format(roc_auc))\n",
    "    plt.legend(loc='lower right')\n",
    "\n",
    "    # Precision-Recall curve\n",
    "    plt.subplot(1,2,2)\n",
    "    precision,recall,_ = metrics.precision_recall_curve(y_actual,y_pred)\n",
    "    plt.step(recall,precision,color='b',alpha=0.2,where='post')\n",
    "    plt.fill_between(recall,precision,step='post',alpha=0.2,color='b')\n",
    "    plt.xlabel('Recall')\n",
    "    plt.ylabel('Precision')\n",
    "    plt.ylim([0.0,1.05])\n",
    "    plt.xlim([0.0,1.0])\n",
    "    plt.title('Precision-Recall curve: PR={0:0.4f}'.format(average_precision))\n",
    "    plt.show()\n",
    "\n",
    "ROC_AUC(aml_v1,test_hex,'loan_default')"
   ]
  },
  {
   "cell_type": "code",
   "execution_count": 158,
   "metadata": {},
   "outputs": [
    {
     "name": "stdout",
     "output_type": "stream",
     "text": [
      "stackedensemble prediction progress: |████████████████████████████████████| 100%\n",
      "\n",
      "   * ROC curve: The ROC curve plots the true positive rate vs. the false rositive sate\n",
      "\n",
      "\t  * The area under the curve (AUC): A value between 0.5 (random) and 1.0 (perfect), measuring the prediction accuracy\n",
      "\n",
      "   * Recall (R) = The number of true positives / (the number of true positives + the number of false negatives)\n",
      "\n"
     ]
    },
    {
     "data": {
      "image/png": "[encoded data removed]",
      "text/plain": [
       "<Figure size 720x288 with 2 Axes>"
      ]
     },
     "metadata": {
      "needs_background": "light"
     },
     "output_type": "display_data"
    }
   ],
   "source": [
    "#simply detect overfitting\n",
    "ROC_AUC(aml_v1,train_hex,'loan_default')\n",
    "#If our model does much better on the training set than on the test set, \n",
    "#then we’re likely overfitting. in this case, it seems not overfitting."
   ]
  },
  {
   "cell_type": "markdown",
   "metadata": {},
   "source": [
    "###### Now the code works fine with the small dataset, we can model with the entire dataset"
   ]
  },
  {
   "cell_type": "code",
   "execution_count": 159,
   "metadata": {},
   "outputs": [
    {
     "name": "stdout",
     "output_type": "stream",
     "text": [
      "Parse progress: |█████████████████████████████████████████████████████████| 100%\n",
      "Parse progress: |█████████████████████████████████████████████████████████| 100%\n",
      "Parse progress: |█████████████████████████████████████████████████████████| 100%\n"
     ]
    }
   ],
   "source": [
    "df2_hex = h2o.H2OFrame(df_2)\n",
    "train_hex = h2o.H2OFrame(train)\n",
    "test_hex = h2o.H2OFrame(test)"
   ]
  },
  {
   "cell_type": "code",
   "execution_count": 160,
   "metadata": {},
   "outputs": [
    {
     "name": "stdout",
     "output_type": "stream",
     "text": [
      "AutoML progress: |████████████████████████████████████████████████████████| 100%\n"
     ]
    }
   ],
   "source": [
    "# Run AutoML for 20 base models (limited to 1 hour max runtime by default)\n",
    "aml_v2 = H2OAutoML(max_runtime_secs = 600, max_models=20, seed=1234) #set up 10min max runtime\n",
    "aml_v2.train(predictors,target,training_frame=train_hex)"
   ]
  },
  {
   "cell_type": "code",
   "execution_count": 161,
   "metadata": {},
   "outputs": [
    {
     "data": {
      "text/html": [
       "<table>\n",
       "<thead>\n",
       "<tr><th>model_id                                           </th><th style=\"text-align: right;\">  mean_residual_deviance</th><th style=\"text-align: right;\">    rmse</th><th style=\"text-align: right;\">      mse</th><th style=\"text-align: right;\">     mae</th><th style=\"text-align: right;\">     rmsle</th></tr>\n",
       "</thead>\n",
       "<tbody>\n",
       "<tr><td>StackedEnsemble_AllModels_AutoML_20200802_144156   </td><td style=\"text-align: right;\">               0.0929037</td><td style=\"text-align: right;\">0.304801</td><td style=\"text-align: right;\">0.0929037</td><td style=\"text-align: right;\">0.19766 </td><td style=\"text-align: right;\">  0.213601</td></tr>\n",
       "<tr><td>StackedEnsemble_BestOfFamily_AutoML_20200802_144156</td><td style=\"text-align: right;\">               0.0930472</td><td style=\"text-align: right;\">0.305036</td><td style=\"text-align: right;\">0.0930472</td><td style=\"text-align: right;\">0.198102</td><td style=\"text-align: right;\">  0.214049</td></tr>\n",
       "<tr><td>DeepLearning_1_AutoML_20200802_144156              </td><td style=\"text-align: right;\">               0.0950007</td><td style=\"text-align: right;\">0.308222</td><td style=\"text-align: right;\">0.0950007</td><td style=\"text-align: right;\">0.183299</td><td style=\"text-align: right;\">nan       </td></tr>\n",
       "<tr><td>GBM_grid__1_AutoML_20200802_144156_model_1         </td><td style=\"text-align: right;\">               0.0991503</td><td style=\"text-align: right;\">0.314881</td><td style=\"text-align: right;\">0.0991503</td><td style=\"text-align: right;\">0.225924</td><td style=\"text-align: right;\">  0.220925</td></tr>\n",
       "<tr><td>GLM_1_AutoML_20200802_144156                       </td><td style=\"text-align: right;\">               0.10009  </td><td style=\"text-align: right;\">0.31637 </td><td style=\"text-align: right;\">0.10009  </td><td style=\"text-align: right;\">0.225068</td><td style=\"text-align: right;\">  0.221136</td></tr>\n",
       "<tr><td>XGBoost_grid__1_AutoML_20200802_144156_model_1     </td><td style=\"text-align: right;\">               0.101121 </td><td style=\"text-align: right;\">0.317995</td><td style=\"text-align: right;\">0.101121 </td><td style=\"text-align: right;\">0.213627</td><td style=\"text-align: right;\">  0.224149</td></tr>\n",
       "<tr><td>XGBoost_1_AutoML_20200802_144156                   </td><td style=\"text-align: right;\">               0.107617 </td><td style=\"text-align: right;\">0.32805 </td><td style=\"text-align: right;\">0.107617 </td><td style=\"text-align: right;\">0.256374</td><td style=\"text-align: right;\">  0.233435</td></tr>\n",
       "<tr><td>DeepLearning_grid__2_AutoML_20200802_144156_model_1</td><td style=\"text-align: right;\">               0.108281 </td><td style=\"text-align: right;\">0.329061</td><td style=\"text-align: right;\">0.108281 </td><td style=\"text-align: right;\">0.260776</td><td style=\"text-align: right;\">  0.231189</td></tr>\n",
       "<tr><td>XGBoost_3_AutoML_20200802_144156                   </td><td style=\"text-align: right;\">               0.116708 </td><td style=\"text-align: right;\">0.341625</td><td style=\"text-align: right;\">0.116708 </td><td style=\"text-align: right;\">0.274264</td><td style=\"text-align: right;\">  0.242   </td></tr>\n",
       "<tr><td>GBM_grid__1_AutoML_20200802_144156_model_2         </td><td style=\"text-align: right;\">               0.122763 </td><td style=\"text-align: right;\">0.350376</td><td style=\"text-align: right;\">0.122763 </td><td style=\"text-align: right;\">0.306008</td><td style=\"text-align: right;\">  0.250392</td></tr>\n",
       "</tbody>\n",
       "</table>"
      ]
     },
     "metadata": {},
     "output_type": "display_data"
    },
    {
     "data": {
      "text/plain": []
     },
     "execution_count": 161,
     "metadata": {},
     "output_type": "execute_result"
    }
   ],
   "source": [
    "aml_v2.leaderboard.head()"
   ]
  },
  {
   "cell_type": "code",
   "execution_count": 162,
   "metadata": {},
   "outputs": [
    {
     "name": "stdout",
     "output_type": "stream",
     "text": [
      "stackedensemble prediction progress: |████████████████████████████████████| 100%\n"
     ]
    },
    {
     "data": {
      "text/html": [
       "<table>\n",
       "<thead>\n",
       "<tr><th style=\"text-align: right;\">  predict</th></tr>\n",
       "</thead>\n",
       "<tbody>\n",
       "<tr><td style=\"text-align: right;\"> 0.143019</td></tr>\n",
       "<tr><td style=\"text-align: right;\"> 0.954846</td></tr>\n",
       "<tr><td style=\"text-align: right;\"> 0.993304</td></tr>\n",
       "<tr><td style=\"text-align: right;\"> 0.249714</td></tr>\n",
       "<tr><td style=\"text-align: right;\"> 0.223808</td></tr>\n",
       "<tr><td style=\"text-align: right;\"> 0.139175</td></tr>\n",
       "<tr><td style=\"text-align: right;\"> 0.225523</td></tr>\n",
       "<tr><td style=\"text-align: right;\"> 0.220035</td></tr>\n",
       "<tr><td style=\"text-align: right;\"> 0.991092</td></tr>\n",
       "<tr><td style=\"text-align: right;\"> 0.232954</td></tr>\n",
       "</tbody>\n",
       "</table>"
      ]
     },
     "metadata": {},
     "output_type": "display_data"
    },
    {
     "data": {
      "text/plain": []
     },
     "execution_count": 162,
     "metadata": {},
     "output_type": "execute_result"
    }
   ],
   "source": [
    "#predict using leader model\n",
    "pred = aml_v2.predict(test_hex)\n",
    "pred.head()"
   ]
  },
  {
   "cell_type": "code",
   "execution_count": 163,
   "metadata": {},
   "outputs": [
    {
     "name": "stdout",
     "output_type": "stream",
     "text": [
      "\n",
      "ModelMetricsRegressionGLM: stackedensemble\n",
      "** Reported on test data. **\n",
      "\n",
      "MSE: 0.09440839191189007\n",
      "RMSE: 0.3072594862846224\n",
      "MAE: 0.20679368035301593\n",
      "RMSLE: 0.21882068295674495\n",
      "R^2: 0.6222236418839804\n",
      "Mean Residual Deviance: 0.09440839191189007\n",
      "Null degrees of freedom: 38216\n",
      "Residual degrees of freedom: 38207\n",
      "Null deviance: 9551.491902578153\n",
      "Residual deviance: 3608.005513696703\n",
      "AIC: 18280.23878258907\n"
     ]
    },
    {
     "data": {
      "text/plain": []
     },
     "execution_count": 163,
     "metadata": {},
     "output_type": "execute_result"
    }
   ],
   "source": [
    "perf = aml_v2.leader.model_performance(test_hex)\n",
    "perf"
   ]
  },
  {
   "cell_type": "code",
   "execution_count": 164,
   "metadata": {},
   "outputs": [
    {
     "name": "stdout",
     "output_type": "stream",
     "text": [
      "stackedensemble prediction progress: |████████████████████████████████████| 100%\n",
      "\n",
      "   * ROC curve: The ROC curve plots the true positive rate vs. the false rositive sate\n",
      "\n",
      "\t  * The area under the curve (AUC): A value between 0.5 (random) and 1.0 (perfect), measuring the prediction accuracy\n",
      "\n",
      "   * Recall (R) = The number of true positives / (the number of true positives + the number of false negatives)\n",
      "\n"
     ]
    },
    {
     "data": {
      "image/png": "[encoded data removed]",
      "text/plain": [
       "<Figure size 720x288 with 2 Axes>"
      ]
     },
     "metadata": {
      "needs_background": "light"
     },
     "output_type": "display_data"
    }
   ],
   "source": [
    "ROC_AUC(aml_v2,test_hex,'loan_default')"
   ]
  },
  {
   "cell_type": "code",
   "execution_count": 165,
   "metadata": {},
   "outputs": [
    {
     "name": "stdout",
     "output_type": "stream",
     "text": [
      "stackedensemble prediction progress: |████████████████████████████████████| 100%\n"
     ]
    },
    {
     "data": {
      "text/html": [
       "<div>\n",
       "<style scoped>\n",
       "    .dataframe tbody tr th:only-of-type {\n",
       "        vertical-align: middle;\n",
       "    }\n",
       "\n",
       "    .dataframe tbody tr th {\n",
       "        vertical-align: top;\n",
       "    }\n",
       "\n",
       "    .dataframe thead th {\n",
       "        text-align: right;\n",
       "    }\n",
       "</style>\n",
       "<table border=\"1\" class=\"dataframe\">\n",
       "  <thead>\n",
       "    <tr style=\"text-align: right;\">\n",
       "      <th></th>\n",
       "      <th>count</th>\n",
       "      <th>actual</th>\n",
       "      <th>non_actual</th>\n",
       "      <th>cum_count</th>\n",
       "      <th>cum_actual</th>\n",
       "      <th>cum_non_actual</th>\n",
       "      <th>percent_cum_actual</th>\n",
       "      <th>percent_cum_non_actual</th>\n",
       "      <th>if_random</th>\n",
       "      <th>lift</th>\n",
       "      <th>K_S</th>\n",
       "      <th>gain</th>\n",
       "    </tr>\n",
       "    <tr>\n",
       "      <th>decile</th>\n",
       "      <th></th>\n",
       "      <th></th>\n",
       "      <th></th>\n",
       "      <th></th>\n",
       "      <th></th>\n",
       "      <th></th>\n",
       "      <th></th>\n",
       "      <th></th>\n",
       "      <th></th>\n",
       "      <th></th>\n",
       "      <th></th>\n",
       "      <th></th>\n",
       "    </tr>\n",
       "  </thead>\n",
       "  <tbody>\n",
       "    <tr>\n",
       "      <td>0</td>\n",
       "      <td>3822</td>\n",
       "      <td>3822</td>\n",
       "      <td>0</td>\n",
       "      <td>3822</td>\n",
       "      <td>3822</td>\n",
       "      <td>0</td>\n",
       "      <td>0.20</td>\n",
       "      <td>0.00</td>\n",
       "      <td>1873.7</td>\n",
       "      <td>2.04</td>\n",
       "      <td>20.0</td>\n",
       "      <td>100.00</td>\n",
       "    </tr>\n",
       "    <tr>\n",
       "      <td>1</td>\n",
       "      <td>3822</td>\n",
       "      <td>3822</td>\n",
       "      <td>0</td>\n",
       "      <td>7644</td>\n",
       "      <td>7644</td>\n",
       "      <td>0</td>\n",
       "      <td>0.41</td>\n",
       "      <td>0.00</td>\n",
       "      <td>3747.4</td>\n",
       "      <td>2.04</td>\n",
       "      <td>41.0</td>\n",
       "      <td>100.00</td>\n",
       "    </tr>\n",
       "    <tr>\n",
       "      <td>2</td>\n",
       "      <td>3822</td>\n",
       "      <td>3822</td>\n",
       "      <td>0</td>\n",
       "      <td>11466</td>\n",
       "      <td>11466</td>\n",
       "      <td>0</td>\n",
       "      <td>0.61</td>\n",
       "      <td>0.00</td>\n",
       "      <td>5621.1</td>\n",
       "      <td>2.04</td>\n",
       "      <td>61.0</td>\n",
       "      <td>100.00</td>\n",
       "    </tr>\n",
       "    <tr>\n",
       "      <td>3</td>\n",
       "      <td>3821</td>\n",
       "      <td>3104</td>\n",
       "      <td>717</td>\n",
       "      <td>15287</td>\n",
       "      <td>14570</td>\n",
       "      <td>717</td>\n",
       "      <td>0.78</td>\n",
       "      <td>0.04</td>\n",
       "      <td>7494.8</td>\n",
       "      <td>1.94</td>\n",
       "      <td>74.0</td>\n",
       "      <td>95.31</td>\n",
       "    </tr>\n",
       "    <tr>\n",
       "      <td>4</td>\n",
       "      <td>3822</td>\n",
       "      <td>1200</td>\n",
       "      <td>2622</td>\n",
       "      <td>19109</td>\n",
       "      <td>15770</td>\n",
       "      <td>3339</td>\n",
       "      <td>0.84</td>\n",
       "      <td>0.17</td>\n",
       "      <td>9368.5</td>\n",
       "      <td>1.68</td>\n",
       "      <td>67.0</td>\n",
       "      <td>82.53</td>\n",
       "    </tr>\n",
       "    <tr>\n",
       "      <td>5</td>\n",
       "      <td>3822</td>\n",
       "      <td>925</td>\n",
       "      <td>2897</td>\n",
       "      <td>22931</td>\n",
       "      <td>16695</td>\n",
       "      <td>6236</td>\n",
       "      <td>0.89</td>\n",
       "      <td>0.32</td>\n",
       "      <td>11242.2</td>\n",
       "      <td>1.49</td>\n",
       "      <td>57.0</td>\n",
       "      <td>72.81</td>\n",
       "    </tr>\n",
       "    <tr>\n",
       "      <td>6</td>\n",
       "      <td>3821</td>\n",
       "      <td>727</td>\n",
       "      <td>3094</td>\n",
       "      <td>26752</td>\n",
       "      <td>17422</td>\n",
       "      <td>9330</td>\n",
       "      <td>0.93</td>\n",
       "      <td>0.48</td>\n",
       "      <td>13115.9</td>\n",
       "      <td>1.33</td>\n",
       "      <td>45.0</td>\n",
       "      <td>65.12</td>\n",
       "    </tr>\n",
       "    <tr>\n",
       "      <td>7</td>\n",
       "      <td>3822</td>\n",
       "      <td>583</td>\n",
       "      <td>3239</td>\n",
       "      <td>30574</td>\n",
       "      <td>18005</td>\n",
       "      <td>12569</td>\n",
       "      <td>0.96</td>\n",
       "      <td>0.65</td>\n",
       "      <td>14989.6</td>\n",
       "      <td>1.20</td>\n",
       "      <td>31.0</td>\n",
       "      <td>58.89</td>\n",
       "    </tr>\n",
       "    <tr>\n",
       "      <td>8</td>\n",
       "      <td>3822</td>\n",
       "      <td>480</td>\n",
       "      <td>3342</td>\n",
       "      <td>34396</td>\n",
       "      <td>18485</td>\n",
       "      <td>15911</td>\n",
       "      <td>0.99</td>\n",
       "      <td>0.82</td>\n",
       "      <td>16863.3</td>\n",
       "      <td>1.10</td>\n",
       "      <td>17.0</td>\n",
       "      <td>53.74</td>\n",
       "    </tr>\n",
       "    <tr>\n",
       "      <td>9</td>\n",
       "      <td>3821</td>\n",
       "      <td>252</td>\n",
       "      <td>3569</td>\n",
       "      <td>38217</td>\n",
       "      <td>18737</td>\n",
       "      <td>19480</td>\n",
       "      <td>1.00</td>\n",
       "      <td>1.00</td>\n",
       "      <td>18737.0</td>\n",
       "      <td>1.00</td>\n",
       "      <td>0.0</td>\n",
       "      <td>49.03</td>\n",
       "    </tr>\n",
       "  </tbody>\n",
       "</table>\n",
       "</div>"
      ],
      "text/plain": [
       "        count  actual  non_actual  cum_count  cum_actual  cum_non_actual  \\\n",
       "decile                                                                     \n",
       "0        3822    3822           0       3822        3822               0   \n",
       "1        3822    3822           0       7644        7644               0   \n",
       "2        3822    3822           0      11466       11466               0   \n",
       "3        3821    3104         717      15287       14570             717   \n",
       "4        3822    1200        2622      19109       15770            3339   \n",
       "5        3822     925        2897      22931       16695            6236   \n",
       "6        3821     727        3094      26752       17422            9330   \n",
       "7        3822     583        3239      30574       18005           12569   \n",
       "8        3822     480        3342      34396       18485           15911   \n",
       "9        3821     252        3569      38217       18737           19480   \n",
       "\n",
       "        percent_cum_actual  percent_cum_non_actual  if_random  lift   K_S  \\\n",
       "decile                                                                      \n",
       "0                     0.20                    0.00     1873.7  2.04  20.0   \n",
       "1                     0.41                    0.00     3747.4  2.04  41.0   \n",
       "2                     0.61                    0.00     5621.1  2.04  61.0   \n",
       "3                     0.78                    0.04     7494.8  1.94  74.0   \n",
       "4                     0.84                    0.17     9368.5  1.68  67.0   \n",
       "5                     0.89                    0.32    11242.2  1.49  57.0   \n",
       "6                     0.93                    0.48    13115.9  1.33  45.0   \n",
       "7                     0.96                    0.65    14989.6  1.20  31.0   \n",
       "8                     0.99                    0.82    16863.3  1.10  17.0   \n",
       "9                     1.00                    1.00    18737.0  1.00   0.0   \n",
       "\n",
       "          gain  \n",
       "decile          \n",
       "0       100.00  \n",
       "1       100.00  \n",
       "2       100.00  \n",
       "3        95.31  \n",
       "4        82.53  \n",
       "5        72.81  \n",
       "6        65.12  \n",
       "7        58.89  \n",
       "8        53.74  \n",
       "9        49.03  "
      ]
     },
     "execution_count": 165,
     "metadata": {},
     "output_type": "execute_result"
    }
   ],
   "source": [
    "createGains(aml_v2)"
   ]
  },
  {
   "cell_type": "markdown",
   "metadata": {},
   "source": [
    "With the help of our model, we can target 100% of loan defaulters if the bank targets at 10% of its applicants. While with a random pick, we would be able to focus only on 50% of defaulters. the model allows addressing more than two times more targets for this group, compared with addressing without the model, that is randomly."
   ]
  },
  {
   "cell_type": "markdown",
   "metadata": {},
   "source": [
    "we finally got the best performance with auc of 0.91 and pr of 0.94. and the list in the top 30% is 2.04. "
   ]
  },
  {
   "cell_type": "code",
   "execution_count": null,
   "metadata": {},
   "outputs": [],
   "source": []
  }
 ],
 "metadata": {
  "kernelspec": {
   "display_name": "Python 3",
   "language": "python",
   "name": "python3"
  },
  "language_info": {
   "codemirror_mode": {
    "name": "ipython",
    "version": 3
   },
   "file_extension": ".py",
   "mimetype": "text/x-python",
   "name": "python",
   "nbconvert_exporter": "python",
   "pygments_lexer": "ipython3",
   "version": "3.8.2"
  }
 },
 "nbformat": 4,
 "nbformat_minor": 2
}
