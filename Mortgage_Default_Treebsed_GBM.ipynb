{
 "cells": [
  {
   "cell_type": "markdown",
   "metadata": {},
   "source": [
    "### Modeling Strategies Assignment 8 & Supervised ML"
   ]
  },
  {
   "cell_type": "markdown",
   "metadata": {},
   "source": [
    "### Mortgage Default Risk & Fraud Detection"
   ]
  },
  {
   "cell_type": "markdown",
   "metadata": {},
   "source": [
    "### Author: Chloe Du (jd3631)"
   ]
  },
  {
   "cell_type": "markdown",
   "metadata": {},
   "source": [
    "#### Part 1: Review the data"
   ]
  },
  {
   "cell_type": "code",
   "execution_count": 1,
   "metadata": {},
   "outputs": [],
   "source": [
    "#import necessary libraries\n",
    "import numpy as np \n",
    "import pandas as pd\n",
    "\n",
    "from scipy import stats  #for some statistics\n",
    "from scipy.stats import norm, skew\n",
    "\n",
    "import matplotlib.pyplot as plt\n",
    "import seaborn as sns\n",
    "color = sns.color_palette()\n",
    "sns.set_style('darkgrid')\n",
    "%matplotlib inline\n",
    "\n",
    "import warnings \n",
    "def ignore_warn(*args, **kwargs):\n",
    "    pass\n",
    "warnings.warn = ignore_warn  #ignore warnings (from sklearn and seaborn)"
   ]
  },
  {
   "cell_type": "markdown",
   "metadata": {},
   "source": [
    "There are 80,000 distinct mortgage loan applicants and there are 89 different features.\n",
    "\n",
    "There are many missing data in the whole dataset. We will deal with these missing values later.\n",
    "\n",
    "The most common operation used when applying for loan is h5, and the most comman mobile brand used is web.\n",
    "\n",
    "The target value is loan_default. This indicates if a client will default mortage loan in the future. As the value 0 for default payment means not default and value 1 means default, the mean of 0.1936 means that there are 19.36% of mortgage loan contracts that will default (will verify this in the next sections of this analysis).\n",
    "\n",
    "We will explore in more detail the data in the following section."
   ]
  },
  {
   "cell_type": "code",
   "execution_count": 2,
   "metadata": {
    "scrolled": true
   },
   "outputs": [
    {
     "data": {
      "text/html": [
       "<div>\n",
       "<style scoped>\n",
       "    .dataframe tbody tr th:only-of-type {\n",
       "        vertical-align: middle;\n",
       "    }\n",
       "\n",
       "    .dataframe tbody tr th {\n",
       "        vertical-align: top;\n",
       "    }\n",
       "\n",
       "    .dataframe thead th {\n",
       "        text-align: right;\n",
       "    }\n",
       "</style>\n",
       "<table border=\"1\" class=\"dataframe\">\n",
       "  <thead>\n",
       "    <tr style=\"text-align: right;\">\n",
       "      <th></th>\n",
       "      <th>Unnamed: 0</th>\n",
       "      <th>Unnamed: 0.1</th>\n",
       "      <th>id</th>\n",
       "      <th>loan_default</th>\n",
       "      <th>AP001</th>\n",
       "      <th>AP002</th>\n",
       "      <th>AP003</th>\n",
       "      <th>AP004</th>\n",
       "      <th>AP005</th>\n",
       "      <th>AP006</th>\n",
       "      <th>...</th>\n",
       "      <th>CD162</th>\n",
       "      <th>CD164</th>\n",
       "      <th>CD166</th>\n",
       "      <th>CD167</th>\n",
       "      <th>CD169</th>\n",
       "      <th>CD170</th>\n",
       "      <th>CD172</th>\n",
       "      <th>CD173</th>\n",
       "      <th>MB005</th>\n",
       "      <th>MB007</th>\n",
       "    </tr>\n",
       "  </thead>\n",
       "  <tbody>\n",
       "    <tr>\n",
       "      <td>0</td>\n",
       "      <td>0</td>\n",
       "      <td>1</td>\n",
       "      <td>1</td>\n",
       "      <td>1</td>\n",
       "      <td>31</td>\n",
       "      <td>2</td>\n",
       "      <td>1</td>\n",
       "      <td>12</td>\n",
       "      <td>2017/7/6 10:21</td>\n",
       "      <td>ios</td>\n",
       "      <td>...</td>\n",
       "      <td>13.0</td>\n",
       "      <td>13.0</td>\n",
       "      <td>0.0</td>\n",
       "      <td>0.0</td>\n",
       "      <td>1449.0</td>\n",
       "      <td>1449.0</td>\n",
       "      <td>2249.0</td>\n",
       "      <td>2249.0</td>\n",
       "      <td>7.0</td>\n",
       "      <td>IPHONE7</td>\n",
       "    </tr>\n",
       "    <tr>\n",
       "      <td>1</td>\n",
       "      <td>1</td>\n",
       "      <td>2</td>\n",
       "      <td>2</td>\n",
       "      <td>0</td>\n",
       "      <td>27</td>\n",
       "      <td>1</td>\n",
       "      <td>1</td>\n",
       "      <td>12</td>\n",
       "      <td>2017/4/6 12:51</td>\n",
       "      <td>h5</td>\n",
       "      <td>...</td>\n",
       "      <td>-99.0</td>\n",
       "      <td>-99.0</td>\n",
       "      <td>-99.0</td>\n",
       "      <td>-99.0</td>\n",
       "      <td>-99.0</td>\n",
       "      <td>-99.0</td>\n",
       "      <td>-99.0</td>\n",
       "      <td>-99.0</td>\n",
       "      <td>NaN</td>\n",
       "      <td>WEB</td>\n",
       "    </tr>\n",
       "    <tr>\n",
       "      <td>2</td>\n",
       "      <td>2</td>\n",
       "      <td>3</td>\n",
       "      <td>3</td>\n",
       "      <td>0</td>\n",
       "      <td>33</td>\n",
       "      <td>1</td>\n",
       "      <td>4</td>\n",
       "      <td>12</td>\n",
       "      <td>2017/7/1 14:11</td>\n",
       "      <td>h5</td>\n",
       "      <td>...</td>\n",
       "      <td>3.0</td>\n",
       "      <td>2.0</td>\n",
       "      <td>33.0</td>\n",
       "      <td>0.0</td>\n",
       "      <td>33.0</td>\n",
       "      <td>0.0</td>\n",
       "      <td>143.0</td>\n",
       "      <td>110.0</td>\n",
       "      <td>8.0</td>\n",
       "      <td>WEB</td>\n",
       "    </tr>\n",
       "    <tr>\n",
       "      <td>3</td>\n",
       "      <td>3</td>\n",
       "      <td>4</td>\n",
       "      <td>4</td>\n",
       "      <td>0</td>\n",
       "      <td>34</td>\n",
       "      <td>2</td>\n",
       "      <td>4</td>\n",
       "      <td>12</td>\n",
       "      <td>2017/7/7 10:10</td>\n",
       "      <td>android</td>\n",
       "      <td>...</td>\n",
       "      <td>0.0</td>\n",
       "      <td>0.0</td>\n",
       "      <td>0.0</td>\n",
       "      <td>0.0</td>\n",
       "      <td>0.0</td>\n",
       "      <td>0.0</td>\n",
       "      <td>0.0</td>\n",
       "      <td>0.0</td>\n",
       "      <td>10.0</td>\n",
       "      <td>OPPO</td>\n",
       "    </tr>\n",
       "    <tr>\n",
       "      <td>4</td>\n",
       "      <td>4</td>\n",
       "      <td>5</td>\n",
       "      <td>5</td>\n",
       "      <td>0</td>\n",
       "      <td>47</td>\n",
       "      <td>2</td>\n",
       "      <td>1</td>\n",
       "      <td>12</td>\n",
       "      <td>2017/7/6 14:37</td>\n",
       "      <td>h5</td>\n",
       "      <td>...</td>\n",
       "      <td>-99.0</td>\n",
       "      <td>-99.0</td>\n",
       "      <td>-99.0</td>\n",
       "      <td>-99.0</td>\n",
       "      <td>-99.0</td>\n",
       "      <td>-99.0</td>\n",
       "      <td>-99.0</td>\n",
       "      <td>-99.0</td>\n",
       "      <td>NaN</td>\n",
       "      <td>WEB</td>\n",
       "    </tr>\n",
       "  </tbody>\n",
       "</table>\n",
       "<p>5 rows × 89 columns</p>\n",
       "</div>"
      ],
      "text/plain": [
       "   Unnamed: 0  Unnamed: 0.1  id  loan_default  AP001  AP002  AP003  AP004  \\\n",
       "0           0             1   1             1     31      2      1     12   \n",
       "1           1             2   2             0     27      1      1     12   \n",
       "2           2             3   3             0     33      1      4     12   \n",
       "3           3             4   4             0     34      2      4     12   \n",
       "4           4             5   5             0     47      2      1     12   \n",
       "\n",
       "            AP005    AP006  ...  CD162  CD164  CD166  CD167   CD169   CD170  \\\n",
       "0  2017/7/6 10:21      ios  ...   13.0   13.0    0.0    0.0  1449.0  1449.0   \n",
       "1  2017/4/6 12:51       h5  ...  -99.0  -99.0  -99.0  -99.0   -99.0   -99.0   \n",
       "2  2017/7/1 14:11       h5  ...    3.0    2.0   33.0    0.0    33.0     0.0   \n",
       "3  2017/7/7 10:10  android  ...    0.0    0.0    0.0    0.0     0.0     0.0   \n",
       "4  2017/7/6 14:37       h5  ...  -99.0  -99.0  -99.0  -99.0   -99.0   -99.0   \n",
       "\n",
       "    CD172   CD173  MB005    MB007  \n",
       "0  2249.0  2249.0    7.0  IPHONE7  \n",
       "1   -99.0   -99.0    NaN      WEB  \n",
       "2   143.0   110.0    8.0      WEB  \n",
       "3     0.0     0.0   10.0     OPPO  \n",
       "4   -99.0   -99.0    NaN      WEB  \n",
       "\n",
       "[5 rows x 89 columns]"
      ]
     },
     "execution_count": 2,
     "metadata": {},
     "output_type": "execute_result"
    }
   ],
   "source": [
    "# Now to import and put the dataset \n",
    "df = pd.read_csv(\"/Users/jiayangdu/Desktop/Columbia University /APAN 5420/XYZloan_default_selected_vars.csv\")\n",
    "df.head()"
   ]
  },
  {
   "cell_type": "code",
   "execution_count": 3,
   "metadata": {},
   "outputs": [],
   "source": [
    "##adjust the varibles, drop meaningless variables\n",
    "df.drop(['Unnamed: 0','Unnamed: 0.1'],axis=1,inplace=True)"
   ]
  },
  {
   "cell_type": "code",
   "execution_count": 4,
   "metadata": {
    "scrolled": true
   },
   "outputs": [
    {
     "name": "stdout",
     "output_type": "stream",
     "text": [
      "<class 'pandas.core.frame.DataFrame'>\n",
      "RangeIndex: 80000 entries, 0 to 79999\n",
      "Data columns (total 87 columns):\n",
      "id              80000 non-null object\n",
      "loan_default    80000 non-null int64\n",
      "AP001           80000 non-null int64\n",
      "AP002           80000 non-null int64\n",
      "AP003           80000 non-null int64\n",
      "AP004           80000 non-null int64\n",
      "AP005           80000 non-null datetime64[ns]\n",
      "AP006           80000 non-null object\n",
      "AP007           80000 non-null int64\n",
      "AP008           80000 non-null int64\n",
      "AP009           80000 non-null int64\n",
      "TD001           80000 non-null int64\n",
      "TD002           80000 non-null int64\n",
      "TD005           80000 non-null int64\n",
      "TD006           80000 non-null int64\n",
      "TD009           80000 non-null int64\n",
      "TD010           80000 non-null int64\n",
      "TD013           80000 non-null int64\n",
      "TD014           80000 non-null int64\n",
      "TD015           80000 non-null int64\n",
      "TD022           60402 non-null float64\n",
      "TD023           72337 non-null float64\n",
      "TD024           76306 non-null float64\n",
      "TD025           77450 non-null float64\n",
      "TD026           78154 non-null float64\n",
      "TD027           78303 non-null float64\n",
      "TD028           78364 non-null float64\n",
      "TD029           78370 non-null float64\n",
      "TD044           3 non-null float64\n",
      "TD048           1 non-null float64\n",
      "TD051           5 non-null float64\n",
      "TD054           12 non-null float64\n",
      "TD055           1 non-null float64\n",
      "TD061           10 non-null float64\n",
      "TD062           1 non-null float64\n",
      "CR004           80000 non-null int64\n",
      "CR005           80000 non-null int64\n",
      "CR009           80000 non-null int64\n",
      "CR012           80000 non-null int64\n",
      "CR015           80000 non-null int64\n",
      "CR017           80000 non-null int64\n",
      "CR018           80000 non-null int64\n",
      "CR019           80000 non-null int64\n",
      "PA022           79619 non-null float64\n",
      "PA023           79619 non-null float64\n",
      "PA028           79619 non-null float64\n",
      "PA029           79619 non-null float64\n",
      "PA030           79619 non-null float64\n",
      "PA031           79619 non-null float64\n",
      "CD008           79619 non-null float64\n",
      "CD018           79619 non-null float64\n",
      "CD071           79619 non-null float64\n",
      "CD072           79619 non-null float64\n",
      "CD088           79619 non-null float64\n",
      "CD100           79619 non-null float64\n",
      "CD101           79619 non-null float64\n",
      "CD106           79619 non-null float64\n",
      "CD107           79619 non-null float64\n",
      "CD108           79619 non-null float64\n",
      "CD113           79619 non-null float64\n",
      "CD114           79619 non-null float64\n",
      "CD115           79619 non-null float64\n",
      "CD117           79619 non-null float64\n",
      "CD118           79619 non-null float64\n",
      "CD120           79619 non-null float64\n",
      "CD121           79619 non-null float64\n",
      "CD123           79619 non-null float64\n",
      "CD130           79619 non-null float64\n",
      "CD131           79619 non-null float64\n",
      "CD132           79619 non-null float64\n",
      "CD133           79619 non-null float64\n",
      "CD135           79619 non-null float64\n",
      "CD136           79619 non-null float64\n",
      "CD137           79619 non-null float64\n",
      "CD152           79619 non-null float64\n",
      "CD153           79619 non-null float64\n",
      "CD160           79619 non-null float64\n",
      "CD162           79619 non-null float64\n",
      "CD164           79619 non-null float64\n",
      "CD166           79619 non-null float64\n",
      "CD167           79619 non-null float64\n",
      "CD169           79619 non-null float64\n",
      "CD170           79619 non-null float64\n",
      "CD172           79619 non-null float64\n",
      "CD173           79619 non-null float64\n",
      "MB005           77207 non-null float64\n",
      "MB007           80000 non-null object\n",
      "dtypes: datetime64[ns](1), float64(58), int64(25), object(3)\n",
      "memory usage: 53.1+ MB\n"
     ]
    }
   ],
   "source": [
    "#id has no meaning of value, so we convert it to categorical variables\n",
    "df['id'] = df['id'].apply(lambda x:str(x))\n",
    "#AP005 represents the datetime, so we need to convert it to datetime type\n",
    "df['AP005'] = pd.to_datetime(df['AP005'])\n",
    "\n",
    "df.info()\n",
    "#there are some missing values "
   ]
  },
  {
   "cell_type": "code",
   "execution_count": 5,
   "metadata": {},
   "outputs": [],
   "source": [
    "#replace -1,-99,-98,-999 to na, since these two strange values may be systematic default value\n",
    "df.replace('-99',' ',inplace=True)\n",
    "df.replace('-98',' ',inplace=True)\n",
    "df.replace('-999',' ',inplace=True)\n",
    "df.replace('-1',' ',inplace=True)"
   ]
  },
  {
   "cell_type": "code",
   "execution_count": 6,
   "metadata": {},
   "outputs": [
    {
     "data": {
      "text/html": [
       "<div>\n",
       "<style scoped>\n",
       "    .dataframe tbody tr th:only-of-type {\n",
       "        vertical-align: middle;\n",
       "    }\n",
       "\n",
       "    .dataframe tbody tr th {\n",
       "        vertical-align: top;\n",
       "    }\n",
       "\n",
       "    .dataframe thead th {\n",
       "        text-align: right;\n",
       "    }\n",
       "</style>\n",
       "<table border=\"1\" class=\"dataframe\">\n",
       "  <thead>\n",
       "    <tr style=\"text-align: right;\">\n",
       "      <th></th>\n",
       "      <th>Total</th>\n",
       "      <th>Percent</th>\n",
       "    </tr>\n",
       "  </thead>\n",
       "  <tbody>\n",
       "    <tr>\n",
       "      <td>TD055</td>\n",
       "      <td>79999</td>\n",
       "      <td>0.999988</td>\n",
       "    </tr>\n",
       "    <tr>\n",
       "      <td>TD062</td>\n",
       "      <td>79999</td>\n",
       "      <td>0.999988</td>\n",
       "    </tr>\n",
       "    <tr>\n",
       "      <td>TD048</td>\n",
       "      <td>79999</td>\n",
       "      <td>0.999988</td>\n",
       "    </tr>\n",
       "    <tr>\n",
       "      <td>TD044</td>\n",
       "      <td>79997</td>\n",
       "      <td>0.999962</td>\n",
       "    </tr>\n",
       "    <tr>\n",
       "      <td>TD051</td>\n",
       "      <td>79995</td>\n",
       "      <td>0.999938</td>\n",
       "    </tr>\n",
       "    <tr>\n",
       "      <td>TD061</td>\n",
       "      <td>79990</td>\n",
       "      <td>0.999875</td>\n",
       "    </tr>\n",
       "    <tr>\n",
       "      <td>TD054</td>\n",
       "      <td>79988</td>\n",
       "      <td>0.999850</td>\n",
       "    </tr>\n",
       "    <tr>\n",
       "      <td>TD022</td>\n",
       "      <td>19598</td>\n",
       "      <td>0.244975</td>\n",
       "    </tr>\n",
       "    <tr>\n",
       "      <td>TD023</td>\n",
       "      <td>7663</td>\n",
       "      <td>0.095787</td>\n",
       "    </tr>\n",
       "    <tr>\n",
       "      <td>TD024</td>\n",
       "      <td>3694</td>\n",
       "      <td>0.046175</td>\n",
       "    </tr>\n",
       "    <tr>\n",
       "      <td>MB005</td>\n",
       "      <td>2793</td>\n",
       "      <td>0.034912</td>\n",
       "    </tr>\n",
       "    <tr>\n",
       "      <td>TD025</td>\n",
       "      <td>2550</td>\n",
       "      <td>0.031875</td>\n",
       "    </tr>\n",
       "    <tr>\n",
       "      <td>TD026</td>\n",
       "      <td>1846</td>\n",
       "      <td>0.023075</td>\n",
       "    </tr>\n",
       "    <tr>\n",
       "      <td>TD027</td>\n",
       "      <td>1697</td>\n",
       "      <td>0.021212</td>\n",
       "    </tr>\n",
       "    <tr>\n",
       "      <td>TD028</td>\n",
       "      <td>1636</td>\n",
       "      <td>0.020450</td>\n",
       "    </tr>\n",
       "    <tr>\n",
       "      <td>TD029</td>\n",
       "      <td>1630</td>\n",
       "      <td>0.020375</td>\n",
       "    </tr>\n",
       "    <tr>\n",
       "      <td>PA031</td>\n",
       "      <td>381</td>\n",
       "      <td>0.004763</td>\n",
       "    </tr>\n",
       "    <tr>\n",
       "      <td>CD100</td>\n",
       "      <td>381</td>\n",
       "      <td>0.004763</td>\n",
       "    </tr>\n",
       "    <tr>\n",
       "      <td>CD088</td>\n",
       "      <td>381</td>\n",
       "      <td>0.004763</td>\n",
       "    </tr>\n",
       "    <tr>\n",
       "      <td>CD072</td>\n",
       "      <td>381</td>\n",
       "      <td>0.004763</td>\n",
       "    </tr>\n",
       "  </tbody>\n",
       "</table>\n",
       "</div>"
      ],
      "text/plain": [
       "       Total   Percent\n",
       "TD055  79999  0.999988\n",
       "TD062  79999  0.999988\n",
       "TD048  79999  0.999988\n",
       "TD044  79997  0.999962\n",
       "TD051  79995  0.999938\n",
       "TD061  79990  0.999875\n",
       "TD054  79988  0.999850\n",
       "TD022  19598  0.244975\n",
       "TD023   7663  0.095787\n",
       "TD024   3694  0.046175\n",
       "MB005   2793  0.034912\n",
       "TD025   2550  0.031875\n",
       "TD026   1846  0.023075\n",
       "TD027   1697  0.021212\n",
       "TD028   1636  0.020450\n",
       "TD029   1630  0.020375\n",
       "PA031    381  0.004763\n",
       "CD100    381  0.004763\n",
       "CD088    381  0.004763\n",
       "CD072    381  0.004763"
      ]
     },
     "execution_count": 6,
     "metadata": {},
     "output_type": "execute_result"
    }
   ],
   "source": [
    "#missing values\n",
    "total = df.isnull().sum().sort_values(ascending=False)\n",
    "percent = (df.isnull().sum()/df.isnull().count()).sort_values(ascending=False)\n",
    "missing_data = pd.concat([total, percent], axis=1, keys=['Total', 'Percent'])\n",
    "missing_data.head(20)"
   ]
  },
  {
   "cell_type": "code",
   "execution_count": 7,
   "metadata": {},
   "outputs": [],
   "source": [
    "#from the above dataframe, we can see that there are some variables missing almost 100% values\n",
    "#therefore, i will drop those variables which lose up to 99% values\n",
    "df.drop(['TD055','TD062','TD048','TD044','TD051','TD061','TD054'],axis=1,inplace=True)\n",
    "# for other columns containing missing values, we do not need to deal with them\n",
    "# since in the following steps, we will bin some variables and missing values will be regarded as their own categories\n",
    "# the tree-based algorithms will capture the information from nah values"
   ]
  },
  {
   "cell_type": "markdown",
   "metadata": {},
   "source": [
    "outliers:\n",
    "\n",
    "Since we will use tree-based algorithems which treat continuous variable as categorical variable as well, so the these modles are not sensitive to outliers at all and we do not need to cap or floor outliers here."
   ]
  },
  {
   "cell_type": "code",
   "execution_count": 8,
   "metadata": {},
   "outputs": [
    {
     "data": {
      "text/html": [
       "<div>\n",
       "<style scoped>\n",
       "    .dataframe tbody tr th:only-of-type {\n",
       "        vertical-align: middle;\n",
       "    }\n",
       "\n",
       "    .dataframe tbody tr th {\n",
       "        vertical-align: top;\n",
       "    }\n",
       "\n",
       "    .dataframe thead th {\n",
       "        text-align: right;\n",
       "    }\n",
       "</style>\n",
       "<table border=\"1\" class=\"dataframe\">\n",
       "  <thead>\n",
       "    <tr style=\"text-align: right;\">\n",
       "      <th></th>\n",
       "      <th>loan_default</th>\n",
       "      <th>AP001</th>\n",
       "      <th>AP002</th>\n",
       "      <th>AP003</th>\n",
       "      <th>AP004</th>\n",
       "      <th>AP007</th>\n",
       "      <th>AP008</th>\n",
       "      <th>AP009</th>\n",
       "      <th>TD001</th>\n",
       "      <th>TD002</th>\n",
       "      <th>...</th>\n",
       "      <th>CD160</th>\n",
       "      <th>CD162</th>\n",
       "      <th>CD164</th>\n",
       "      <th>CD166</th>\n",
       "      <th>CD167</th>\n",
       "      <th>CD169</th>\n",
       "      <th>CD170</th>\n",
       "      <th>CD172</th>\n",
       "      <th>CD173</th>\n",
       "      <th>MB005</th>\n",
       "    </tr>\n",
       "  </thead>\n",
       "  <tbody>\n",
       "    <tr>\n",
       "      <td>count</td>\n",
       "      <td>80000.000000</td>\n",
       "      <td>80000.000000</td>\n",
       "      <td>80000.000000</td>\n",
       "      <td>80000.000000</td>\n",
       "      <td>80000.000000</td>\n",
       "      <td>80000.00000</td>\n",
       "      <td>80000.000000</td>\n",
       "      <td>80000.000000</td>\n",
       "      <td>80000.000000</td>\n",
       "      <td>80000.000000</td>\n",
       "      <td>...</td>\n",
       "      <td>79619.000000</td>\n",
       "      <td>79619.000000</td>\n",
       "      <td>79619.000000</td>\n",
       "      <td>79619.000000</td>\n",
       "      <td>79619.000000</td>\n",
       "      <td>79619.000000</td>\n",
       "      <td>79619.00000</td>\n",
       "      <td>79619.000000</td>\n",
       "      <td>79619.000000</td>\n",
       "      <td>77207.000000</td>\n",
       "    </tr>\n",
       "    <tr>\n",
       "      <td>mean</td>\n",
       "      <td>0.193600</td>\n",
       "      <td>31.706913</td>\n",
       "      <td>1.321813</td>\n",
       "      <td>2.014925</td>\n",
       "      <td>11.235413</td>\n",
       "      <td>3.30130</td>\n",
       "      <td>3.117200</td>\n",
       "      <td>0.727925</td>\n",
       "      <td>1.986962</td>\n",
       "      <td>0.706213</td>\n",
       "      <td>...</td>\n",
       "      <td>6.911956</td>\n",
       "      <td>14.271694</td>\n",
       "      <td>11.773358</td>\n",
       "      <td>909.089313</td>\n",
       "      <td>810.786219</td>\n",
       "      <td>1732.693314</td>\n",
       "      <td>1539.33443</td>\n",
       "      <td>2513.226491</td>\n",
       "      <td>2229.606137</td>\n",
       "      <td>5.976272</td>\n",
       "    </tr>\n",
       "    <tr>\n",
       "      <td>std</td>\n",
       "      <td>0.395121</td>\n",
       "      <td>7.075070</td>\n",
       "      <td>0.467174</td>\n",
       "      <td>1.196806</td>\n",
       "      <td>2.212313</td>\n",
       "      <td>1.33655</td>\n",
       "      <td>1.306335</td>\n",
       "      <td>0.445031</td>\n",
       "      <td>1.807445</td>\n",
       "      <td>0.918347</td>\n",
       "      <td>...</td>\n",
       "      <td>28.007499</td>\n",
       "      <td>38.235012</td>\n",
       "      <td>33.270641</td>\n",
       "      <td>1379.553332</td>\n",
       "      <td>1245.044602</td>\n",
       "      <td>2441.503517</td>\n",
       "      <td>2172.71384</td>\n",
       "      <td>3404.975112</td>\n",
       "      <td>3005.615048</td>\n",
       "      <td>3.641814</td>\n",
       "    </tr>\n",
       "    <tr>\n",
       "      <td>min</td>\n",
       "      <td>0.000000</td>\n",
       "      <td>20.000000</td>\n",
       "      <td>1.000000</td>\n",
       "      <td>1.000000</td>\n",
       "      <td>3.000000</td>\n",
       "      <td>1.00000</td>\n",
       "      <td>1.000000</td>\n",
       "      <td>0.000000</td>\n",
       "      <td>0.000000</td>\n",
       "      <td>0.000000</td>\n",
       "      <td>...</td>\n",
       "      <td>-99.000000</td>\n",
       "      <td>-99.000000</td>\n",
       "      <td>-99.000000</td>\n",
       "      <td>-99.000000</td>\n",
       "      <td>-99.000000</td>\n",
       "      <td>-99.000000</td>\n",
       "      <td>-99.00000</td>\n",
       "      <td>-99.000000</td>\n",
       "      <td>-99.000000</td>\n",
       "      <td>0.000000</td>\n",
       "    </tr>\n",
       "    <tr>\n",
       "      <td>25%</td>\n",
       "      <td>0.000000</td>\n",
       "      <td>27.000000</td>\n",
       "      <td>1.000000</td>\n",
       "      <td>1.000000</td>\n",
       "      <td>12.000000</td>\n",
       "      <td>2.00000</td>\n",
       "      <td>2.000000</td>\n",
       "      <td>0.000000</td>\n",
       "      <td>1.000000</td>\n",
       "      <td>0.000000</td>\n",
       "      <td>...</td>\n",
       "      <td>2.000000</td>\n",
       "      <td>5.000000</td>\n",
       "      <td>4.000000</td>\n",
       "      <td>84.000000</td>\n",
       "      <td>34.000000</td>\n",
       "      <td>309.000000</td>\n",
       "      <td>226.00000</td>\n",
       "      <td>539.000000</td>\n",
       "      <td>414.000000</td>\n",
       "      <td>3.000000</td>\n",
       "    </tr>\n",
       "    <tr>\n",
       "      <td>50%</td>\n",
       "      <td>0.000000</td>\n",
       "      <td>30.000000</td>\n",
       "      <td>1.000000</td>\n",
       "      <td>1.000000</td>\n",
       "      <td>12.000000</td>\n",
       "      <td>3.00000</td>\n",
       "      <td>3.000000</td>\n",
       "      <td>1.000000</td>\n",
       "      <td>2.000000</td>\n",
       "      <td>0.000000</td>\n",
       "      <td>...</td>\n",
       "      <td>7.000000</td>\n",
       "      <td>12.000000</td>\n",
       "      <td>10.000000</td>\n",
       "      <td>475.000000</td>\n",
       "      <td>397.000000</td>\n",
       "      <td>1023.000000</td>\n",
       "      <td>870.00000</td>\n",
       "      <td>1553.000000</td>\n",
       "      <td>1324.000000</td>\n",
       "      <td>5.000000</td>\n",
       "    </tr>\n",
       "    <tr>\n",
       "      <td>75%</td>\n",
       "      <td>0.000000</td>\n",
       "      <td>35.000000</td>\n",
       "      <td>2.000000</td>\n",
       "      <td>3.000000</td>\n",
       "      <td>12.000000</td>\n",
       "      <td>5.00000</td>\n",
       "      <td>4.000000</td>\n",
       "      <td>1.000000</td>\n",
       "      <td>3.000000</td>\n",
       "      <td>1.000000</td>\n",
       "      <td>...</td>\n",
       "      <td>14.000000</td>\n",
       "      <td>23.000000</td>\n",
       "      <td>20.000000</td>\n",
       "      <td>1209.000000</td>\n",
       "      <td>1080.000000</td>\n",
       "      <td>2287.000000</td>\n",
       "      <td>2030.00000</td>\n",
       "      <td>3296.000000</td>\n",
       "      <td>2936.000000</td>\n",
       "      <td>8.000000</td>\n",
       "    </tr>\n",
       "    <tr>\n",
       "      <td>max</td>\n",
       "      <td>1.000000</td>\n",
       "      <td>56.000000</td>\n",
       "      <td>2.000000</td>\n",
       "      <td>6.000000</td>\n",
       "      <td>12.000000</td>\n",
       "      <td>5.00000</td>\n",
       "      <td>5.000000</td>\n",
       "      <td>1.000000</td>\n",
       "      <td>20.000000</td>\n",
       "      <td>11.000000</td>\n",
       "      <td>...</td>\n",
       "      <td>1061.000000</td>\n",
       "      <td>2792.000000</td>\n",
       "      <td>1579.000000</td>\n",
       "      <td>48585.000000</td>\n",
       "      <td>29664.000000</td>\n",
       "      <td>88364.000000</td>\n",
       "      <td>54651.00000</td>\n",
       "      <td>125352.000000</td>\n",
       "      <td>87312.000000</td>\n",
       "      <td>47.000000</td>\n",
       "    </tr>\n",
       "  </tbody>\n",
       "</table>\n",
       "<p>8 rows × 76 columns</p>\n",
       "</div>"
      ],
      "text/plain": [
       "       loan_default         AP001         AP002         AP003         AP004  \\\n",
       "count  80000.000000  80000.000000  80000.000000  80000.000000  80000.000000   \n",
       "mean       0.193600     31.706913      1.321813      2.014925     11.235413   \n",
       "std        0.395121      7.075070      0.467174      1.196806      2.212313   \n",
       "min        0.000000     20.000000      1.000000      1.000000      3.000000   \n",
       "25%        0.000000     27.000000      1.000000      1.000000     12.000000   \n",
       "50%        0.000000     30.000000      1.000000      1.000000     12.000000   \n",
       "75%        0.000000     35.000000      2.000000      3.000000     12.000000   \n",
       "max        1.000000     56.000000      2.000000      6.000000     12.000000   \n",
       "\n",
       "             AP007         AP008         AP009         TD001         TD002  \\\n",
       "count  80000.00000  80000.000000  80000.000000  80000.000000  80000.000000   \n",
       "mean       3.30130      3.117200      0.727925      1.986962      0.706213   \n",
       "std        1.33655      1.306335      0.445031      1.807445      0.918347   \n",
       "min        1.00000      1.000000      0.000000      0.000000      0.000000   \n",
       "25%        2.00000      2.000000      0.000000      1.000000      0.000000   \n",
       "50%        3.00000      3.000000      1.000000      2.000000      0.000000   \n",
       "75%        5.00000      4.000000      1.000000      3.000000      1.000000   \n",
       "max        5.00000      5.000000      1.000000     20.000000     11.000000   \n",
       "\n",
       "       ...         CD160         CD162         CD164         CD166  \\\n",
       "count  ...  79619.000000  79619.000000  79619.000000  79619.000000   \n",
       "mean   ...      6.911956     14.271694     11.773358    909.089313   \n",
       "std    ...     28.007499     38.235012     33.270641   1379.553332   \n",
       "min    ...    -99.000000    -99.000000    -99.000000    -99.000000   \n",
       "25%    ...      2.000000      5.000000      4.000000     84.000000   \n",
       "50%    ...      7.000000     12.000000     10.000000    475.000000   \n",
       "75%    ...     14.000000     23.000000     20.000000   1209.000000   \n",
       "max    ...   1061.000000   2792.000000   1579.000000  48585.000000   \n",
       "\n",
       "              CD167         CD169        CD170          CD172         CD173  \\\n",
       "count  79619.000000  79619.000000  79619.00000   79619.000000  79619.000000   \n",
       "mean     810.786219   1732.693314   1539.33443    2513.226491   2229.606137   \n",
       "std     1245.044602   2441.503517   2172.71384    3404.975112   3005.615048   \n",
       "min      -99.000000    -99.000000    -99.00000     -99.000000    -99.000000   \n",
       "25%       34.000000    309.000000    226.00000     539.000000    414.000000   \n",
       "50%      397.000000   1023.000000    870.00000    1553.000000   1324.000000   \n",
       "75%     1080.000000   2287.000000   2030.00000    3296.000000   2936.000000   \n",
       "max    29664.000000  88364.000000  54651.00000  125352.000000  87312.000000   \n",
       "\n",
       "              MB005  \n",
       "count  77207.000000  \n",
       "mean       5.976272  \n",
       "std        3.641814  \n",
       "min        0.000000  \n",
       "25%        3.000000  \n",
       "50%        5.000000  \n",
       "75%        8.000000  \n",
       "max       47.000000  \n",
       "\n",
       "[8 rows x 76 columns]"
      ]
     },
     "execution_count": 8,
     "metadata": {},
     "output_type": "execute_result"
    }
   ],
   "source": [
    "#get statistics info about numerical variables\n",
    "df.describe()"
   ]
  },
  {
   "cell_type": "code",
   "execution_count": 9,
   "metadata": {},
   "outputs": [
    {
     "data": {
      "text/html": [
       "<div>\n",
       "<style scoped>\n",
       "    .dataframe tbody tr th:only-of-type {\n",
       "        vertical-align: middle;\n",
       "    }\n",
       "\n",
       "    .dataframe tbody tr th {\n",
       "        vertical-align: top;\n",
       "    }\n",
       "\n",
       "    .dataframe thead th {\n",
       "        text-align: right;\n",
       "    }\n",
       "</style>\n",
       "<table border=\"1\" class=\"dataframe\">\n",
       "  <thead>\n",
       "    <tr style=\"text-align: right;\">\n",
       "      <th></th>\n",
       "      <th>id</th>\n",
       "      <th>AP006</th>\n",
       "      <th>MB007</th>\n",
       "    </tr>\n",
       "  </thead>\n",
       "  <tbody>\n",
       "    <tr>\n",
       "      <td>count</td>\n",
       "      <td>80000</td>\n",
       "      <td>80000</td>\n",
       "      <td>80000</td>\n",
       "    </tr>\n",
       "    <tr>\n",
       "      <td>unique</td>\n",
       "      <td>80000</td>\n",
       "      <td>4</td>\n",
       "      <td>112</td>\n",
       "    </tr>\n",
       "    <tr>\n",
       "      <td>top</td>\n",
       "      <td>30967</td>\n",
       "      <td>h5</td>\n",
       "      <td>WEB</td>\n",
       "    </tr>\n",
       "    <tr>\n",
       "      <td>freq</td>\n",
       "      <td>1</td>\n",
       "      <td>44246</td>\n",
       "      <td>43850</td>\n",
       "    </tr>\n",
       "  </tbody>\n",
       "</table>\n",
       "</div>"
      ],
      "text/plain": [
       "           id  AP006  MB007\n",
       "count   80000  80000  80000\n",
       "unique  80000      4    112\n",
       "top     30967     h5    WEB\n",
       "freq        1  44246  43850"
      ]
     },
     "execution_count": 9,
     "metadata": {},
     "output_type": "execute_result"
    }
   ],
   "source": [
    "#Take a quick look at some basic categorical data\n",
    "df.describe(include=['O'])\n",
    "#we can see there is no duplicate applicants \n",
    "#h5 is the most common operation system \n",
    "#web is the most common operation device"
   ]
  },
  {
   "cell_type": "markdown",
   "metadata": {},
   "source": [
    "###### Explore the data"
   ]
  },
  {
   "cell_type": "code",
   "execution_count": 10,
   "metadata": {},
   "outputs": [
    {
     "data": {
      "image/png": "[encoded data removed]",
      "text/plain": [
       "<Figure size 1008x432 with 1 Axes>"
      ]
     },
     "metadata": {
      "needs_background": "light"
     },
     "output_type": "display_data"
    }
   ],
   "source": [
    "#Amount of loan total\n",
    "plt.figure(figsize = (14,6))\n",
    "plt.title('Amount of loan total - Density Plot')\n",
    "sns.set_color_codes(\"pastel\")\n",
    "sns.distplot(df['CR009'],kde=True,bins=200,color=\"blue\")\n",
    "plt.show()\n",
    "# There are many missing values in this field\n",
    "#Largest group of amount of credit limit is apparently for amount of 5k. \n",
    "#Let's verify this."
   ]
  },
  {
   "cell_type": "code",
   "execution_count": 11,
   "metadata": {},
   "outputs": [
    {
     "data": {
      "text/plain": [
       "(25883,)"
      ]
     },
     "execution_count": 11,
     "metadata": {},
     "output_type": "execute_result"
    }
   ],
   "source": [
    "df['CR009'].value_counts().shape\n",
    "#There are 25,883 distinct values for amount of loan total."
   ]
  },
  {
   "cell_type": "code",
   "execution_count": 12,
   "metadata": {},
   "outputs": [
    {
     "data": {
      "text/plain": [
       "0        13245\n",
       "5000      1035\n",
       "10000      934\n",
       "2000       674\n",
       "20000      671\n",
       "Name: CR009, dtype: int64"
      ]
     },
     "execution_count": 12,
     "metadata": {},
     "output_type": "execute_result"
    }
   ],
   "source": [
    "df['CR009'].value_counts().head(5)\n",
    "#Indeed, the largest number of credit cards are with limit of:\n",
    "#5k (1035), followed by:\n",
    "#10k (934) and\n",
    "#2k (674) and 20k (671)."
   ]
  },
  {
   "cell_type": "code",
   "execution_count": 13,
   "metadata": {},
   "outputs": [
    {
     "data": {
      "image/png": "[encoded data removed]",
      "text/plain": [
       "<Figure size 1008x432 with 1 Axes>"
      ]
     },
     "metadata": {
      "needs_background": "light"
     },
     "output_type": "display_data"
    }
   ],
   "source": [
    "#Amount of credit limit grouped by default payment\n",
    "class_0 = df.loc[df['loan_default'] == 0][\"CR009\"]\n",
    "class_1 = df.loc[df['loan_default'] == 1][\"CR009\"]\n",
    "plt.figure(figsize = (14,6))\n",
    "plt.title('Default Amount of loan total  - grouped by Payment (Density Plot)')\n",
    "sns.set_color_codes(\"pastel\")\n",
    "sns.distplot(class_1,kde=True,bins=200, color=\"red\")\n",
    "sns.distplot(class_0,kde=True,bins=200, color=\"green\")\n",
    "plt.show()\n",
    "#Most of defaults are for loan amount 0-20k (and density for this interval is larger for defaults than for non-defaults).\n",
    "#Larger defaults number are for the amounts of 5k, 20k."
   ]
  },
  {
   "cell_type": "markdown",
   "metadata": {},
   "source": [
    "#### Part 2: feature construct"
   ]
  },
  {
   "cell_type": "markdown",
   "metadata": {},
   "source": [
    "##### datetime variable"
   ]
  },
  {
   "cell_type": "code",
   "execution_count": 14,
   "metadata": {},
   "outputs": [],
   "source": [
    "#we cannot employ any DateTime field of the yymmdd:hhmmss format in any tree-based methods. \n",
    "# derive year, month, day, weekday, etc. from this field.\n",
    "df = df.assign(hour=df.AP005.dt.hour,\n",
    "               day=df.AP005.dt.day,\n",
    "               month=df.AP005.dt.month,\n",
    "               year=df.AP005.dt.year)"
   ]
  },
  {
   "cell_type": "code",
   "execution_count": 15,
   "metadata": {},
   "outputs": [],
   "source": [
    "df['DayofWeek']=df['AP005'].apply(lambda x:x.dayofweek)"
   ]
  },
  {
   "cell_type": "markdown",
   "metadata": {},
   "source": [
    "##### categorical variable"
   ]
  },
  {
   "cell_type": "code",
   "execution_count": 16,
   "metadata": {},
   "outputs": [],
   "source": [
    "## Get_Dummy for One-Hot #\n",
    "#AP006 operation system\n",
    "dummies = pd.get_dummies(df['AP006'],dummy_na=True)\n",
    "df = pd.concat([df, dummies], axis=1)"
   ]
  },
  {
   "cell_type": "code",
   "execution_count": 17,
   "metadata": {},
   "outputs": [],
   "source": [
    "#MB007 device\n",
    "dummies2 = pd.get_dummies(df['MB007'],dummy_na=True)\n",
    "df = pd.concat([df, dummies2], axis=1)\n",
    "#since we are running  tree-based algorithms, \n",
    "#so there is no need to drop the variable"
   ]
  },
  {
   "cell_type": "code",
   "execution_count": 18,
   "metadata": {},
   "outputs": [],
   "source": [
    "#Ap002 gender\n",
    "# in oreder to standardlize, \n",
    "# change 1 to 0, 2 to 1\n",
    "df['AP002'] = df['AP002'] - 1"
   ]
  },
  {
   "cell_type": "code",
   "execution_count": 19,
   "metadata": {},
   "outputs": [],
   "source": [
    "#AP003 education level, dummy it \n",
    "df['AP003'] = df['AP003'].apply(lambda x:'education'+str(x))\n",
    "dummies3 = pd.get_dummies(df['AP003'],dummy_na=True)\n",
    "df = pd.concat([df, dummies3], axis=1)"
   ]
  },
  {
   "cell_type": "markdown",
   "metadata": {},
   "source": [
    "##### Numerical Variables"
   ]
  },
  {
   "cell_type": "code",
   "execution_count": 20,
   "metadata": {},
   "outputs": [],
   "source": [
    "###create a new dataframe onlu containing the numerical varibles\n",
    "###make it easier for the following steps (binning continuous variables)\n",
    "numerical_columns = ['MB005','CD173','CD172','CD170','CD169','CD167','CD166',\n",
    "                 'CD164','CD162','CD160','CD153','CD152','CD137','CD136',\n",
    "                 'CD135','CD133','CD132','CD131','CD130','CD123','CD121',\n",
    "                 'CD120','CD118','CD117','CD115','CD114','CD113','CD108',\n",
    "                 'CD107','CD106','CD101','CD100','CD088','CD072','CD071',\n",
    "                 'CD018','CD008','PA031','PA030','PA029','PA028','PA023',\n",
    "                 'PA022','CR019','CR018','CR017','CR015','CR012','CR009','CR005',\n",
    "                 'CR004','TD029','TD028','TD027','TD026','TD025','TD024','TD023',\n",
    "                 'TD022','TD015','TD014','TD013','TD010','TD009','TD006','TD005',\n",
    "                 'TD002','TD001','AP004']"
   ]
  },
  {
   "cell_type": "code",
   "execution_count": 21,
   "metadata": {},
   "outputs": [],
   "source": [
    "for col in numerical_columns:\n",
    "    df[col] = pd.qcut(df[col],10,duplicates='drop',labels=False)"
   ]
  },
  {
   "cell_type": "markdown",
   "metadata": {},
   "source": [
    "##### drop unwanted columns"
   ]
  },
  {
   "cell_type": "code",
   "execution_count": 22,
   "metadata": {},
   "outputs": [],
   "source": [
    "df.drop(['AP005','AP006','MB007','AP003'],axis=1,inplace=True)"
   ]
  },
  {
   "cell_type": "markdown",
   "metadata": {},
   "source": [
    "##### check missing values again"
   ]
  },
  {
   "cell_type": "code",
   "execution_count": 23,
   "metadata": {},
   "outputs": [
    {
     "data": {
      "text/html": [
       "<div>\n",
       "<style scoped>\n",
       "    .dataframe tbody tr th:only-of-type {\n",
       "        vertical-align: middle;\n",
       "    }\n",
       "\n",
       "    .dataframe tbody tr th {\n",
       "        vertical-align: top;\n",
       "    }\n",
       "\n",
       "    .dataframe thead th {\n",
       "        text-align: right;\n",
       "    }\n",
       "</style>\n",
       "<table border=\"1\" class=\"dataframe\">\n",
       "  <thead>\n",
       "    <tr style=\"text-align: right;\">\n",
       "      <th></th>\n",
       "      <th>Total</th>\n",
       "      <th>Percent</th>\n",
       "    </tr>\n",
       "  </thead>\n",
       "  <tbody>\n",
       "    <tr>\n",
       "      <td>TD025</td>\n",
       "      <td>80000</td>\n",
       "      <td>1.000000</td>\n",
       "    </tr>\n",
       "    <tr>\n",
       "      <td>TD027</td>\n",
       "      <td>80000</td>\n",
       "      <td>1.000000</td>\n",
       "    </tr>\n",
       "    <tr>\n",
       "      <td>TD028</td>\n",
       "      <td>80000</td>\n",
       "      <td>1.000000</td>\n",
       "    </tr>\n",
       "    <tr>\n",
       "      <td>TD029</td>\n",
       "      <td>80000</td>\n",
       "      <td>1.000000</td>\n",
       "    </tr>\n",
       "    <tr>\n",
       "      <td>CR012</td>\n",
       "      <td>80000</td>\n",
       "      <td>1.000000</td>\n",
       "    </tr>\n",
       "    <tr>\n",
       "      <td>TD026</td>\n",
       "      <td>80000</td>\n",
       "      <td>1.000000</td>\n",
       "    </tr>\n",
       "    <tr>\n",
       "      <td>TD022</td>\n",
       "      <td>19598</td>\n",
       "      <td>0.244975</td>\n",
       "    </tr>\n",
       "    <tr>\n",
       "      <td>TD023</td>\n",
       "      <td>7663</td>\n",
       "      <td>0.095787</td>\n",
       "    </tr>\n",
       "    <tr>\n",
       "      <td>TD024</td>\n",
       "      <td>3694</td>\n",
       "      <td>0.046175</td>\n",
       "    </tr>\n",
       "    <tr>\n",
       "      <td>MB005</td>\n",
       "      <td>2793</td>\n",
       "      <td>0.034912</td>\n",
       "    </tr>\n",
       "    <tr>\n",
       "      <td>CD107</td>\n",
       "      <td>381</td>\n",
       "      <td>0.004763</td>\n",
       "    </tr>\n",
       "    <tr>\n",
       "      <td>CD123</td>\n",
       "      <td>381</td>\n",
       "      <td>0.004763</td>\n",
       "    </tr>\n",
       "    <tr>\n",
       "      <td>CD100</td>\n",
       "      <td>381</td>\n",
       "      <td>0.004763</td>\n",
       "    </tr>\n",
       "    <tr>\n",
       "      <td>CD101</td>\n",
       "      <td>381</td>\n",
       "      <td>0.004763</td>\n",
       "    </tr>\n",
       "    <tr>\n",
       "      <td>CD130</td>\n",
       "      <td>381</td>\n",
       "      <td>0.004763</td>\n",
       "    </tr>\n",
       "    <tr>\n",
       "      <td>CD121</td>\n",
       "      <td>381</td>\n",
       "      <td>0.004763</td>\n",
       "    </tr>\n",
       "    <tr>\n",
       "      <td>CD108</td>\n",
       "      <td>381</td>\n",
       "      <td>0.004763</td>\n",
       "    </tr>\n",
       "    <tr>\n",
       "      <td>CD120</td>\n",
       "      <td>381</td>\n",
       "      <td>0.004763</td>\n",
       "    </tr>\n",
       "    <tr>\n",
       "      <td>CD106</td>\n",
       "      <td>381</td>\n",
       "      <td>0.004763</td>\n",
       "    </tr>\n",
       "    <tr>\n",
       "      <td>CD117</td>\n",
       "      <td>381</td>\n",
       "      <td>0.004763</td>\n",
       "    </tr>\n",
       "  </tbody>\n",
       "</table>\n",
       "</div>"
      ],
      "text/plain": [
       "       Total   Percent\n",
       "TD025  80000  1.000000\n",
       "TD027  80000  1.000000\n",
       "TD028  80000  1.000000\n",
       "TD029  80000  1.000000\n",
       "CR012  80000  1.000000\n",
       "TD026  80000  1.000000\n",
       "TD022  19598  0.244975\n",
       "TD023   7663  0.095787\n",
       "TD024   3694  0.046175\n",
       "MB005   2793  0.034912\n",
       "CD107    381  0.004763\n",
       "CD123    381  0.004763\n",
       "CD100    381  0.004763\n",
       "CD101    381  0.004763\n",
       "CD130    381  0.004763\n",
       "CD121    381  0.004763\n",
       "CD108    381  0.004763\n",
       "CD120    381  0.004763\n",
       "CD106    381  0.004763\n",
       "CD117    381  0.004763"
      ]
     },
     "execution_count": 23,
     "metadata": {},
     "output_type": "execute_result"
    }
   ],
   "source": [
    "total = df.isnull().sum().sort_values(ascending=False)\n",
    "percent = (df.isnull().sum()/df.isnull().count()).sort_values(ascending=False)\n",
    "missing_data = pd.concat([total, percent], axis=1, keys=['Total', 'Percent'])\n",
    "missing_data.head(20)"
   ]
  },
  {
   "cell_type": "code",
   "execution_count": 24,
   "metadata": {},
   "outputs": [],
   "source": [
    "# then we should notice variable 'TD025,026,027,028,029' and 'CR012' are 100% missing values, \n",
    "# when we look into these variables, we could find they do not carry any important information\n",
    "# because they only have 1 value (0) across the whole data set.\n",
    "# Therefore, I will drop them as well\n",
    "df.drop(['TD025','TD027','TD028','TD029','TD026','CR012'],axis=1,inplace=True)"
   ]
  },
  {
   "cell_type": "code",
   "execution_count": 25,
   "metadata": {},
   "outputs": [],
   "source": [
    "# for other missing values, \n",
    "# We uniformly replace them with -1\n",
    "df.fillna(-1,inplace=True)"
   ]
  },
  {
   "cell_type": "code",
   "execution_count": 26,
   "metadata": {},
   "outputs": [],
   "source": [
    "#drop columns named Nan\n",
    "df = df.loc[:, df.columns.notnull()]"
   ]
  },
  {
   "cell_type": "markdown",
   "metadata": {},
   "source": [
    "#### Part 3: Target Variable"
   ]
  },
  {
   "cell_type": "markdown",
   "metadata": {},
   "source": [
    " Note: our target variable is \"loan_default\", so we have a logistic problem (0 or 1)"
   ]
  },
  {
   "cell_type": "code",
   "execution_count": 27,
   "metadata": {},
   "outputs": [
    {
     "data": {
      "image/png": "[encoded data removed]",
      "text/plain": [
       "<Figure size 432x288 with 1 Axes>"
      ]
     },
     "metadata": {
      "needs_background": "light"
     },
     "output_type": "display_data"
    }
   ],
   "source": [
    "#Visulization\n",
    "import seaborn as sns\n",
    "import matplotlib.pyplot as plt\n",
    "%matplotlib inline\n",
    "plot_tr = sns.countplot(x='loan_default', data=df)\n",
    "plot_tr.set_title(\"Default Distribution \\n 0: No Downgrade | 1: Downgrade\", fontsize=16)\n",
    "plot_tr.set_xlabel(\"Is the loan defaulted?\", fontsize=14)\n",
    "plot_tr.set_ylabel('Count', fontsize=14)\n",
    "total = len(df)\n",
    "for p in plot_tr.patches:\n",
    "    height = p.get_height()\n",
    "    plot_tr.text(p.get_x()+p.get_width()/2.,\n",
    "            height + 3,\n",
    "            '{:1.2f}%'.format(height/total*100),\n",
    "            ha=\"center\", fontsize=12) "
   ]
  },
  {
   "cell_type": "markdown",
   "metadata": {},
   "source": [
    "#### Part 4: Variable Importance"
   ]
  },
  {
   "cell_type": "markdown",
   "metadata": {},
   "source": [
    "Since tree-based model is very lazy, there is no need to worry about the interaction between factors, so we can use as many as possible factors here (the good ones will be picked out by model automatically, and the bad ones will be kicked out directly). We don't need to worry about the correlation between factors."
   ]
  },
  {
   "cell_type": "code",
   "execution_count": 28,
   "metadata": {},
   "outputs": [
    {
     "data": {
      "text/plain": [
       "CD    36\n",
       "IP    13\n",
       "TD    12\n",
       "CR     7\n",
       "AP     7\n",
       "      ..\n",
       "FO     1\n",
       "da     1\n",
       "HR     1\n",
       "HI     1\n",
       "EY     1\n",
       "Name: source, Length: 92, dtype: int64"
      ]
     },
     "execution_count": 28,
     "metadata": {},
     "output_type": "execute_result"
    }
   ],
   "source": [
    "#classify variables\n",
    "var = pd.DataFrame(df.dtypes)\n",
    "var = pd.DataFrame(df.dtypes).reset_index()\n",
    "var.columns = ['varname','dtype'] \n",
    "var['source'] = var['varname'].str[:2]\n",
    "var['source'].value_counts()"
   ]
  },
  {
   "cell_type": "code",
   "execution_count": 29,
   "metadata": {},
   "outputs": [],
   "source": [
    "# \"AP004\" is a bad data field and should be removed.\n",
    "MB_list = list(var[var['source']=='MB']['varname'])\n",
    "AP_list = list(var[(var['source']=='AP') & (var['varname']!='AP004')]['varname'])\n",
    "TD_list = list(var[var['source']=='TD']['varname'])\n",
    "CR_list = list(var[var['source']=='CR']['varname'])\n",
    "PA_list = list(var[var['source']=='PA']['varname'])\n",
    "CD_list = list(var[var['source']=='CD']['varname'])\n",
    "#Aplist remove 'apple'\n",
    "AP_list.remove('APPLE')\n",
    "# other remaining variables to get a dummy list\n",
    "dummy_list = list(set(list(df.columns)).difference(set(MB_list+AP_list+TD_list+CR_list+PA_list+CD_list)))\n",
    "dummy_list.remove('id')"
   ]
  },
  {
   "cell_type": "code",
   "execution_count": 30,
   "metadata": {},
   "outputs": [],
   "source": [
    "predictors = MB_list + TD_list + AP_list + CD_list + CR_list + PA_list + dummy_list\n",
    "target='loan_default'"
   ]
  },
  {
   "cell_type": "code",
   "execution_count": 31,
   "metadata": {},
   "outputs": [],
   "source": [
    "def VarImp(model_name):\n",
    "    # plot the variable importance\n",
    "    plt.rcdefaults()\n",
    "    variables = model_name._model_json['output']['variable_importances']['variable']\n",
    "    y_pos = np.arange(len(variables))\n",
    "    fig, ax = plt.subplots(figsize = (6,len(variables)/2))\n",
    "    scaled_importance = model_name._model_json['output']['variable_importances']['scaled_importance']\n",
    "    ax.barh(y_pos,scaled_importance,align='center',color='green')\n",
    "    ax.set_yticks(y_pos)\n",
    "    ax.set_yticklabels(variables)\n",
    "    ax.invert_yaxis()\n",
    "    ax.set_xlabel('Scaled Importance')\n",
    "    ax.set_title('Variable Importance')\n",
    "    plt.show()"
   ]
  },
  {
   "cell_type": "markdown",
   "metadata": {},
   "source": [
    "#### Part 5: Define Evaluation Index"
   ]
  },
  {
   "cell_type": "code",
   "execution_count": 32,
   "metadata": {},
   "outputs": [],
   "source": [
    "from sklearn.metrics import roc_curve,auc\n",
    "from sklearn.metrics import average_precision_score\n",
    "from sklearn.metrics import precision_recall_curve\n",
    "import matplotlib.pyplot as plt\n",
    "##check confusion_matrix\n",
    "def confusion_matrix(pred,real):\n",
    "    x = pd.DataFrame()\n",
    "    x['label'] = real\n",
    "    x['predict'] = pred\n",
    "\n",
    "    TruePositive = sum(x[x['predict']==1]['label'])\n",
    "    FalsePositive = sum(1-x[x['predict']==1]['label'])\n",
    "    TrueNegative = sum(1-x[x['predict']==0]['label'])\n",
    "    FalseNegative = sum(x[x['predict']==0]['label'])\n",
    "\n",
    "    Precision = TruePositive/(TruePositive+FalsePositive)\n",
    "    Recall = TruePositive/(TruePositive+FalseNegative)\n",
    "    print('\\nPrecision: {}'.format(Precision))\n",
    "    print('Recall: {}\\n'.format(Recall))\n",
    "    _confusion_matrix = pd.DataFrame({\n",
    "                    'Negative':{'False':FalseNegative,'True':TrueNegative},\n",
    "                    'Positive':{'False':FalsePositive,'True':TruePositive}                            \n",
    "                    })      \n",
    "    \n",
    "    print(_confusion_matrix)\n",
    "    return _confusion_matrix"
   ]
  },
  {
   "cell_type": "code",
   "execution_count": 33,
   "metadata": {},
   "outputs": [],
   "source": [
    "def ROC_AUC(my_result,df,target):\n",
    "\n",
    "    # ROC\n",
    "    y_actual = df[target].as_data_frame()\n",
    "    y_pred = my_result.predict(df).as_data_frame()\n",
    "    fpr = list()\n",
    "    tpr = list()\n",
    "    roc_auc = list()\n",
    "    fpr,tpr,threshold = roc_curve(y_actual,y_pred) ###Calculate the true positive rate and the false positive rate\n",
    "    roc_auc = auc(fpr,tpr) ###calculate auc\n",
    "    \n",
    "    # Precision-Recall\n",
    "    average_precision = average_precision_score(y_actual,y_pred)\n",
    "\n",
    "    print('')\n",
    "    print('   * ROC curve: The ROC curve plots the true positive rate vs. the false rositive sate')\n",
    "    print('')\n",
    "    print('\t  * The area under the curve (AUC): A value between 0.5 (random) and 1.0 (perfect), measuring the prediction accuracy')\n",
    "    print('')\n",
    "    print('   * Recall (R) = The number of true positives / (the number of true positives + the number of false negatives)')\n",
    "    print('')\n",
    "    \n",
    "    # plotting\n",
    "    plt.figure(figsize=(10,4))\n",
    "\n",
    "    # ROC curve\n",
    "    plt.subplot(1,2,1)\n",
    "    plt.plot(fpr,tpr,color='darkorange',lw=2,label='ROC curve (area=%0.2f)' % roc_auc) ###The false positive rate is the abscissa, and the true rate is the ordinate\n",
    "    plt.plot([0,1],[0,1],color='navy',lw=3,linestyle='--')\n",
    "    plt.xlim([0.0,1.0])\n",
    "    plt.ylim([0.0,1.05])\n",
    "    plt.xlabel('False Positive Rate')\n",
    "    plt.ylabel('True Positive Rate')\n",
    "    plt.title('Receiver operating characteristic curve: AUC={0:0.4f}'.format(roc_auc))\n",
    "    plt.legend(loc='lower right')\n",
    "\n",
    "    # Precision-Recall curve\n",
    "    plt.subplot(1,2,2)\n",
    "    precision,recall,_ = precision_recall_curve(y_actual,y_pred)\n",
    "    plt.step(recall,precision,color='b',alpha=0.2,where='post')\n",
    "    plt.fill_between(recall,precision,step='post',alpha=0.2,color='b')\n",
    "    plt.xlabel('Recall')\n",
    "    plt.ylabel('Precision')\n",
    "    plt.ylim([0.0,1.05])\n",
    "    plt.xlim([0.0,1.0])\n",
    "    plt.title('Precision-Recall curve: PR={0:0.4f}'.format(average_precision))\n",
    "    plt.show()"
   ]
  },
  {
   "cell_type": "code",
   "execution_count": 34,
   "metadata": {},
   "outputs": [],
   "source": [
    "###create gains table\n",
    "def createGains(model):\n",
    "    predictions = model.predict(test_hex)\n",
    "    test_scores = test_hex['loan_default'].cbind(predictions).as_data_frame()\n",
    "\n",
    "    #sort on prediction (descending), add id, and decile for groups containing 1/10 of datapoints\n",
    "    test_scores = test_scores.sort_values(by='predict',ascending=False)\n",
    "    test_scores['row_id'] = range(0,0+len(test_scores))\n",
    "    test_scores['decile'] = ( test_scores['row_id'] / (len(test_scores)/10) ).astype(int)\n",
    "    #see count by decile\n",
    "    test_scores.loc[test_scores['decile'] == 10]=9\n",
    "    test_scores['decile'].value_counts()\n",
    "\n",
    "    #create gains table\n",
    "    gains = test_scores.groupby('decile')['loan_default'].agg(['count','sum'])\n",
    "    gains.columns = ['count','actual']\n",
    "    gains\n",
    "\n",
    "    #add features to gains table\n",
    "    gains['non_actual'] = gains['count'] - gains['actual']\n",
    "    gains['cum_count'] = gains['count'].cumsum()\n",
    "    gains['cum_actual'] = gains['actual'].cumsum()\n",
    "    gains['cum_non_actual'] = gains['non_actual'].cumsum()\n",
    "    gains['percent_cum_actual'] = (gains['cum_actual'] / np.max(gains['cum_actual'])).round(2)\n",
    "    gains['percent_cum_non_actual'] = (gains['cum_non_actual'] / np.max(gains['cum_non_actual'])).round(2)\n",
    "    gains['if_random'] = np.max(gains['cum_actual']) /10 \n",
    "    gains['if_random'] = gains['if_random'].cumsum()\n",
    "    gains['lift'] = (gains['cum_actual'] / gains['if_random']).round(2)\n",
    "    gains['K_S'] = np.abs( gains['percent_cum_actual'] -  gains['percent_cum_non_actual'] ) * 100\n",
    "    gains['gain']=(gains['cum_actual']/gains['cum_count']*100).round(2)\n",
    "    gains = pd.DataFrame(gains)\n",
    "    return(gains)"
   ]
  },
  {
   "cell_type": "markdown",
   "metadata": {},
   "source": [
    "#### Part 6: Undersampling"
   ]
  },
  {
   "cell_type": "code",
   "execution_count": 35,
   "metadata": {},
   "outputs": [],
   "source": [
    "from sklearn.datasets import make_classification\n",
    "from collections import Counter\n",
    "from sklearn.decomposition import PCA\n",
    "import pylab as pl\n",
    "def plot_this(X_rs,y_rs,method):\n",
    "    # Use principal component to condense the 10 features to 2 features\n",
    "    pca = PCA(n_components=2).fit(X_rs)\n",
    "    pca_2d = pca.transform(X_rs)\n",
    "    # Assign colors\n",
    "    for i in range(0, pca_2d.shape[0]):\n",
    "        if y_rs[i] == 0:\n",
    "            c1 = plt.scatter(pca_2d[i,0],pca_2d[i,1],c='r', marker='o')\n",
    "        elif y_rs[i] == 1:\n",
    "            c2 = plt.scatter(pca_2d[i,0],pca_2d[i,1],c='g', marker='*')  \n",
    "    #plt.legend([c1, c2], ['Class 1', 'Class 2']\n",
    "    #plt.title(method)\n",
    "    #pl.axis([-4, 5, -4, 4])  # x axis (-4,5), y axis (-4,4)\n",
    "    plt.show()"
   ]
  },
  {
   "cell_type": "code",
   "execution_count": 67,
   "metadata": {},
   "outputs": [
    {
     "name": "stdout",
     "output_type": "stream",
     "text": [
      "Random undersampling Counter({0: 15488, 1: 15488})\n"
     ]
    },
    {
     "data": {
      "image/png": "[encoded data removed]",
      "text/plain": [
       "<Figure size 432x288 with 1 Axes>"
      ]
     },
     "metadata": {
      "needs_background": "light"
     },
     "output_type": "display_data"
    }
   ],
   "source": [
    "## here i will try RandomUnderSampler\n",
    "from collections import Counter\n",
    "from imblearn.under_sampling import (RandomUnderSampler, \n",
    "                                     ClusterCentroids,\n",
    "                                     TomekLinks,\n",
    "                                     NeighbourhoodCleaningRule,\n",
    "                                     NearMiss)\n",
    "X = df[predictors]\n",
    "y = df[target]\n",
    "\n",
    "# RandomUnderSampler\n",
    "sampler = RandomUnderSampler(random_state=42)\n",
    "X_rs, y_rs = sampler.fit_sample(X, y)\n",
    "print('Random undersampling {}'.format(Counter(y_rs)))\n",
    "plot_this(X_rs,y_rs,'Random undersampling')"
   ]
  },
  {
   "cell_type": "markdown",
   "metadata": {},
   "source": [
    "#### Part 7: Modelling"
   ]
  },
  {
   "cell_type": "code",
   "execution_count": 38,
   "metadata": {},
   "outputs": [
    {
     "name": "stdout",
     "output_type": "stream",
     "text": [
      "Checking whether there is an H2O instance running at http://localhost:54321 ..... not found.\n",
      "Attempting to start a local H2O server...\n",
      "  Java Version: openjdk version \"1.8.0_152-release\"; OpenJDK Runtime Environment (build 1.8.0_152-release-1056-b12); OpenJDK 64-Bit Server VM (build 25.152-b12, mixed mode)\n",
      "  Starting server from /opt/anaconda3/lib/python3.7/site-packages/h2o/backend/bin/h2o.jar\n",
      "  Ice root: /var/folders/tt/c8c74ptx7hd3ln9pgn4ych_h0000gn/T/tmpwqdwbayn\n",
      "  JVM stdout: /var/folders/tt/c8c74ptx7hd3ln9pgn4ych_h0000gn/T/tmpwqdwbayn/h2o_jiayangdu_started_from_python.out\n",
      "  JVM stderr: /var/folders/tt/c8c74ptx7hd3ln9pgn4ych_h0000gn/T/tmpwqdwbayn/h2o_jiayangdu_started_from_python.err\n",
      "  Server is running at http://127.0.0.1:54321\n",
      "Connecting to H2O server at http://127.0.0.1:54321 ... successful.\n"
     ]
    },
    {
     "data": {
      "text/html": [
       "<div style=\"overflow:auto\"><table style=\"width:50%\"><tr><td>H2O_cluster_uptime:</td>\n",
       "<td>02 secs</td></tr>\n",
       "<tr><td>H2O_cluster_timezone:</td>\n",
       "<td>America/New_York</td></tr>\n",
       "<tr><td>H2O_data_parsing_timezone:</td>\n",
       "<td>UTC</td></tr>\n",
       "<tr><td>H2O_cluster_version:</td>\n",
       "<td>3.30.0.7</td></tr>\n",
       "<tr><td>H2O_cluster_version_age:</td>\n",
       "<td>4 days </td></tr>\n",
       "<tr><td>H2O_cluster_name:</td>\n",
       "<td>H2O_from_python_jiayangdu_im6x76</td></tr>\n",
       "<tr><td>H2O_cluster_total_nodes:</td>\n",
       "<td>1</td></tr>\n",
       "<tr><td>H2O_cluster_free_memory:</td>\n",
       "<td>1.778 Gb</td></tr>\n",
       "<tr><td>H2O_cluster_total_cores:</td>\n",
       "<td>8</td></tr>\n",
       "<tr><td>H2O_cluster_allowed_cores:</td>\n",
       "<td>8</td></tr>\n",
       "<tr><td>H2O_cluster_status:</td>\n",
       "<td>accepting new members, healthy</td></tr>\n",
       "<tr><td>H2O_connection_url:</td>\n",
       "<td>http://127.0.0.1:54321</td></tr>\n",
       "<tr><td>H2O_connection_proxy:</td>\n",
       "<td>{\"http\": null, \"https\": null}</td></tr>\n",
       "<tr><td>H2O_internal_security:</td>\n",
       "<td>False</td></tr>\n",
       "<tr><td>H2O_API_Extensions:</td>\n",
       "<td>Amazon S3, XGBoost, Algos, AutoML, Core V3, TargetEncoder, Core V4</td></tr>\n",
       "<tr><td>Python_version:</td>\n",
       "<td>3.7.4 final</td></tr></table></div>"
      ],
      "text/plain": [
       "--------------------------  ------------------------------------------------------------------\n",
       "H2O_cluster_uptime:         02 secs\n",
       "H2O_cluster_timezone:       America/New_York\n",
       "H2O_data_parsing_timezone:  UTC\n",
       "H2O_cluster_version:        3.30.0.7\n",
       "H2O_cluster_version_age:    4 days\n",
       "H2O_cluster_name:           H2O_from_python_jiayangdu_im6x76\n",
       "H2O_cluster_total_nodes:    1\n",
       "H2O_cluster_free_memory:    1.778 Gb\n",
       "H2O_cluster_total_cores:    8\n",
       "H2O_cluster_allowed_cores:  8\n",
       "H2O_cluster_status:         accepting new members, healthy\n",
       "H2O_connection_url:         http://127.0.0.1:54321\n",
       "H2O_connection_proxy:       {\"http\": null, \"https\": null}\n",
       "H2O_internal_security:      False\n",
       "H2O_API_Extensions:         Amazon S3, XGBoost, Algos, AutoML, Core V3, TargetEncoder, Core V4\n",
       "Python_version:             3.7.4 final\n",
       "--------------------------  ------------------------------------------------------------------"
      ]
     },
     "metadata": {},
     "output_type": "display_data"
    }
   ],
   "source": [
    "import h2o\n",
    "h2o.init()"
   ]
  },
  {
   "cell_type": "code",
   "execution_count": 39,
   "metadata": {},
   "outputs": [],
   "source": [
    "from h2o.estimators.gbm import H2OGradientBoostingEstimator\n",
    "from h2o.estimators.random_forest import H2ORandomForestEstimator"
   ]
  },
  {
   "cell_type": "code",
   "execution_count": 40,
   "metadata": {},
   "outputs": [],
   "source": [
    "y_rs = y_rs.to_frame()"
   ]
  },
  {
   "cell_type": "code",
   "execution_count": 41,
   "metadata": {},
   "outputs": [],
   "source": [
    "#concatenate X_rs and y_rs to a data frame\n",
    "df = pd.concat([X_rs, y_rs])\n",
    "df = df.dropna()"
   ]
  },
  {
   "cell_type": "markdown",
   "metadata": {},
   "source": [
    "##### Model1: Random Forest"
   ]
  },
  {
   "cell_type": "code",
   "execution_count": 87,
   "metadata": {},
   "outputs": [],
   "source": [
    "#train test split 7:3\n",
    "from sklearn.model_selection import train_test_split\n",
    "train, test = train_test_split(df, test_size=0.30, random_state=42)"
   ]
  },
  {
   "cell_type": "code",
   "execution_count": 88,
   "metadata": {},
   "outputs": [
    {
     "name": "stdout",
     "output_type": "stream",
     "text": [
      "Parse progress: |█████████████████████████████████████████████████████████| 100%\n",
      "Parse progress: |█████████████████████████████████████████████████████████| 100%\n"
     ]
    }
   ],
   "source": [
    "#try small sample dataset to run model first\n",
    "#convert to a H2O data frame \n",
    "from h2o.frame import H2OFrame\n",
    "train_smpl = train.sample(frac=0.1, random_state=1)\n",
    "test_smpl = test.sample(frac=0.1, random_state=1)\n",
    "train_hex = h2o.H2OFrame(train_smpl)\n",
    "test_hex = h2o.H2OFrame(test_smpl)"
   ]
  },
  {
   "cell_type": "code",
   "execution_count": 89,
   "metadata": {},
   "outputs": [
    {
     "name": "stdout",
     "output_type": "stream",
     "text": [
      "drf Model Build progress: |███████████████████████████████████████████████| 100%\n"
     ]
    }
   ],
   "source": [
    "rf_v1 = H2ORandomForestEstimator(\n",
    "        model_id = 'rf_v1',\n",
    "        ntrees = 300,\n",
    "        nfolds=10,\n",
    "        min_rows=100,\n",
    "        seed=1234)\n",
    "rf_v1.train(predictors,target,training_frame=train_hex)"
   ]
  },
  {
   "cell_type": "code",
   "execution_count": 90,
   "metadata": {
    "scrolled": true
   },
   "outputs": [
    {
     "data": {
      "image/png": "[encoded data removed]",
      "text/plain": [
       "<Figure size 600x5600 with 1 Axes>"
      ]
     },
     "metadata": {},
     "output_type": "display_data"
    }
   ],
   "source": [
    "#check the variable importance \n",
    "VarImp(rf_v1)"
   ]
  },
  {
   "cell_type": "code",
   "execution_count": 91,
   "metadata": {},
   "outputs": [
    {
     "name": "stdout",
     "output_type": "stream",
     "text": [
      "drf prediction progress: |████████████████████████████████████████████████| 100%\n"
     ]
    },
    {
     "data": {
      "text/html": [
       "<div>\n",
       "<style scoped>\n",
       "    .dataframe tbody tr th:only-of-type {\n",
       "        vertical-align: middle;\n",
       "    }\n",
       "\n",
       "    .dataframe tbody tr th {\n",
       "        vertical-align: top;\n",
       "    }\n",
       "\n",
       "    .dataframe thead th {\n",
       "        text-align: right;\n",
       "    }\n",
       "</style>\n",
       "<table border=\"1\" class=\"dataframe\">\n",
       "  <thead>\n",
       "    <tr style=\"text-align: right;\">\n",
       "      <th></th>\n",
       "      <th>loan_default</th>\n",
       "      <th>predict</th>\n",
       "    </tr>\n",
       "  </thead>\n",
       "  <tbody>\n",
       "    <tr>\n",
       "      <td>0</td>\n",
       "      <td>1</td>\n",
       "      <td>0.584776</td>\n",
       "    </tr>\n",
       "    <tr>\n",
       "      <td>1</td>\n",
       "      <td>0</td>\n",
       "      <td>0.337304</td>\n",
       "    </tr>\n",
       "    <tr>\n",
       "      <td>2</td>\n",
       "      <td>0</td>\n",
       "      <td>0.483436</td>\n",
       "    </tr>\n",
       "    <tr>\n",
       "      <td>3</td>\n",
       "      <td>0</td>\n",
       "      <td>0.518015</td>\n",
       "    </tr>\n",
       "    <tr>\n",
       "      <td>4</td>\n",
       "      <td>1</td>\n",
       "      <td>0.640596</td>\n",
       "    </tr>\n",
       "  </tbody>\n",
       "</table>\n",
       "</div>"
      ],
      "text/plain": [
       "   loan_default   predict\n",
       "0             1  0.584776\n",
       "1             0  0.337304\n",
       "2             0  0.483436\n",
       "3             0  0.518015\n",
       "4             1  0.640596"
      ]
     },
     "execution_count": 91,
     "metadata": {},
     "output_type": "execute_result"
    }
   ],
   "source": [
    "predictions = rf_v1.predict(test_hex)\n",
    "test_scores = test_hex['loan_default'].cbind(predictions).as_data_frame()\n",
    "test_scores.head()"
   ]
  },
  {
   "cell_type": "markdown",
   "metadata": {},
   "source": [
    "###### Model 1 RF evaluation"
   ]
  },
  {
   "cell_type": "code",
   "execution_count": 92,
   "metadata": {},
   "outputs": [
    {
     "name": "stdout",
     "output_type": "stream",
     "text": [
      "drf prediction progress: |████████████████████████████████████████████████| 100%\n",
      "\n",
      "   * ROC curve: The ROC curve plots the true positive rate vs. the false rositive sate\n",
      "\n",
      "\t  * The area under the curve (AUC): A value between 0.5 (random) and 1.0 (perfect), measuring the prediction accuracy\n",
      "\n",
      "   * Recall (R) = The number of true positives / (the number of true positives + the number of false negatives)\n",
      "\n"
     ]
    },
    {
     "data": {
      "image/png": "[encoded data removed]",
      "text/plain": [
       "<Figure size 1000x400 with 2 Axes>"
      ]
     },
     "metadata": {},
     "output_type": "display_data"
    }
   ],
   "source": [
    "ROC_AUC(rf_v1,test_hex,'loan_default')"
   ]
  },
  {
   "cell_type": "markdown",
   "metadata": {},
   "source": [
    "from the above figures, we can see that the model performance is not ideal with a low value of ROC."
   ]
  },
  {
   "cell_type": "markdown",
   "metadata": {},
   "source": [
    "###### Parameter Tuning"
   ]
  },
  {
   "cell_type": "code",
   "execution_count": 93,
   "metadata": {},
   "outputs": [],
   "source": [
    "###########Define the grid parameters###########\n",
    "from h2o.grid.grid_search import H2OGridSearch\n",
    "estimator = H2ORandomForestEstimator(\n",
    "    # Stops fitting new trees when 5-tree rolling average is within 1e-4\n",
    "    stopping_rounds = 10,\n",
    "    stopping_tolerance = 0.00001,\n",
    "    stopping_metric = 'auto',\n",
    "    score_each_iteration = True,\n",
    "    balance_classes = True,\n",
    "    seed = 7)\n",
    "\n",
    "hyper_parameters = {'ntrees':[10,20,30,40,50,100,200,300,500,600,700,800,900,1000,1500,2000], \n",
    "                    'max_depth':[2,3,5,6,7,8,9,10,12,15,20, 25, 30, 40, 50, 60, 70, 80, 90, 100]\n",
    "                   }\n",
    "\n",
    "criteria = {\"strategy\": \"RandomDiscrete\", \n",
    "            \"stopping_rounds\": 10,\n",
    "            \"stopping_tolerance\": 0.00001,\n",
    "            \"stopping_metric\": \"misclassification\"}\n",
    "\n",
    "grid_search = H2OGridSearch(model = estimator, \n",
    "                            hyper_params = hyper_parameters,\n",
    "                            search_criteria = criteria)"
   ]
  },
  {
   "cell_type": "code",
   "execution_count": 110,
   "metadata": {},
   "outputs": [
    {
     "name": "stdout",
     "output_type": "stream",
     "text": [
      "Best max_depth..... 7\n",
      "Best ntrees........ 900\n",
      "Best rmse........... 0.15632192378921017\n"
     ]
    }
   ],
   "source": [
    "#Now train the network\n",
    "grid_search.train(x = predictors,\n",
    "                  y = target,\n",
    "                  training_frame = train_hex)\n",
    "#Sort the grid models by increasing rmse \n",
    "#the smaller the rmse is, the better the model performed\n",
    "sorted_grid = grid_search.get_grid(sort_by='rmse',decreasing=False)\n",
    "# print('Best model sorted by auc:\\n', sorted_grid.models[0])\n",
    "\n",
    "best_max_depth  = sorted_grid.sorted_metric_table()['max_depth'][0]\n",
    "best_ntrees     = sorted_grid.sorted_metric_table()['ntrees'][0]\n",
    "#best_auc        = sorted_grid.sorted_metric_table()['auc'][0]\n",
    "#sorted_grid_mse = grid_search.get_grid(sort_by='mse',decreasing=True)\n",
    "best_rmse        = sorted_grid.sorted_metric_table()['rmse'][0]\n",
    "\n",
    "print('Best max_depth.....', best_max_depth)\n",
    "print('Best ntrees........', best_ntrees)\n",
    "#print('Best auc...........', best_auc)\n",
    "print('Best rmse...........', best_mse)"
   ]
  },
  {
   "cell_type": "code",
   "execution_count": 94,
   "metadata": {},
   "outputs": [
    {
     "name": "stdout",
     "output_type": "stream",
     "text": [
      "drf Model Build progress: |███████████████████████████████████████████████| 100%\n"
     ]
    }
   ],
   "source": [
    "best_rf = H2ORandomForestEstimator(\n",
    "    model_id = \"best_rf\",\n",
    "    ntrees = 900,\n",
    "    max_depth = 7,\n",
    "    nfolds= 5,\n",
    "    min_rows=100,\n",
    "    #stopping_rounds = 10,\n",
    "    #score_each_iteration = True,\n",
    "    seed = 7)\n",
    "\n",
    "best_rf.train(predictors, \n",
    "              target, \n",
    "              training_frame = train_hex)"
   ]
  },
  {
   "cell_type": "code",
   "execution_count": 95,
   "metadata": {},
   "outputs": [
    {
     "name": "stdout",
     "output_type": "stream",
     "text": [
      "drf prediction progress: |████████████████████████████████████████████████| 100%\n"
     ]
    },
    {
     "data": {
      "text/html": [
       "<div>\n",
       "<style scoped>\n",
       "    .dataframe tbody tr th:only-of-type {\n",
       "        vertical-align: middle;\n",
       "    }\n",
       "\n",
       "    .dataframe tbody tr th {\n",
       "        vertical-align: top;\n",
       "    }\n",
       "\n",
       "    .dataframe thead th {\n",
       "        text-align: right;\n",
       "    }\n",
       "</style>\n",
       "<table border=\"1\" class=\"dataframe\">\n",
       "  <thead>\n",
       "    <tr style=\"text-align: right;\">\n",
       "      <th></th>\n",
       "      <th>actual</th>\n",
       "      <th>pred</th>\n",
       "    </tr>\n",
       "  </thead>\n",
       "  <tbody>\n",
       "    <tr>\n",
       "      <td>0</td>\n",
       "      <td>1</td>\n",
       "      <td>0.571524</td>\n",
       "    </tr>\n",
       "    <tr>\n",
       "      <td>1</td>\n",
       "      <td>0</td>\n",
       "      <td>0.323420</td>\n",
       "    </tr>\n",
       "    <tr>\n",
       "      <td>2</td>\n",
       "      <td>0</td>\n",
       "      <td>0.472834</td>\n",
       "    </tr>\n",
       "    <tr>\n",
       "      <td>3</td>\n",
       "      <td>0</td>\n",
       "      <td>0.528981</td>\n",
       "    </tr>\n",
       "    <tr>\n",
       "      <td>4</td>\n",
       "      <td>1</td>\n",
       "      <td>0.651204</td>\n",
       "    </tr>\n",
       "  </tbody>\n",
       "</table>\n",
       "</div>"
      ],
      "text/plain": [
       "   actual      pred\n",
       "0       1  0.571524\n",
       "1       0  0.323420\n",
       "2       0  0.472834\n",
       "3       0  0.528981\n",
       "4       1  0.651204"
      ]
     },
     "execution_count": 95,
     "metadata": {},
     "output_type": "execute_result"
    }
   ],
   "source": [
    "def actual_predict(model,test_hex,target):\n",
    "    y_pred = model.predict(test_hex).as_data_frame()\n",
    "    y_actual = test_hex[target].as_data_frame()\n",
    "    df_actual_predict = pd.concat([y_actual,y_pred],axis=1)\n",
    "    df_actual_predict.columns = ['actual','pred']\n",
    "    return(df_actual_predict)\n",
    "RF_actual_predict = actual_predict(best_rf,test_hex,target)\n",
    "RF_actual_predict.head()"
   ]
  },
  {
   "cell_type": "code",
   "execution_count": 96,
   "metadata": {},
   "outputs": [
    {
     "data": {
      "text/plain": [
       "0.6575990068975817"
      ]
     },
     "execution_count": 96,
     "metadata": {},
     "output_type": "execute_result"
    }
   ],
   "source": [
    "# ROC\n",
    "from sklearn.metrics import roc_auc_score\n",
    "rf_roc_auc_value = roc_auc_score(RF_actual_predict['actual'],RF_actual_predict['pred'])\n",
    "rf_roc_auc_value"
   ]
  },
  {
   "cell_type": "markdown",
   "metadata": {},
   "source": [
    "There is no large improvement on the performance of my model, so i guess we could increase the accuracy through random oversampling or adjusting some of criterias."
   ]
  },
  {
   "cell_type": "markdown",
   "metadata": {},
   "source": [
    "###### Now the code works fine with the small dataset, we can model with the entire dataset"
   ]
  },
  {
   "cell_type": "code",
   "execution_count": 97,
   "metadata": {
    "scrolled": false
   },
   "outputs": [
    {
     "name": "stdout",
     "output_type": "stream",
     "text": [
      "Parse progress: |█████████████████████████████████████████████████████████| 100%\n",
      "Parse progress: |█████████████████████████████████████████████████████████| 100%\n",
      "Parse progress: |█████████████████████████████████████████████████████████| 100%\n"
     ]
    }
   ],
   "source": [
    "df_hex = h2o.H2OFrame(df)\n",
    "train_hex = h2o.H2OFrame(train)\n",
    "test_hex = h2o.H2OFrame(test)"
   ]
  },
  {
   "cell_type": "code",
   "execution_count": 98,
   "metadata": {},
   "outputs": [
    {
     "name": "stdout",
     "output_type": "stream",
     "text": [
      "drf Model Build progress: |███████████████████████████████████████████████| 100%\n"
     ]
    }
   ],
   "source": [
    "rf_v2 = H2ORandomForestEstimator(\n",
    "        model_id = 'RF',\n",
    "        ntrees = 900,\n",
    "        nfolds=10,\n",
    "        min_rows=100,\n",
    "        seed=7)\n",
    "\n",
    "rf_v2.train(predictors,target,training_frame=train_hex)"
   ]
  },
  {
   "cell_type": "code",
   "execution_count": 99,
   "metadata": {},
   "outputs": [
    {
     "name": "stdout",
     "output_type": "stream",
     "text": [
      "drf prediction progress: |████████████████████████████████████████████████| 100%\n"
     ]
    },
    {
     "data": {
      "text/html": [
       "<div>\n",
       "<style scoped>\n",
       "    .dataframe tbody tr th:only-of-type {\n",
       "        vertical-align: middle;\n",
       "    }\n",
       "\n",
       "    .dataframe tbody tr th {\n",
       "        vertical-align: top;\n",
       "    }\n",
       "\n",
       "    .dataframe thead th {\n",
       "        text-align: right;\n",
       "    }\n",
       "</style>\n",
       "<table border=\"1\" class=\"dataframe\">\n",
       "  <thead>\n",
       "    <tr style=\"text-align: right;\">\n",
       "      <th></th>\n",
       "      <th>actual</th>\n",
       "      <th>pred</th>\n",
       "    </tr>\n",
       "  </thead>\n",
       "  <tbody>\n",
       "    <tr>\n",
       "      <td>0</td>\n",
       "      <td>1</td>\n",
       "      <td>0.472194</td>\n",
       "    </tr>\n",
       "    <tr>\n",
       "      <td>1</td>\n",
       "      <td>0</td>\n",
       "      <td>0.515944</td>\n",
       "    </tr>\n",
       "    <tr>\n",
       "      <td>2</td>\n",
       "      <td>0</td>\n",
       "      <td>0.558297</td>\n",
       "    </tr>\n",
       "    <tr>\n",
       "      <td>3</td>\n",
       "      <td>0</td>\n",
       "      <td>0.310929</td>\n",
       "    </tr>\n",
       "    <tr>\n",
       "      <td>4</td>\n",
       "      <td>0</td>\n",
       "      <td>0.418860</td>\n",
       "    </tr>\n",
       "  </tbody>\n",
       "</table>\n",
       "</div>"
      ],
      "text/plain": [
       "   actual      pred\n",
       "0       1  0.472194\n",
       "1       0  0.515944\n",
       "2       0  0.558297\n",
       "3       0  0.310929\n",
       "4       0  0.418860"
      ]
     },
     "execution_count": 99,
     "metadata": {},
     "output_type": "execute_result"
    }
   ],
   "source": [
    "# put together the actual and predicted values\n",
    "def actual_predict(model,test_hex,target):\n",
    "    y_pred = model.predict(test_hex).as_data_frame()\n",
    "    y_actual = test_hex[target].as_data_frame()\n",
    "    df_actual_predict = pd.concat([y_actual,y_pred],axis=1)\n",
    "    df_actual_predict.columns = ['actual','pred']\n",
    "    return(df_actual_predict)\n",
    "RF_actual_predict = actual_predict(rf_v2,test_hex,target)\n",
    "RF_actual_predict.head()"
   ]
  },
  {
   "cell_type": "markdown",
   "metadata": {},
   "source": [
    "###### Evaluate again"
   ]
  },
  {
   "cell_type": "code",
   "execution_count": 100,
   "metadata": {},
   "outputs": [
    {
     "name": "stdout",
     "output_type": "stream",
     "text": [
      "drf prediction progress: |████████████████████████████████████████████████| 100%\n",
      "\n",
      "   * ROC curve: The ROC curve plots the true positive rate vs. the false rositive sate\n",
      "\n",
      "\t  * The area under the curve (AUC): A value between 0.5 (random) and 1.0 (perfect), measuring the prediction accuracy\n",
      "\n",
      "   * Recall (R) = The number of true positives / (the number of true positives + the number of false negatives)\n",
      "\n"
     ]
    },
    {
     "data": {
      "image/png": "[encoded data removed]",
      "text/plain": [
       "<Figure size 1000x400 with 2 Axes>"
      ]
     },
     "metadata": {},
     "output_type": "display_data"
    }
   ],
   "source": [
    "ROC_AUC(rf_v2,test_hex,'loan_default')"
   ]
  },
  {
   "cell_type": "code",
   "execution_count": 101,
   "metadata": {},
   "outputs": [
    {
     "name": "stdout",
     "output_type": "stream",
     "text": [
      "drf prediction progress: |████████████████████████████████████████████████| 100%\n"
     ]
    },
    {
     "data": {
      "text/html": [
       "<div>\n",
       "<style scoped>\n",
       "    .dataframe tbody tr th:only-of-type {\n",
       "        vertical-align: middle;\n",
       "    }\n",
       "\n",
       "    .dataframe tbody tr th {\n",
       "        vertical-align: top;\n",
       "    }\n",
       "\n",
       "    .dataframe thead th {\n",
       "        text-align: right;\n",
       "    }\n",
       "</style>\n",
       "<table border=\"1\" class=\"dataframe\">\n",
       "  <thead>\n",
       "    <tr style=\"text-align: right;\">\n",
       "      <th></th>\n",
       "      <th>count</th>\n",
       "      <th>actual</th>\n",
       "      <th>non_actual</th>\n",
       "      <th>cum_count</th>\n",
       "      <th>cum_actual</th>\n",
       "      <th>cum_non_actual</th>\n",
       "      <th>percent_cum_actual</th>\n",
       "      <th>percent_cum_non_actual</th>\n",
       "      <th>if_random</th>\n",
       "      <th>lift</th>\n",
       "      <th>K_S</th>\n",
       "      <th>gain</th>\n",
       "    </tr>\n",
       "    <tr>\n",
       "      <th>decile</th>\n",
       "      <th></th>\n",
       "      <th></th>\n",
       "      <th></th>\n",
       "      <th></th>\n",
       "      <th></th>\n",
       "      <th></th>\n",
       "      <th></th>\n",
       "      <th></th>\n",
       "      <th></th>\n",
       "      <th></th>\n",
       "      <th></th>\n",
       "      <th></th>\n",
       "    </tr>\n",
       "  </thead>\n",
       "  <tbody>\n",
       "    <tr>\n",
       "      <td>0</td>\n",
       "      <td>930</td>\n",
       "      <td>703</td>\n",
       "      <td>227</td>\n",
       "      <td>930</td>\n",
       "      <td>703</td>\n",
       "      <td>227</td>\n",
       "      <td>0.15</td>\n",
       "      <td>0.05</td>\n",
       "      <td>460.6</td>\n",
       "      <td>1.53</td>\n",
       "      <td>10.0</td>\n",
       "      <td>75.59</td>\n",
       "    </tr>\n",
       "    <tr>\n",
       "      <td>1</td>\n",
       "      <td>929</td>\n",
       "      <td>644</td>\n",
       "      <td>285</td>\n",
       "      <td>1859</td>\n",
       "      <td>1347</td>\n",
       "      <td>512</td>\n",
       "      <td>0.29</td>\n",
       "      <td>0.11</td>\n",
       "      <td>921.2</td>\n",
       "      <td>1.46</td>\n",
       "      <td>18.0</td>\n",
       "      <td>72.46</td>\n",
       "    </tr>\n",
       "    <tr>\n",
       "      <td>2</td>\n",
       "      <td>929</td>\n",
       "      <td>576</td>\n",
       "      <td>353</td>\n",
       "      <td>2788</td>\n",
       "      <td>1923</td>\n",
       "      <td>865</td>\n",
       "      <td>0.42</td>\n",
       "      <td>0.18</td>\n",
       "      <td>1381.8</td>\n",
       "      <td>1.39</td>\n",
       "      <td>24.0</td>\n",
       "      <td>68.97</td>\n",
       "    </tr>\n",
       "    <tr>\n",
       "      <td>3</td>\n",
       "      <td>930</td>\n",
       "      <td>493</td>\n",
       "      <td>437</td>\n",
       "      <td>3718</td>\n",
       "      <td>2416</td>\n",
       "      <td>1302</td>\n",
       "      <td>0.52</td>\n",
       "      <td>0.28</td>\n",
       "      <td>1842.4</td>\n",
       "      <td>1.31</td>\n",
       "      <td>24.0</td>\n",
       "      <td>64.98</td>\n",
       "    </tr>\n",
       "    <tr>\n",
       "      <td>4</td>\n",
       "      <td>929</td>\n",
       "      <td>493</td>\n",
       "      <td>436</td>\n",
       "      <td>4647</td>\n",
       "      <td>2909</td>\n",
       "      <td>1738</td>\n",
       "      <td>0.63</td>\n",
       "      <td>0.37</td>\n",
       "      <td>2303.0</td>\n",
       "      <td>1.26</td>\n",
       "      <td>26.0</td>\n",
       "      <td>62.60</td>\n",
       "    </tr>\n",
       "    <tr>\n",
       "      <td>5</td>\n",
       "      <td>929</td>\n",
       "      <td>451</td>\n",
       "      <td>478</td>\n",
       "      <td>5576</td>\n",
       "      <td>3360</td>\n",
       "      <td>2216</td>\n",
       "      <td>0.73</td>\n",
       "      <td>0.47</td>\n",
       "      <td>2763.6</td>\n",
       "      <td>1.22</td>\n",
       "      <td>26.0</td>\n",
       "      <td>60.26</td>\n",
       "    </tr>\n",
       "    <tr>\n",
       "      <td>6</td>\n",
       "      <td>930</td>\n",
       "      <td>420</td>\n",
       "      <td>510</td>\n",
       "      <td>6506</td>\n",
       "      <td>3780</td>\n",
       "      <td>2726</td>\n",
       "      <td>0.82</td>\n",
       "      <td>0.58</td>\n",
       "      <td>3224.2</td>\n",
       "      <td>1.17</td>\n",
       "      <td>24.0</td>\n",
       "      <td>58.10</td>\n",
       "    </tr>\n",
       "    <tr>\n",
       "      <td>7</td>\n",
       "      <td>929</td>\n",
       "      <td>352</td>\n",
       "      <td>577</td>\n",
       "      <td>7435</td>\n",
       "      <td>4132</td>\n",
       "      <td>3303</td>\n",
       "      <td>0.90</td>\n",
       "      <td>0.70</td>\n",
       "      <td>3684.8</td>\n",
       "      <td>1.12</td>\n",
       "      <td>20.0</td>\n",
       "      <td>55.57</td>\n",
       "    </tr>\n",
       "    <tr>\n",
       "      <td>8</td>\n",
       "      <td>929</td>\n",
       "      <td>296</td>\n",
       "      <td>633</td>\n",
       "      <td>8364</td>\n",
       "      <td>4428</td>\n",
       "      <td>3936</td>\n",
       "      <td>0.96</td>\n",
       "      <td>0.84</td>\n",
       "      <td>4145.4</td>\n",
       "      <td>1.07</td>\n",
       "      <td>12.0</td>\n",
       "      <td>52.94</td>\n",
       "    </tr>\n",
       "    <tr>\n",
       "      <td>9</td>\n",
       "      <td>929</td>\n",
       "      <td>178</td>\n",
       "      <td>751</td>\n",
       "      <td>9293</td>\n",
       "      <td>4606</td>\n",
       "      <td>4687</td>\n",
       "      <td>1.00</td>\n",
       "      <td>1.00</td>\n",
       "      <td>4606.0</td>\n",
       "      <td>1.00</td>\n",
       "      <td>0.0</td>\n",
       "      <td>49.56</td>\n",
       "    </tr>\n",
       "  </tbody>\n",
       "</table>\n",
       "</div>"
      ],
      "text/plain": [
       "        count  actual  non_actual  cum_count  cum_actual  cum_non_actual  \\\n",
       "decile                                                                     \n",
       "0         930     703         227        930         703             227   \n",
       "1         929     644         285       1859        1347             512   \n",
       "2         929     576         353       2788        1923             865   \n",
       "3         930     493         437       3718        2416            1302   \n",
       "4         929     493         436       4647        2909            1738   \n",
       "5         929     451         478       5576        3360            2216   \n",
       "6         930     420         510       6506        3780            2726   \n",
       "7         929     352         577       7435        4132            3303   \n",
       "8         929     296         633       8364        4428            3936   \n",
       "9         929     178         751       9293        4606            4687   \n",
       "\n",
       "        percent_cum_actual  percent_cum_non_actual  if_random  lift   K_S  \\\n",
       "decile                                                                      \n",
       "0                     0.15                    0.05      460.6  1.53  10.0   \n",
       "1                     0.29                    0.11      921.2  1.46  18.0   \n",
       "2                     0.42                    0.18     1381.8  1.39  24.0   \n",
       "3                     0.52                    0.28     1842.4  1.31  24.0   \n",
       "4                     0.63                    0.37     2303.0  1.26  26.0   \n",
       "5                     0.73                    0.47     2763.6  1.22  26.0   \n",
       "6                     0.82                    0.58     3224.2  1.17  24.0   \n",
       "7                     0.90                    0.70     3684.8  1.12  20.0   \n",
       "8                     0.96                    0.84     4145.4  1.07  12.0   \n",
       "9                     1.00                    1.00     4606.0  1.00   0.0   \n",
       "\n",
       "         gain  \n",
       "decile         \n",
       "0       75.59  \n",
       "1       72.46  \n",
       "2       68.97  \n",
       "3       64.98  \n",
       "4       62.60  \n",
       "5       60.26  \n",
       "6       58.10  \n",
       "7       55.57  \n",
       "8       52.94  \n",
       "9       49.56  "
      ]
     },
     "execution_count": 101,
     "metadata": {},
     "output_type": "execute_result"
    }
   ],
   "source": [
    "createGains(rf_v2)"
   ]
  },
  {
   "cell_type": "markdown",
   "metadata": {},
   "source": [
    "we could notice that to 6th decile, we can access to up tp 80% of applicants who actually default the loan, but in the predictive model we could access to such large group of defaluters in 9th decile. "
   ]
  },
  {
   "cell_type": "markdown",
   "metadata": {},
   "source": [
    "##### Model 2: Gradient Boosting Machine (GBM) "
   ]
  },
  {
   "cell_type": "code",
   "execution_count": 42,
   "metadata": {},
   "outputs": [
    {
     "name": "stdout",
     "output_type": "stream",
     "text": [
      "Number of rows in train, valid and test set :  18585 6195 6196\n"
     ]
    }
   ],
   "source": [
    "#Let's start by spliting the data in train, validation and test sets. \n",
    "#We will use 60%, 20% and 20% splits.\n",
    "#Split the data\n",
    "train_df, valid_df, test_df = np.split(df, [int(.6*len(df)), int(.8*len(df))])\n",
    "print(\"Number of rows in train, valid and test set : \", train_df.shape[0], valid_df.shape[0], test_df.shape[0])"
   ]
  },
  {
   "cell_type": "code",
   "execution_count": 43,
   "metadata": {},
   "outputs": [
    {
     "name": "stdout",
     "output_type": "stream",
     "text": [
      "Parse progress: |█████████████████████████████████████████████████████████| 100%\n",
      "Parse progress: |█████████████████████████████████████████████████████████| 100%\n",
      "Parse progress: |█████████████████████████████████████████████████████████| 100%\n"
     ]
    }
   ],
   "source": [
    "train_hex = h2o.H2OFrame(train_df)\n",
    "test_hex = h2o.H2OFrame(test_df)\n",
    "valid_hex = h2o.H2OFrame(valid_df)"
   ]
  },
  {
   "cell_type": "code",
   "execution_count": 44,
   "metadata": {},
   "outputs": [
    {
     "name": "stdout",
     "output_type": "stream",
     "text": [
      "gbm Model Build progress: |███████████████████████████████████████████████| 100%\n"
     ]
    }
   ],
   "source": [
    "####train gbm\n",
    "# initialize the H2O GBM\n",
    "gbm_v1 = H2OGradientBoostingEstimator(\n",
    "        model_id = 'gbm_v1',\n",
    "        seed=1234)\n",
    "# train with the initialized model\n",
    "gbm_v1.train(predictors,target,training_frame=train_hex)"
   ]
  },
  {
   "cell_type": "markdown",
   "metadata": {},
   "source": [
    "###### GBM Model evaluation"
   ]
  },
  {
   "cell_type": "code",
   "execution_count": 45,
   "metadata": {},
   "outputs": [
    {
     "name": "stdout",
     "output_type": "stream",
     "text": [
      "\n",
      "Model Summary: \n"
     ]
    },
    {
     "data": {
      "text/html": [
       "<div>\n",
       "<style scoped>\n",
       "    .dataframe tbody tr th:only-of-type {\n",
       "        vertical-align: middle;\n",
       "    }\n",
       "\n",
       "    .dataframe tbody tr th {\n",
       "        vertical-align: top;\n",
       "    }\n",
       "\n",
       "    .dataframe thead th {\n",
       "        text-align: right;\n",
       "    }\n",
       "</style>\n",
       "<table border=\"1\" class=\"dataframe\">\n",
       "  <thead>\n",
       "    <tr style=\"text-align: right;\">\n",
       "      <th></th>\n",
       "      <th></th>\n",
       "      <th>number_of_trees</th>\n",
       "      <th>number_of_internal_trees</th>\n",
       "      <th>model_size_in_bytes</th>\n",
       "      <th>min_depth</th>\n",
       "      <th>max_depth</th>\n",
       "      <th>mean_depth</th>\n",
       "      <th>min_leaves</th>\n",
       "      <th>max_leaves</th>\n",
       "      <th>mean_leaves</th>\n",
       "    </tr>\n",
       "  </thead>\n",
       "  <tbody>\n",
       "    <tr>\n",
       "      <td>0</td>\n",
       "      <td></td>\n",
       "      <td>50.0</td>\n",
       "      <td>50.0</td>\n",
       "      <td>21675.0</td>\n",
       "      <td>5.0</td>\n",
       "      <td>5.0</td>\n",
       "      <td>5.0</td>\n",
       "      <td>23.0</td>\n",
       "      <td>32.0</td>\n",
       "      <td>29.8</td>\n",
       "    </tr>\n",
       "  </tbody>\n",
       "</table>\n",
       "</div>"
      ],
      "text/plain": [
       "     number_of_trees  number_of_internal_trees  model_size_in_bytes  \\\n",
       "0               50.0                      50.0              21675.0   \n",
       "\n",
       "   min_depth  max_depth  mean_depth  min_leaves  max_leaves  mean_leaves  \n",
       "0        5.0        5.0         5.0        23.0        32.0         29.8  "
      ]
     },
     "metadata": {},
     "output_type": "display_data"
    },
    {
     "data": {
      "text/plain": []
     },
     "execution_count": 45,
     "metadata": {},
     "output_type": "execute_result"
    }
   ],
   "source": [
    "#Let's inspect the model already trained. We can print the summary:\n",
    "gbm_v1.summary()"
   ]
  },
  {
   "cell_type": "markdown",
   "metadata": {},
   "source": [
    "This shows that we used 50 trees, 50 internal trees. It is also showing the min and max tree depth (5,5), the min and max number of leaves (23,32) and the mean values for tree depth and number of leaves, 30.82.\n",
    "\n",
    "We can also inspect the model further, looking to other informations.\n",
    "\n",
    "Let's see the model performance for the train set."
   ]
  },
  {
   "cell_type": "code",
   "execution_count": 46,
   "metadata": {
    "scrolled": true
   },
   "outputs": [
    {
     "name": "stdout",
     "output_type": "stream",
     "text": [
      "\n",
      "ModelMetricsRegression: gbm\n",
      "** Reported on test data. **\n",
      "\n",
      "MSE: 0.11637951518130552\n",
      "RMSE: 0.3411444198302319\n",
      "MAE: 0.24661700441079287\n",
      "RMSLE: 0.23729084442854714\n",
      "Mean Residual Deviance: 0.11637951518130552\n",
      "\n"
     ]
    }
   ],
   "source": [
    "print(gbm_v1.model_performance(train_hex))"
   ]
  },
  {
   "cell_type": "code",
   "execution_count": 47,
   "metadata": {},
   "outputs": [
    {
     "name": "stdout",
     "output_type": "stream",
     "text": [
      "gbm prediction progress: |████████████████████████████████████████████████| 100%\n",
      "\n",
      "   * ROC curve: The ROC curve plots the true positive rate vs. the false rositive sate\n",
      "\n",
      "\t  * The area under the curve (AUC): A value between 0.5 (random) and 1.0 (perfect), measuring the prediction accuracy\n",
      "\n",
      "   * Recall (R) = The number of true positives / (the number of true positives + the number of false negatives)\n",
      "\n"
     ]
    },
    {
     "data": {
      "image/png": "[encoded data removed]",
      "text/plain": [
       "<Figure size 720x288 with 2 Axes>"
      ]
     },
     "metadata": {
      "needs_background": "light"
     },
     "output_type": "display_data"
    }
   ],
   "source": [
    "ROC_AUC(gbm_v1,train_hex,'loan_default')"
   ]
  },
  {
   "cell_type": "markdown",
   "metadata": {},
   "source": [
    "For the train set, the RMSE obtained is 0.37, the AUC score is 0.75. Mean Residual Deviance is 0.13.\n",
    "\n",
    "Let's check now the performance of the model with the validation set."
   ]
  },
  {
   "cell_type": "code",
   "execution_count": 48,
   "metadata": {},
   "outputs": [
    {
     "name": "stdout",
     "output_type": "stream",
     "text": [
      "\n",
      "ModelMetricsRegression: gbm\n",
      "** Reported on test data. **\n",
      "\n",
      "MSE: 0.6217515404795042\n",
      "RMSE: 0.7885122322954187\n",
      "MAE: 0.7828043143881321\n",
      "RMSLE: 0.5054007034394856\n",
      "Mean Residual Deviance: 0.6217515404795042\n",
      "\n"
     ]
    }
   ],
   "source": [
    "print(gbm_v1.model_performance(valid_hex))"
   ]
  },
  {
   "cell_type": "code",
   "execution_count": 49,
   "metadata": {},
   "outputs": [
    {
     "name": "stdout",
     "output_type": "stream",
     "text": [
      "gbm prediction progress: |████████████████████████████████████████████████| 100%\n",
      "\n",
      "   * ROC curve: The ROC curve plots the true positive rate vs. the false rositive sate\n",
      "\n",
      "\t  * The area under the curve (AUC): A value between 0.5 (random) and 1.0 (perfect), measuring the prediction accuracy\n",
      "\n",
      "   * Recall (R) = The number of true positives / (the number of true positives + the number of false negatives)\n",
      "\n"
     ]
    },
    {
     "data": {
      "image/png": "[encoded data removed]",
      "text/plain": [
       "<Figure size 720x288 with 2 Axes>"
      ]
     },
     "metadata": {
      "needs_background": "light"
     },
     "output_type": "display_data"
    }
   ],
   "source": [
    "ROC_AUC(gbm_v1,valid_hex,'loan_default')"
   ]
  },
  {
   "cell_type": "code",
   "execution_count": 50,
   "metadata": {},
   "outputs": [
    {
     "name": "stdout",
     "output_type": "stream",
     "text": [
      "gbm prediction progress: |████████████████████████████████████████████████| 100%\n"
     ]
    },
    {
     "data": {
      "text/html": [
       "<div>\n",
       "<style scoped>\n",
       "    .dataframe tbody tr th:only-of-type {\n",
       "        vertical-align: middle;\n",
       "    }\n",
       "\n",
       "    .dataframe tbody tr th {\n",
       "        vertical-align: top;\n",
       "    }\n",
       "\n",
       "    .dataframe thead th {\n",
       "        text-align: right;\n",
       "    }\n",
       "</style>\n",
       "<table border=\"1\" class=\"dataframe\">\n",
       "  <thead>\n",
       "    <tr style=\"text-align: right;\">\n",
       "      <th></th>\n",
       "      <th>count</th>\n",
       "      <th>actual</th>\n",
       "      <th>non_actual</th>\n",
       "      <th>cum_count</th>\n",
       "      <th>cum_actual</th>\n",
       "      <th>cum_non_actual</th>\n",
       "      <th>percent_cum_actual</th>\n",
       "      <th>percent_cum_non_actual</th>\n",
       "      <th>if_random</th>\n",
       "      <th>lift</th>\n",
       "      <th>K_S</th>\n",
       "      <th>gain</th>\n",
       "    </tr>\n",
       "    <tr>\n",
       "      <th>decile</th>\n",
       "      <th></th>\n",
       "      <th></th>\n",
       "      <th></th>\n",
       "      <th></th>\n",
       "      <th></th>\n",
       "      <th></th>\n",
       "      <th></th>\n",
       "      <th></th>\n",
       "      <th></th>\n",
       "      <th></th>\n",
       "      <th></th>\n",
       "      <th></th>\n",
       "    </tr>\n",
       "  </thead>\n",
       "  <tbody>\n",
       "    <tr>\n",
       "      <td>0</td>\n",
       "      <td>620</td>\n",
       "      <td>620</td>\n",
       "      <td>0</td>\n",
       "      <td>620</td>\n",
       "      <td>620</td>\n",
       "      <td>0</td>\n",
       "      <td>0.1</td>\n",
       "      <td>NaN</td>\n",
       "      <td>619.6</td>\n",
       "      <td>1.0</td>\n",
       "      <td>NaN</td>\n",
       "      <td>100.0</td>\n",
       "    </tr>\n",
       "    <tr>\n",
       "      <td>1</td>\n",
       "      <td>620</td>\n",
       "      <td>620</td>\n",
       "      <td>0</td>\n",
       "      <td>1240</td>\n",
       "      <td>1240</td>\n",
       "      <td>0</td>\n",
       "      <td>0.2</td>\n",
       "      <td>NaN</td>\n",
       "      <td>1239.2</td>\n",
       "      <td>1.0</td>\n",
       "      <td>NaN</td>\n",
       "      <td>100.0</td>\n",
       "    </tr>\n",
       "    <tr>\n",
       "      <td>2</td>\n",
       "      <td>619</td>\n",
       "      <td>619</td>\n",
       "      <td>0</td>\n",
       "      <td>1859</td>\n",
       "      <td>1859</td>\n",
       "      <td>0</td>\n",
       "      <td>0.3</td>\n",
       "      <td>NaN</td>\n",
       "      <td>1858.8</td>\n",
       "      <td>1.0</td>\n",
       "      <td>NaN</td>\n",
       "      <td>100.0</td>\n",
       "    </tr>\n",
       "    <tr>\n",
       "      <td>3</td>\n",
       "      <td>620</td>\n",
       "      <td>620</td>\n",
       "      <td>0</td>\n",
       "      <td>2479</td>\n",
       "      <td>2479</td>\n",
       "      <td>0</td>\n",
       "      <td>0.4</td>\n",
       "      <td>NaN</td>\n",
       "      <td>2478.4</td>\n",
       "      <td>1.0</td>\n",
       "      <td>NaN</td>\n",
       "      <td>100.0</td>\n",
       "    </tr>\n",
       "    <tr>\n",
       "      <td>4</td>\n",
       "      <td>619</td>\n",
       "      <td>619</td>\n",
       "      <td>0</td>\n",
       "      <td>3098</td>\n",
       "      <td>3098</td>\n",
       "      <td>0</td>\n",
       "      <td>0.5</td>\n",
       "      <td>NaN</td>\n",
       "      <td>3098.0</td>\n",
       "      <td>1.0</td>\n",
       "      <td>NaN</td>\n",
       "      <td>100.0</td>\n",
       "    </tr>\n",
       "    <tr>\n",
       "      <td>5</td>\n",
       "      <td>620</td>\n",
       "      <td>620</td>\n",
       "      <td>0</td>\n",
       "      <td>3718</td>\n",
       "      <td>3718</td>\n",
       "      <td>0</td>\n",
       "      <td>0.6</td>\n",
       "      <td>NaN</td>\n",
       "      <td>3717.6</td>\n",
       "      <td>1.0</td>\n",
       "      <td>NaN</td>\n",
       "      <td>100.0</td>\n",
       "    </tr>\n",
       "    <tr>\n",
       "      <td>6</td>\n",
       "      <td>620</td>\n",
       "      <td>620</td>\n",
       "      <td>0</td>\n",
       "      <td>4338</td>\n",
       "      <td>4338</td>\n",
       "      <td>0</td>\n",
       "      <td>0.7</td>\n",
       "      <td>NaN</td>\n",
       "      <td>4337.2</td>\n",
       "      <td>1.0</td>\n",
       "      <td>NaN</td>\n",
       "      <td>100.0</td>\n",
       "    </tr>\n",
       "    <tr>\n",
       "      <td>7</td>\n",
       "      <td>619</td>\n",
       "      <td>619</td>\n",
       "      <td>0</td>\n",
       "      <td>4957</td>\n",
       "      <td>4957</td>\n",
       "      <td>0</td>\n",
       "      <td>0.8</td>\n",
       "      <td>NaN</td>\n",
       "      <td>4956.8</td>\n",
       "      <td>1.0</td>\n",
       "      <td>NaN</td>\n",
       "      <td>100.0</td>\n",
       "    </tr>\n",
       "    <tr>\n",
       "      <td>8</td>\n",
       "      <td>620</td>\n",
       "      <td>620</td>\n",
       "      <td>0</td>\n",
       "      <td>5577</td>\n",
       "      <td>5577</td>\n",
       "      <td>0</td>\n",
       "      <td>0.9</td>\n",
       "      <td>NaN</td>\n",
       "      <td>5576.4</td>\n",
       "      <td>1.0</td>\n",
       "      <td>NaN</td>\n",
       "      <td>100.0</td>\n",
       "    </tr>\n",
       "    <tr>\n",
       "      <td>9</td>\n",
       "      <td>619</td>\n",
       "      <td>619</td>\n",
       "      <td>0</td>\n",
       "      <td>6196</td>\n",
       "      <td>6196</td>\n",
       "      <td>0</td>\n",
       "      <td>1.0</td>\n",
       "      <td>NaN</td>\n",
       "      <td>6196.0</td>\n",
       "      <td>1.0</td>\n",
       "      <td>NaN</td>\n",
       "      <td>100.0</td>\n",
       "    </tr>\n",
       "  </tbody>\n",
       "</table>\n",
       "</div>"
      ],
      "text/plain": [
       "        count  actual  non_actual  cum_count  cum_actual  cum_non_actual  \\\n",
       "decile                                                                     \n",
       "0         620     620           0        620         620               0   \n",
       "1         620     620           0       1240        1240               0   \n",
       "2         619     619           0       1859        1859               0   \n",
       "3         620     620           0       2479        2479               0   \n",
       "4         619     619           0       3098        3098               0   \n",
       "5         620     620           0       3718        3718               0   \n",
       "6         620     620           0       4338        4338               0   \n",
       "7         619     619           0       4957        4957               0   \n",
       "8         620     620           0       5577        5577               0   \n",
       "9         619     619           0       6196        6196               0   \n",
       "\n",
       "        percent_cum_actual  percent_cum_non_actual  if_random  lift  K_S  \\\n",
       "decile                                                                     \n",
       "0                      0.1                     NaN      619.6   1.0  NaN   \n",
       "1                      0.2                     NaN     1239.2   1.0  NaN   \n",
       "2                      0.3                     NaN     1858.8   1.0  NaN   \n",
       "3                      0.4                     NaN     2478.4   1.0  NaN   \n",
       "4                      0.5                     NaN     3098.0   1.0  NaN   \n",
       "5                      0.6                     NaN     3717.6   1.0  NaN   \n",
       "6                      0.7                     NaN     4337.2   1.0  NaN   \n",
       "7                      0.8                     NaN     4956.8   1.0  NaN   \n",
       "8                      0.9                     NaN     5576.4   1.0  NaN   \n",
       "9                      1.0                     NaN     6196.0   1.0  NaN   \n",
       "\n",
       "         gain  \n",
       "decile         \n",
       "0       100.0  \n",
       "1       100.0  \n",
       "2       100.0  \n",
       "3       100.0  \n",
       "4       100.0  \n",
       "5       100.0  \n",
       "6       100.0  \n",
       "7       100.0  \n",
       "8       100.0  \n",
       "9       100.0  "
      ]
     },
     "execution_count": 50,
     "metadata": {},
     "output_type": "execute_result"
    }
   ],
   "source": [
    "createGains(gbm_v1)"
   ]
  },
  {
   "cell_type": "markdown",
   "metadata": {},
   "source": [
    "For the validation set, the RMSE obtained is 0.37, the AUC score is 0.69. Mean Residual Deviance is 0.14.\n",
    "\n",
    "To summarize, we obtained AUC score 0.75 for train set and 0.69 for test set.\n",
    "\n",
    "Let's use the validation set to tune the parameters."
   ]
  },
  {
   "cell_type": "code",
   "execution_count": 51,
   "metadata": {},
   "outputs": [
    {
     "data": {
      "image/png": "[encoded data removed]",
      "text/plain": [
       "<Figure size 1008x720 with 1 Axes>"
      ]
     },
     "metadata": {
      "needs_background": "light"
     },
     "output_type": "display_data"
    }
   ],
   "source": [
    "gbm_v1.varimp_plot()"
   ]
  },
  {
   "cell_type": "markdown",
   "metadata": {},
   "source": [
    "##### Parameters tuning"
   ]
  },
  {
   "cell_type": "code",
   "execution_count": null,
   "metadata": {},
   "outputs": [
    {
     "name": "stdout",
     "output_type": "stream",
     "text": [
      "gbm Model Build progress: |████████████████████"
     ]
    }
   ],
   "source": [
    "##here the reason i chose rmse is that my h2o is a little bit old and there is no auc metrics by default\n",
    "tuned_gbm  = H2OGradientBoostingEstimator(\n",
    "    ntrees = 1000,\n",
    "    learn_rate = 0.05,\n",
    "    stopping_rounds = 25,\n",
    "    stopping_metric = \"RMSE\",\n",
    "    col_sample_rate = 0.65,\n",
    "    sample_rate = 0.65,\n",
    "    seed = 1234\n",
    ")      \n",
    "tuned_gbm.train(x=predictors, y=target, training_frame=train_hex, validation_frame=valid_hex)"
   ]
  },
  {
   "cell_type": "code",
   "execution_count": 53,
   "metadata": {},
   "outputs": [
    {
     "name": "stdout",
     "output_type": "stream",
     "text": [
      "RMSE: 0.37939915532996354\n",
      "gbm prediction progress: |████████████████████████████████████████████████| 100%\n",
      "\n",
      "   * ROC curve: The ROC curve plots the true positive rate vs. the false rositive sate\n",
      "\n",
      "\t  * The area under the curve (AUC): A value between 0.5 (random) and 1.0 (perfect), measuring the prediction accuracy\n",
      "\n",
      "   * Recall (R) = The number of true positives / (the number of true positives + the number of false negatives)\n",
      "\n"
     ]
    },
    {
     "data": {
      "image/png": "[encoded data removed]",
      "text/plain": [
       "<Figure size 1000x400 with 2 Axes>"
      ]
     },
     "metadata": {},
     "output_type": "display_data"
    }
   ],
   "source": [
    "print(\"RMSE:\",tuned_gbm.model_performance(valid_hex).rmse())\n",
    "ROC_AUC(gbm_v1,valid_hex,'loan_default')"
   ]
  },
  {
   "cell_type": "markdown",
   "metadata": {},
   "source": [
    "The performance was not improved (AUC did not change)."
   ]
  },
  {
   "cell_type": "code",
   "execution_count": 54,
   "metadata": {},
   "outputs": [
    {
     "name": "stdout",
     "output_type": "stream",
     "text": [
      "Parse progress: |█████████████████████████████████████████████████████████| 100%\n",
      "Parse progress: |█████████████████████████████████████████████████████████| 100%\n",
      "Parse progress: |█████████████████████████████████████████████████████████| 100%\n",
      "Number of rows in train, valid and test set :  4800 1600 1600\n"
     ]
    }
   ],
   "source": [
    "###########Grid Search Tuning###########\n",
    "#Use small sample set to tune parameters to make the grid search run faster\n",
    "train_sam, validate_sam, test_sam = np.split(df.sample(frac=0.1), [int(.6*len(df.sample(frac=0.1))), int(.8*len(df.sample(frac=0.1)))])\n",
    "train_sam_hex = h2o.H2OFrame(train_sam)\n",
    "test_sam_hex = h2o.H2OFrame(test_sam)\n",
    "valid_sam_hex = h2o.H2OFrame(validate_sam)\n",
    "print(\"Number of rows in train, valid and test set : \", train_sam.shape[0], validate_sam.shape[0], test_sam.shape[0])"
   ]
  },
  {
   "cell_type": "code",
   "execution_count": 55,
   "metadata": {
    "scrolled": true
   },
   "outputs": [],
   "source": [
    "#Define the grid parameters\n",
    "from h2o.grid.grid_search import H2OGridSearch\n",
    "grid_search_gbm = H2OGradientBoostingEstimator(\n",
    "    ## early stopping once the validation AUC doesn't improve by at least 0.01% for \n",
    "    #10 consecutive scoring events\n",
    "    stopping_rounds = 10,\n",
    "    stopping_metric = \"AUTO\",\n",
    "    ## sample 80% of columns per split\n",
    "    col_sample_rate = 0.65,\n",
    "    ## sample 80% of rows per tree\n",
    "    sample_rate = 0.65,\n",
    "    stopping_tolerance = 0.00001,\n",
    "    score_each_iteration = True,\n",
    "    balance_classes = True,\n",
    "    seed = 1234,\n",
    "    ## score every 10 trees to make early stopping reproducible \n",
    "    #(it depends on the scoring interval)\n",
    "    score_tree_interval = 10\n",
    ") \n",
    "\n",
    "hyper_params = {\n",
    "    'learn_rate':[0.01, 0.02, 0.03, 0.05,0.07,0.8,0.9,0.1],\n",
    "    'max_depth':[4,5,6,7,8,9,10,12,15,24],\n",
    "    'ntrees':[10,20,40, 50,100,150, 250, 500, 700, 1000,1500,2000]}\n",
    "\n",
    "grid = H2OGridSearch(grid_search_gbm, hyper_params,\n",
    "                         grid_id='depth_grid',\n",
    "                         search_criteria={'strategy': \"Cartesian\"})"
   ]
  },
  {
   "cell_type": "code",
   "execution_count": 56,
   "metadata": {},
   "outputs": [
    {
     "name": "stdout",
     "output_type": "stream",
     "text": [
      "       learn_rate max_depth ntrees             model_ids                 rmse\n",
      "0            0.02         4   1000  depth_grid_model_130   0.3749217676250993\n",
      "1            0.02         4    250   depth_grid_model_34   0.3749217676250993\n",
      "2            0.02         4    500   depth_grid_model_66   0.3749217676250993\n",
      "3            0.02         4    700   depth_grid_model_98   0.3749217676250993\n",
      "4            0.01         4   1000  depth_grid_model_129  0.37540391288418445\n",
      "..  ..        ...       ...    ...                   ...                  ...\n",
      "155           0.9        24    700  depth_grid_model_127   0.7002057521163736\n",
      "156           0.9        24   1000  depth_grid_model_159   0.7002057521163736\n",
      "157           0.9        24     50   depth_grid_model_31   0.7002057521163736\n",
      "158           0.9        24    250   depth_grid_model_63   0.7002057521163736\n",
      "159           0.9        24    500   depth_grid_model_95   0.7002057521163736\n",
      "\n",
      "[160 rows x 6 columns]\n",
      "\n"
     ]
    }
   ],
   "source": [
    "#Train grid search\n",
    "grid.train(x=predictors, \n",
    "           y=target,\n",
    "           training_frame=train_sam_hex,\n",
    "           validation_frame=valid_sam_hex)\n",
    "#We will explore the model, printing the parameters which give the best rmse.\n",
    "grid_sorted = grid.get_grid(sort_by='rmse',decreasing=False)\n",
    "print(grid_sorted)"
   ]
  },
  {
   "cell_type": "code",
   "execution_count": 57,
   "metadata": {},
   "outputs": [
    {
     "name": "stdout",
     "output_type": "stream",
     "text": [
      "Model Details\n",
      "=============\n",
      "H2OGradientBoostingEstimator :  Gradient Boosting Machine\n",
      "Model Key:  depth_grid_model_130\n",
      "\n",
      "\n",
      "Model Summary: \n"
     ]
    },
    {
     "data": {
      "text/html": [
       "<div>\n",
       "<style scoped>\n",
       "    .dataframe tbody tr th:only-of-type {\n",
       "        vertical-align: middle;\n",
       "    }\n",
       "\n",
       "    .dataframe tbody tr th {\n",
       "        vertical-align: top;\n",
       "    }\n",
       "\n",
       "    .dataframe thead th {\n",
       "        text-align: right;\n",
       "    }\n",
       "</style>\n",
       "<table border=\"1\" class=\"dataframe\">\n",
       "  <thead>\n",
       "    <tr style=\"text-align: right;\">\n",
       "      <th></th>\n",
       "      <th></th>\n",
       "      <th>number_of_trees</th>\n",
       "      <th>number_of_internal_trees</th>\n",
       "      <th>model_size_in_bytes</th>\n",
       "      <th>min_depth</th>\n",
       "      <th>max_depth</th>\n",
       "      <th>mean_depth</th>\n",
       "      <th>min_leaves</th>\n",
       "      <th>max_leaves</th>\n",
       "      <th>mean_leaves</th>\n",
       "    </tr>\n",
       "  </thead>\n",
       "  <tbody>\n",
       "    <tr>\n",
       "      <td>0</td>\n",
       "      <td></td>\n",
       "      <td>162.0</td>\n",
       "      <td>162.0</td>\n",
       "      <td>40736.0</td>\n",
       "      <td>4.0</td>\n",
       "      <td>4.0</td>\n",
       "      <td>4.0</td>\n",
       "      <td>12.0</td>\n",
       "      <td>16.0</td>\n",
       "      <td>15.37037</td>\n",
       "    </tr>\n",
       "  </tbody>\n",
       "</table>\n",
       "</div>"
      ],
      "text/plain": [
       "     number_of_trees  number_of_internal_trees  model_size_in_bytes  \\\n",
       "0              162.0                     162.0              40736.0   \n",
       "\n",
       "   min_depth  max_depth  mean_depth  min_leaves  max_leaves  mean_leaves  \n",
       "0        4.0        4.0         4.0        12.0        16.0     15.37037  "
      ]
     },
     "metadata": {},
     "output_type": "display_data"
    },
    {
     "name": "stdout",
     "output_type": "stream",
     "text": [
      "\n",
      "\n",
      "ModelMetricsRegression: gbm\n",
      "** Reported on train data. **\n",
      "\n",
      "MSE: 0.1308723782905666\n",
      "RMSE: 0.36176287577716787\n",
      "MAE: 0.28064541974056434\n",
      "RMSLE: 0.25154646533723707\n",
      "Mean Residual Deviance: 0.1308723782905666\n",
      "\n",
      "ModelMetricsRegression: gbm\n",
      "** Reported on validation data. **\n",
      "\n",
      "MSE: 0.14056633183912898\n",
      "RMSE: 0.3749217676250993\n",
      "MAE: 0.291098735352342\n",
      "RMSLE: 0.26469051693829837\n",
      "Mean Residual Deviance: 0.14056633183912898\n",
      "\n",
      "Scoring History: \n"
     ]
    },
    {
     "data": {
      "text/html": [
       "<div>\n",
       "<style scoped>\n",
       "    .dataframe tbody tr th:only-of-type {\n",
       "        vertical-align: middle;\n",
       "    }\n",
       "\n",
       "    .dataframe tbody tr th {\n",
       "        vertical-align: top;\n",
       "    }\n",
       "\n",
       "    .dataframe thead th {\n",
       "        text-align: right;\n",
       "    }\n",
       "</style>\n",
       "<table border=\"1\" class=\"dataframe\">\n",
       "  <thead>\n",
       "    <tr style=\"text-align: right;\">\n",
       "      <th></th>\n",
       "      <th></th>\n",
       "      <th>timestamp</th>\n",
       "      <th>duration</th>\n",
       "      <th>number_of_trees</th>\n",
       "      <th>training_rmse</th>\n",
       "      <th>training_mae</th>\n",
       "      <th>training_deviance</th>\n",
       "      <th>validation_rmse</th>\n",
       "      <th>validation_mae</th>\n",
       "      <th>validation_deviance</th>\n",
       "    </tr>\n",
       "  </thead>\n",
       "  <tbody>\n",
       "    <tr>\n",
       "      <td>0</td>\n",
       "      <td></td>\n",
       "      <td>2020-07-24 11:58:17</td>\n",
       "      <td>3 min  2.791 sec</td>\n",
       "      <td>0.0</td>\n",
       "      <td>0.399374</td>\n",
       "      <td>0.318999</td>\n",
       "      <td>0.159499</td>\n",
       "      <td>0.386615</td>\n",
       "      <td>0.308971</td>\n",
       "      <td>0.149472</td>\n",
       "    </tr>\n",
       "    <tr>\n",
       "      <td>1</td>\n",
       "      <td></td>\n",
       "      <td>2020-07-24 11:58:17</td>\n",
       "      <td>3 min  2.816 sec</td>\n",
       "      <td>1.0</td>\n",
       "      <td>0.398907</td>\n",
       "      <td>0.318672</td>\n",
       "      <td>0.159127</td>\n",
       "      <td>0.386386</td>\n",
       "      <td>0.308818</td>\n",
       "      <td>0.149294</td>\n",
       "    </tr>\n",
       "    <tr>\n",
       "      <td>2</td>\n",
       "      <td></td>\n",
       "      <td>2020-07-24 11:58:17</td>\n",
       "      <td>3 min  2.828 sec</td>\n",
       "      <td>2.0</td>\n",
       "      <td>0.398391</td>\n",
       "      <td>0.318267</td>\n",
       "      <td>0.158715</td>\n",
       "      <td>0.386046</td>\n",
       "      <td>0.308537</td>\n",
       "      <td>0.149031</td>\n",
       "    </tr>\n",
       "    <tr>\n",
       "      <td>3</td>\n",
       "      <td></td>\n",
       "      <td>2020-07-24 11:58:17</td>\n",
       "      <td>3 min  2.840 sec</td>\n",
       "      <td>3.0</td>\n",
       "      <td>0.397891</td>\n",
       "      <td>0.317826</td>\n",
       "      <td>0.158317</td>\n",
       "      <td>0.385745</td>\n",
       "      <td>0.308294</td>\n",
       "      <td>0.148799</td>\n",
       "    </tr>\n",
       "    <tr>\n",
       "      <td>4</td>\n",
       "      <td></td>\n",
       "      <td>2020-07-24 11:58:17</td>\n",
       "      <td>3 min  2.851 sec</td>\n",
       "      <td>4.0</td>\n",
       "      <td>0.397435</td>\n",
       "      <td>0.317440</td>\n",
       "      <td>0.157955</td>\n",
       "      <td>0.385509</td>\n",
       "      <td>0.308103</td>\n",
       "      <td>0.148617</td>\n",
       "    </tr>\n",
       "    <tr>\n",
       "      <td>5</td>\n",
       "      <td></td>\n",
       "      <td>2020-07-24 11:58:17</td>\n",
       "      <td>3 min  2.879 sec</td>\n",
       "      <td>5.0</td>\n",
       "      <td>0.396957</td>\n",
       "      <td>0.317024</td>\n",
       "      <td>0.157575</td>\n",
       "      <td>0.385184</td>\n",
       "      <td>0.307800</td>\n",
       "      <td>0.148367</td>\n",
       "    </tr>\n",
       "    <tr>\n",
       "      <td>6</td>\n",
       "      <td></td>\n",
       "      <td>2020-07-24 11:58:17</td>\n",
       "      <td>3 min  2.893 sec</td>\n",
       "      <td>6.0</td>\n",
       "      <td>0.396550</td>\n",
       "      <td>0.316570</td>\n",
       "      <td>0.157252</td>\n",
       "      <td>0.384845</td>\n",
       "      <td>0.307437</td>\n",
       "      <td>0.148105</td>\n",
       "    </tr>\n",
       "    <tr>\n",
       "      <td>7</td>\n",
       "      <td></td>\n",
       "      <td>2020-07-24 11:58:17</td>\n",
       "      <td>3 min  2.906 sec</td>\n",
       "      <td>7.0</td>\n",
       "      <td>0.396112</td>\n",
       "      <td>0.316199</td>\n",
       "      <td>0.156904</td>\n",
       "      <td>0.384573</td>\n",
       "      <td>0.307211</td>\n",
       "      <td>0.147897</td>\n",
       "    </tr>\n",
       "    <tr>\n",
       "      <td>8</td>\n",
       "      <td></td>\n",
       "      <td>2020-07-24 11:58:17</td>\n",
       "      <td>3 min  2.919 sec</td>\n",
       "      <td>8.0</td>\n",
       "      <td>0.395687</td>\n",
       "      <td>0.315810</td>\n",
       "      <td>0.156568</td>\n",
       "      <td>0.384357</td>\n",
       "      <td>0.306991</td>\n",
       "      <td>0.147731</td>\n",
       "    </tr>\n",
       "    <tr>\n",
       "      <td>9</td>\n",
       "      <td></td>\n",
       "      <td>2020-07-24 11:58:17</td>\n",
       "      <td>3 min  2.933 sec</td>\n",
       "      <td>9.0</td>\n",
       "      <td>0.395217</td>\n",
       "      <td>0.315369</td>\n",
       "      <td>0.156197</td>\n",
       "      <td>0.384053</td>\n",
       "      <td>0.306727</td>\n",
       "      <td>0.147497</td>\n",
       "    </tr>\n",
       "    <tr>\n",
       "      <td>10</td>\n",
       "      <td></td>\n",
       "      <td>2020-07-24 11:58:17</td>\n",
       "      <td>3 min  2.944 sec</td>\n",
       "      <td>10.0</td>\n",
       "      <td>0.394741</td>\n",
       "      <td>0.314887</td>\n",
       "      <td>0.155820</td>\n",
       "      <td>0.383741</td>\n",
       "      <td>0.306441</td>\n",
       "      <td>0.147257</td>\n",
       "    </tr>\n",
       "    <tr>\n",
       "      <td>11</td>\n",
       "      <td></td>\n",
       "      <td>2020-07-24 11:58:17</td>\n",
       "      <td>3 min  2.958 sec</td>\n",
       "      <td>11.0</td>\n",
       "      <td>0.394334</td>\n",
       "      <td>0.314438</td>\n",
       "      <td>0.155500</td>\n",
       "      <td>0.383576</td>\n",
       "      <td>0.306201</td>\n",
       "      <td>0.147130</td>\n",
       "    </tr>\n",
       "    <tr>\n",
       "      <td>12</td>\n",
       "      <td></td>\n",
       "      <td>2020-07-24 11:58:17</td>\n",
       "      <td>3 min  2.971 sec</td>\n",
       "      <td>12.0</td>\n",
       "      <td>0.393900</td>\n",
       "      <td>0.314090</td>\n",
       "      <td>0.155157</td>\n",
       "      <td>0.383293</td>\n",
       "      <td>0.306003</td>\n",
       "      <td>0.146914</td>\n",
       "    </tr>\n",
       "    <tr>\n",
       "      <td>13</td>\n",
       "      <td></td>\n",
       "      <td>2020-07-24 11:58:17</td>\n",
       "      <td>3 min  2.982 sec</td>\n",
       "      <td>13.0</td>\n",
       "      <td>0.393507</td>\n",
       "      <td>0.313643</td>\n",
       "      <td>0.154848</td>\n",
       "      <td>0.383108</td>\n",
       "      <td>0.305747</td>\n",
       "      <td>0.146772</td>\n",
       "    </tr>\n",
       "    <tr>\n",
       "      <td>14</td>\n",
       "      <td></td>\n",
       "      <td>2020-07-24 11:58:17</td>\n",
       "      <td>3 min  2.993 sec</td>\n",
       "      <td>14.0</td>\n",
       "      <td>0.393068</td>\n",
       "      <td>0.313270</td>\n",
       "      <td>0.154503</td>\n",
       "      <td>0.382933</td>\n",
       "      <td>0.305532</td>\n",
       "      <td>0.146638</td>\n",
       "    </tr>\n",
       "    <tr>\n",
       "      <td>15</td>\n",
       "      <td></td>\n",
       "      <td>2020-07-24 11:58:17</td>\n",
       "      <td>3 min  3.004 sec</td>\n",
       "      <td>15.0</td>\n",
       "      <td>0.392678</td>\n",
       "      <td>0.312841</td>\n",
       "      <td>0.154196</td>\n",
       "      <td>0.382773</td>\n",
       "      <td>0.305329</td>\n",
       "      <td>0.146515</td>\n",
       "    </tr>\n",
       "    <tr>\n",
       "      <td>16</td>\n",
       "      <td></td>\n",
       "      <td>2020-07-24 11:58:17</td>\n",
       "      <td>3 min  3.014 sec</td>\n",
       "      <td>16.0</td>\n",
       "      <td>0.392333</td>\n",
       "      <td>0.312539</td>\n",
       "      <td>0.153925</td>\n",
       "      <td>0.382559</td>\n",
       "      <td>0.305166</td>\n",
       "      <td>0.146351</td>\n",
       "    </tr>\n",
       "    <tr>\n",
       "      <td>17</td>\n",
       "      <td></td>\n",
       "      <td>2020-07-24 11:58:17</td>\n",
       "      <td>3 min  3.024 sec</td>\n",
       "      <td>17.0</td>\n",
       "      <td>0.391988</td>\n",
       "      <td>0.312195</td>\n",
       "      <td>0.153655</td>\n",
       "      <td>0.382405</td>\n",
       "      <td>0.305024</td>\n",
       "      <td>0.146234</td>\n",
       "    </tr>\n",
       "    <tr>\n",
       "      <td>18</td>\n",
       "      <td></td>\n",
       "      <td>2020-07-24 11:58:17</td>\n",
       "      <td>3 min  3.035 sec</td>\n",
       "      <td>18.0</td>\n",
       "      <td>0.391602</td>\n",
       "      <td>0.311850</td>\n",
       "      <td>0.153352</td>\n",
       "      <td>0.382294</td>\n",
       "      <td>0.304909</td>\n",
       "      <td>0.146149</td>\n",
       "    </tr>\n",
       "    <tr>\n",
       "      <td>19</td>\n",
       "      <td></td>\n",
       "      <td>2020-07-24 11:58:17</td>\n",
       "      <td>3 min  3.045 sec</td>\n",
       "      <td>19.0</td>\n",
       "      <td>0.391229</td>\n",
       "      <td>0.311595</td>\n",
       "      <td>0.153060</td>\n",
       "      <td>0.382060</td>\n",
       "      <td>0.304705</td>\n",
       "      <td>0.145970</td>\n",
       "    </tr>\n",
       "  </tbody>\n",
       "</table>\n",
       "</div>"
      ],
      "text/plain": [
       "                timestamp           duration  number_of_trees  training_rmse  \\\n",
       "0     2020-07-24 11:58:17   3 min  2.791 sec              0.0       0.399374   \n",
       "1     2020-07-24 11:58:17   3 min  2.816 sec              1.0       0.398907   \n",
       "2     2020-07-24 11:58:17   3 min  2.828 sec              2.0       0.398391   \n",
       "3     2020-07-24 11:58:17   3 min  2.840 sec              3.0       0.397891   \n",
       "4     2020-07-24 11:58:17   3 min  2.851 sec              4.0       0.397435   \n",
       "5     2020-07-24 11:58:17   3 min  2.879 sec              5.0       0.396957   \n",
       "6     2020-07-24 11:58:17   3 min  2.893 sec              6.0       0.396550   \n",
       "7     2020-07-24 11:58:17   3 min  2.906 sec              7.0       0.396112   \n",
       "8     2020-07-24 11:58:17   3 min  2.919 sec              8.0       0.395687   \n",
       "9     2020-07-24 11:58:17   3 min  2.933 sec              9.0       0.395217   \n",
       "10    2020-07-24 11:58:17   3 min  2.944 sec             10.0       0.394741   \n",
       "11    2020-07-24 11:58:17   3 min  2.958 sec             11.0       0.394334   \n",
       "12    2020-07-24 11:58:17   3 min  2.971 sec             12.0       0.393900   \n",
       "13    2020-07-24 11:58:17   3 min  2.982 sec             13.0       0.393507   \n",
       "14    2020-07-24 11:58:17   3 min  2.993 sec             14.0       0.393068   \n",
       "15    2020-07-24 11:58:17   3 min  3.004 sec             15.0       0.392678   \n",
       "16    2020-07-24 11:58:17   3 min  3.014 sec             16.0       0.392333   \n",
       "17    2020-07-24 11:58:17   3 min  3.024 sec             17.0       0.391988   \n",
       "18    2020-07-24 11:58:17   3 min  3.035 sec             18.0       0.391602   \n",
       "19    2020-07-24 11:58:17   3 min  3.045 sec             19.0       0.391229   \n",
       "\n",
       "    training_mae  training_deviance  validation_rmse  validation_mae  \\\n",
       "0       0.318999           0.159499         0.386615        0.308971   \n",
       "1       0.318672           0.159127         0.386386        0.308818   \n",
       "2       0.318267           0.158715         0.386046        0.308537   \n",
       "3       0.317826           0.158317         0.385745        0.308294   \n",
       "4       0.317440           0.157955         0.385509        0.308103   \n",
       "5       0.317024           0.157575         0.385184        0.307800   \n",
       "6       0.316570           0.157252         0.384845        0.307437   \n",
       "7       0.316199           0.156904         0.384573        0.307211   \n",
       "8       0.315810           0.156568         0.384357        0.306991   \n",
       "9       0.315369           0.156197         0.384053        0.306727   \n",
       "10      0.314887           0.155820         0.383741        0.306441   \n",
       "11      0.314438           0.155500         0.383576        0.306201   \n",
       "12      0.314090           0.155157         0.383293        0.306003   \n",
       "13      0.313643           0.154848         0.383108        0.305747   \n",
       "14      0.313270           0.154503         0.382933        0.305532   \n",
       "15      0.312841           0.154196         0.382773        0.305329   \n",
       "16      0.312539           0.153925         0.382559        0.305166   \n",
       "17      0.312195           0.153655         0.382405        0.305024   \n",
       "18      0.311850           0.153352         0.382294        0.304909   \n",
       "19      0.311595           0.153060         0.382060        0.304705   \n",
       "\n",
       "    validation_deviance  \n",
       "0              0.149472  \n",
       "1              0.149294  \n",
       "2              0.149031  \n",
       "3              0.148799  \n",
       "4              0.148617  \n",
       "5              0.148367  \n",
       "6              0.148105  \n",
       "7              0.147897  \n",
       "8              0.147731  \n",
       "9              0.147497  \n",
       "10             0.147257  \n",
       "11             0.147130  \n",
       "12             0.146914  \n",
       "13             0.146772  \n",
       "14             0.146638  \n",
       "15             0.146515  \n",
       "16             0.146351  \n",
       "17             0.146234  \n",
       "18             0.146149  \n",
       "19             0.145970  "
      ]
     },
     "metadata": {},
     "output_type": "display_data"
    },
    {
     "name": "stdout",
     "output_type": "stream",
     "text": [
      "\n",
      "See the whole table with table.as_data_frame()\n",
      "\n",
      "Variable Importances: \n"
     ]
    },
    {
     "data": {
      "text/html": [
       "<div>\n",
       "<style scoped>\n",
       "    .dataframe tbody tr th:only-of-type {\n",
       "        vertical-align: middle;\n",
       "    }\n",
       "\n",
       "    .dataframe tbody tr th {\n",
       "        vertical-align: top;\n",
       "    }\n",
       "\n",
       "    .dataframe thead th {\n",
       "        text-align: right;\n",
       "    }\n",
       "</style>\n",
       "<table border=\"1\" class=\"dataframe\">\n",
       "  <thead>\n",
       "    <tr style=\"text-align: right;\">\n",
       "      <th></th>\n",
       "      <th>variable</th>\n",
       "      <th>relative_importance</th>\n",
       "      <th>scaled_importance</th>\n",
       "      <th>percentage</th>\n",
       "    </tr>\n",
       "  </thead>\n",
       "  <tbody>\n",
       "    <tr>\n",
       "      <td>0</td>\n",
       "      <td>TD009</td>\n",
       "      <td>260.517151</td>\n",
       "      <td>1.000000</td>\n",
       "      <td>0.078290</td>\n",
       "    </tr>\n",
       "    <tr>\n",
       "      <td>1</td>\n",
       "      <td>AP004</td>\n",
       "      <td>149.745956</td>\n",
       "      <td>0.574803</td>\n",
       "      <td>0.045002</td>\n",
       "    </tr>\n",
       "    <tr>\n",
       "      <td>2</td>\n",
       "      <td>CR015</td>\n",
       "      <td>140.474976</td>\n",
       "      <td>0.539216</td>\n",
       "      <td>0.042215</td>\n",
       "    </tr>\n",
       "    <tr>\n",
       "      <td>3</td>\n",
       "      <td>education1</td>\n",
       "      <td>134.942612</td>\n",
       "      <td>0.517980</td>\n",
       "      <td>0.040553</td>\n",
       "    </tr>\n",
       "    <tr>\n",
       "      <td>4</td>\n",
       "      <td>TD013</td>\n",
       "      <td>114.482773</td>\n",
       "      <td>0.439444</td>\n",
       "      <td>0.034404</td>\n",
       "    </tr>\n",
       "    <tr>\n",
       "      <td>5</td>\n",
       "      <td>TD005</td>\n",
       "      <td>110.465378</td>\n",
       "      <td>0.424023</td>\n",
       "      <td>0.033197</td>\n",
       "    </tr>\n",
       "    <tr>\n",
       "      <td>6</td>\n",
       "      <td>PA023</td>\n",
       "      <td>96.626503</td>\n",
       "      <td>0.370903</td>\n",
       "      <td>0.029038</td>\n",
       "    </tr>\n",
       "    <tr>\n",
       "      <td>7</td>\n",
       "      <td>PA031</td>\n",
       "      <td>93.270134</td>\n",
       "      <td>0.358019</td>\n",
       "      <td>0.028029</td>\n",
       "    </tr>\n",
       "    <tr>\n",
       "      <td>8</td>\n",
       "      <td>TD006</td>\n",
       "      <td>81.407166</td>\n",
       "      <td>0.312483</td>\n",
       "      <td>0.024464</td>\n",
       "    </tr>\n",
       "    <tr>\n",
       "      <td>9</td>\n",
       "      <td>CD166</td>\n",
       "      <td>68.119453</td>\n",
       "      <td>0.261478</td>\n",
       "      <td>0.020471</td>\n",
       "    </tr>\n",
       "    <tr>\n",
       "      <td>10</td>\n",
       "      <td>MB005</td>\n",
       "      <td>66.676529</td>\n",
       "      <td>0.255939</td>\n",
       "      <td>0.020038</td>\n",
       "    </tr>\n",
       "    <tr>\n",
       "      <td>11</td>\n",
       "      <td>CD152</td>\n",
       "      <td>61.026443</td>\n",
       "      <td>0.234251</td>\n",
       "      <td>0.018340</td>\n",
       "    </tr>\n",
       "    <tr>\n",
       "      <td>12</td>\n",
       "      <td>day</td>\n",
       "      <td>57.532913</td>\n",
       "      <td>0.220841</td>\n",
       "      <td>0.017290</td>\n",
       "    </tr>\n",
       "    <tr>\n",
       "      <td>13</td>\n",
       "      <td>TD023</td>\n",
       "      <td>56.229908</td>\n",
       "      <td>0.215840</td>\n",
       "      <td>0.016898</td>\n",
       "    </tr>\n",
       "    <tr>\n",
       "      <td>14</td>\n",
       "      <td>hour</td>\n",
       "      <td>54.194206</td>\n",
       "      <td>0.208025</td>\n",
       "      <td>0.016286</td>\n",
       "    </tr>\n",
       "    <tr>\n",
       "      <td>15</td>\n",
       "      <td>PA029</td>\n",
       "      <td>53.988659</td>\n",
       "      <td>0.207236</td>\n",
       "      <td>0.016225</td>\n",
       "    </tr>\n",
       "    <tr>\n",
       "      <td>16</td>\n",
       "      <td>CD120</td>\n",
       "      <td>53.281536</td>\n",
       "      <td>0.204522</td>\n",
       "      <td>0.016012</td>\n",
       "    </tr>\n",
       "    <tr>\n",
       "      <td>17</td>\n",
       "      <td>CD121</td>\n",
       "      <td>50.752113</td>\n",
       "      <td>0.194813</td>\n",
       "      <td>0.015252</td>\n",
       "    </tr>\n",
       "    <tr>\n",
       "      <td>18</td>\n",
       "      <td>CD123</td>\n",
       "      <td>49.963001</td>\n",
       "      <td>0.191784</td>\n",
       "      <td>0.015015</td>\n",
       "    </tr>\n",
       "    <tr>\n",
       "      <td>19</td>\n",
       "      <td>CD160</td>\n",
       "      <td>46.912624</td>\n",
       "      <td>0.180075</td>\n",
       "      <td>0.014098</td>\n",
       "    </tr>\n",
       "  </tbody>\n",
       "</table>\n",
       "</div>"
      ],
      "text/plain": [
       "      variable  relative_importance  scaled_importance  percentage\n",
       "0        TD009           260.517151           1.000000    0.078290\n",
       "1        AP004           149.745956           0.574803    0.045002\n",
       "2        CR015           140.474976           0.539216    0.042215\n",
       "3   education1           134.942612           0.517980    0.040553\n",
       "4        TD013           114.482773           0.439444    0.034404\n",
       "5        TD005           110.465378           0.424023    0.033197\n",
       "6        PA023            96.626503           0.370903    0.029038\n",
       "7        PA031            93.270134           0.358019    0.028029\n",
       "8        TD006            81.407166           0.312483    0.024464\n",
       "9        CD166            68.119453           0.261478    0.020471\n",
       "10       MB005            66.676529           0.255939    0.020038\n",
       "11       CD152            61.026443           0.234251    0.018340\n",
       "12         day            57.532913           0.220841    0.017290\n",
       "13       TD023            56.229908           0.215840    0.016898\n",
       "14        hour            54.194206           0.208025    0.016286\n",
       "15       PA029            53.988659           0.207236    0.016225\n",
       "16       CD120            53.281536           0.204522    0.016012\n",
       "17       CD121            50.752113           0.194813    0.015252\n",
       "18       CD123            49.963001           0.191784    0.015015\n",
       "19       CD160            46.912624           0.180075    0.014098"
      ]
     },
     "metadata": {},
     "output_type": "display_data"
    },
    {
     "name": "stdout",
     "output_type": "stream",
     "text": [
      "\n",
      "See the whole table with table.as_data_frame()\n",
      "\n"
     ]
    }
   ],
   "source": [
    "#Let's pick the best model, selected by AUC:\n",
    "\n",
    "best_gbm = grid_sorted.models[0]\n",
    "print(best_gbm)"
   ]
  },
  {
   "cell_type": "code",
   "execution_count": 75,
   "metadata": {},
   "outputs": [
    {
     "name": "stdout",
     "output_type": "stream",
     "text": [
      "gbm prediction progress: |████████████████████████████████████████████████| 100%\n",
      "\n",
      "   * ROC curve: The ROC curve plots the true positive rate vs. the false rositive sate\n",
      "\n",
      "\t  * The area under the curve (AUC): A value between 0.5 (random) and 1.0 (perfect), measuring the prediction accuracy\n",
      "\n",
      "   * Recall (R) = The number of true positives / (the number of true positives + the number of false negatives)\n",
      "\n"
     ]
    },
    {
     "data": {
      "image/png": "[encoded data removed]",
      "text/plain": [
       "<Figure size 1000x400 with 2 Axes>"
      ]
     },
     "metadata": {},
     "output_type": "display_data"
    }
   ],
   "source": [
    "#check the performance using sample data\n",
    "ROC_AUC(best_gbm,train_sam_hex,'loan_default')"
   ]
  },
  {
   "cell_type": "code",
   "execution_count": 76,
   "metadata": {},
   "outputs": [
    {
     "name": "stdout",
     "output_type": "stream",
     "text": [
      "gbm prediction progress: |████████████████████████████████████████████████| 100%\n",
      "\n",
      "   * ROC curve: The ROC curve plots the true positive rate vs. the false rositive sate\n",
      "\n",
      "\t  * The area under the curve (AUC): A value between 0.5 (random) and 1.0 (perfect), measuring the prediction accuracy\n",
      "\n",
      "   * Recall (R) = The number of true positives / (the number of true positives + the number of false negatives)\n",
      "\n"
     ]
    },
    {
     "data": {
      "image/png": "[encoded data removed]",
      "text/plain": [
       "<Figure size 1000x400 with 2 Axes>"
      ]
     },
     "metadata": {},
     "output_type": "display_data"
    }
   ],
   "source": [
    "ROC_AUC(best_gbm,valid_sam_hex,'loan_default')"
   ]
  },
  {
   "cell_type": "markdown",
   "metadata": {},
   "source": [
    "The best model has an AUC score of 0.82 for the train set and of 0.68 for validation set. It is obvious that the best_gbm performed better than previous models.\n",
    "\n",
    "Let's show the variable importance."
   ]
  },
  {
   "cell_type": "code",
   "execution_count": 68,
   "metadata": {},
   "outputs": [
    {
     "data": {
      "image/png": "[encoded data removed]",
      "text/plain": [
       "<Figure size 1400x1000 with 1 Axes>"
      ]
     },
     "metadata": {},
     "output_type": "display_data"
    }
   ],
   "source": [
    "best_gbm.varimp_plot()"
   ]
  },
  {
   "cell_type": "markdown",
   "metadata": {},
   "source": [
    "###### Now the code works fine with the small dataset, we can model with the entire dataset"
   ]
  },
  {
   "cell_type": "code",
   "execution_count": 87,
   "metadata": {},
   "outputs": [
    {
     "name": "stdout",
     "output_type": "stream",
     "text": [
      "gbm Model Build progress: |███████████████████████████████████████████████| 100%\n"
     ]
    }
   ],
   "source": [
    "best_gbm.train(predictors,target,training_frame=train_hex)"
   ]
  },
  {
   "cell_type": "code",
   "execution_count": 88,
   "metadata": {},
   "outputs": [
    {
     "name": "stdout",
     "output_type": "stream",
     "text": [
      "gbm prediction progress: |████████████████████████████████████████████████| 100%\n",
      "\n",
      "   * ROC curve: The ROC curve plots the true positive rate vs. the false rositive sate\n",
      "\n",
      "\t  * The area under the curve (AUC): A value between 0.5 (random) and 1.0 (perfect), measuring the prediction accuracy\n",
      "\n",
      "   * Recall (R) = The number of true positives / (the number of true positives + the number of false negatives)\n",
      "\n"
     ]
    },
    {
     "data": {
      "image/png": "[encoded data removed]",
      "text/plain": [
       "<Figure size 1000x400 with 2 Axes>"
      ]
     },
     "metadata": {},
     "output_type": "display_data"
    }
   ],
   "source": [
    "ROC_AUC(best_gbm_whole,train_hex,'loan_default')"
   ]
  },
  {
   "cell_type": "code",
   "execution_count": 83,
   "metadata": {},
   "outputs": [
    {
     "name": "stdout",
     "output_type": "stream",
     "text": [
      "gbm prediction progress: |████████████████████████████████████████████████| 100%\n"
     ]
    },
    {
     "data": {
      "text/html": [
       "<div>\n",
       "<style scoped>\n",
       "    .dataframe tbody tr th:only-of-type {\n",
       "        vertical-align: middle;\n",
       "    }\n",
       "\n",
       "    .dataframe tbody tr th {\n",
       "        vertical-align: top;\n",
       "    }\n",
       "\n",
       "    .dataframe thead th {\n",
       "        text-align: right;\n",
       "    }\n",
       "</style>\n",
       "<table border=\"1\" class=\"dataframe\">\n",
       "  <thead>\n",
       "    <tr style=\"text-align: right;\">\n",
       "      <th></th>\n",
       "      <th>count</th>\n",
       "      <th>actual</th>\n",
       "      <th>non_actual</th>\n",
       "      <th>cum_count</th>\n",
       "      <th>cum_actual</th>\n",
       "      <th>cum_non_actual</th>\n",
       "      <th>percent_cum_actual</th>\n",
       "      <th>percent_cum_non_actual</th>\n",
       "      <th>if_random</th>\n",
       "      <th>lift</th>\n",
       "      <th>K_S</th>\n",
       "      <th>gain</th>\n",
       "    </tr>\n",
       "    <tr>\n",
       "      <th>decile</th>\n",
       "      <th></th>\n",
       "      <th></th>\n",
       "      <th></th>\n",
       "      <th></th>\n",
       "      <th></th>\n",
       "      <th></th>\n",
       "      <th></th>\n",
       "      <th></th>\n",
       "      <th></th>\n",
       "      <th></th>\n",
       "      <th></th>\n",
       "      <th></th>\n",
       "    </tr>\n",
       "  </thead>\n",
       "  <tbody>\n",
       "    <tr>\n",
       "      <td>0</td>\n",
       "      <td>1600</td>\n",
       "      <td>624</td>\n",
       "      <td>976</td>\n",
       "      <td>1600</td>\n",
       "      <td>624</td>\n",
       "      <td>976</td>\n",
       "      <td>0.20</td>\n",
       "      <td>0.08</td>\n",
       "      <td>310.1</td>\n",
       "      <td>2.01</td>\n",
       "      <td>12.0</td>\n",
       "      <td>39.00</td>\n",
       "    </tr>\n",
       "    <tr>\n",
       "      <td>1</td>\n",
       "      <td>1600</td>\n",
       "      <td>498</td>\n",
       "      <td>1102</td>\n",
       "      <td>3200</td>\n",
       "      <td>1122</td>\n",
       "      <td>2078</td>\n",
       "      <td>0.36</td>\n",
       "      <td>0.16</td>\n",
       "      <td>620.2</td>\n",
       "      <td>1.81</td>\n",
       "      <td>20.0</td>\n",
       "      <td>35.06</td>\n",
       "    </tr>\n",
       "    <tr>\n",
       "      <td>2</td>\n",
       "      <td>1600</td>\n",
       "      <td>419</td>\n",
       "      <td>1181</td>\n",
       "      <td>4800</td>\n",
       "      <td>1541</td>\n",
       "      <td>3259</td>\n",
       "      <td>0.50</td>\n",
       "      <td>0.25</td>\n",
       "      <td>930.3</td>\n",
       "      <td>1.66</td>\n",
       "      <td>25.0</td>\n",
       "      <td>32.10</td>\n",
       "    </tr>\n",
       "    <tr>\n",
       "      <td>3</td>\n",
       "      <td>1600</td>\n",
       "      <td>362</td>\n",
       "      <td>1238</td>\n",
       "      <td>6400</td>\n",
       "      <td>1903</td>\n",
       "      <td>4497</td>\n",
       "      <td>0.61</td>\n",
       "      <td>0.35</td>\n",
       "      <td>1240.4</td>\n",
       "      <td>1.53</td>\n",
       "      <td>26.0</td>\n",
       "      <td>29.73</td>\n",
       "    </tr>\n",
       "    <tr>\n",
       "      <td>4</td>\n",
       "      <td>1600</td>\n",
       "      <td>306</td>\n",
       "      <td>1294</td>\n",
       "      <td>8000</td>\n",
       "      <td>2209</td>\n",
       "      <td>5791</td>\n",
       "      <td>0.71</td>\n",
       "      <td>0.45</td>\n",
       "      <td>1550.5</td>\n",
       "      <td>1.42</td>\n",
       "      <td>26.0</td>\n",
       "      <td>27.61</td>\n",
       "    </tr>\n",
       "    <tr>\n",
       "      <td>5</td>\n",
       "      <td>1600</td>\n",
       "      <td>250</td>\n",
       "      <td>1350</td>\n",
       "      <td>9600</td>\n",
       "      <td>2459</td>\n",
       "      <td>7141</td>\n",
       "      <td>0.79</td>\n",
       "      <td>0.55</td>\n",
       "      <td>1860.6</td>\n",
       "      <td>1.32</td>\n",
       "      <td>24.0</td>\n",
       "      <td>25.61</td>\n",
       "    </tr>\n",
       "    <tr>\n",
       "      <td>6</td>\n",
       "      <td>1600</td>\n",
       "      <td>240</td>\n",
       "      <td>1360</td>\n",
       "      <td>11200</td>\n",
       "      <td>2699</td>\n",
       "      <td>8501</td>\n",
       "      <td>0.87</td>\n",
       "      <td>0.66</td>\n",
       "      <td>2170.7</td>\n",
       "      <td>1.24</td>\n",
       "      <td>21.0</td>\n",
       "      <td>24.10</td>\n",
       "    </tr>\n",
       "    <tr>\n",
       "      <td>7</td>\n",
       "      <td>1600</td>\n",
       "      <td>167</td>\n",
       "      <td>1433</td>\n",
       "      <td>12800</td>\n",
       "      <td>2866</td>\n",
       "      <td>9934</td>\n",
       "      <td>0.92</td>\n",
       "      <td>0.77</td>\n",
       "      <td>2480.8</td>\n",
       "      <td>1.16</td>\n",
       "      <td>15.0</td>\n",
       "      <td>22.39</td>\n",
       "    </tr>\n",
       "    <tr>\n",
       "      <td>8</td>\n",
       "      <td>1600</td>\n",
       "      <td>143</td>\n",
       "      <td>1457</td>\n",
       "      <td>14400</td>\n",
       "      <td>3009</td>\n",
       "      <td>11391</td>\n",
       "      <td>0.97</td>\n",
       "      <td>0.88</td>\n",
       "      <td>2790.9</td>\n",
       "      <td>1.08</td>\n",
       "      <td>9.0</td>\n",
       "      <td>20.90</td>\n",
       "    </tr>\n",
       "    <tr>\n",
       "      <td>9</td>\n",
       "      <td>1600</td>\n",
       "      <td>92</td>\n",
       "      <td>1508</td>\n",
       "      <td>16000</td>\n",
       "      <td>3101</td>\n",
       "      <td>12899</td>\n",
       "      <td>1.00</td>\n",
       "      <td>1.00</td>\n",
       "      <td>3101.0</td>\n",
       "      <td>1.00</td>\n",
       "      <td>0.0</td>\n",
       "      <td>19.38</td>\n",
       "    </tr>\n",
       "  </tbody>\n",
       "</table>\n",
       "</div>"
      ],
      "text/plain": [
       "        count  actual  non_actual  cum_count  cum_actual  cum_non_actual  \\\n",
       "decile                                                                     \n",
       "0        1600     624         976       1600         624             976   \n",
       "1        1600     498        1102       3200        1122            2078   \n",
       "2        1600     419        1181       4800        1541            3259   \n",
       "3        1600     362        1238       6400        1903            4497   \n",
       "4        1600     306        1294       8000        2209            5791   \n",
       "5        1600     250        1350       9600        2459            7141   \n",
       "6        1600     240        1360      11200        2699            8501   \n",
       "7        1600     167        1433      12800        2866            9934   \n",
       "8        1600     143        1457      14400        3009           11391   \n",
       "9        1600      92        1508      16000        3101           12899   \n",
       "\n",
       "        percent_cum_actual  percent_cum_non_actual  if_random  lift   K_S  \\\n",
       "decile                                                                      \n",
       "0                     0.20                    0.08      310.1  2.01  12.0   \n",
       "1                     0.36                    0.16      620.2  1.81  20.0   \n",
       "2                     0.50                    0.25      930.3  1.66  25.0   \n",
       "3                     0.61                    0.35     1240.4  1.53  26.0   \n",
       "4                     0.71                    0.45     1550.5  1.42  26.0   \n",
       "5                     0.79                    0.55     1860.6  1.32  24.0   \n",
       "6                     0.87                    0.66     2170.7  1.24  21.0   \n",
       "7                     0.92                    0.77     2480.8  1.16  15.0   \n",
       "8                     0.97                    0.88     2790.9  1.08   9.0   \n",
       "9                     1.00                    1.00     3101.0  1.00   0.0   \n",
       "\n",
       "         gain  \n",
       "decile         \n",
       "0       39.00  \n",
       "1       35.06  \n",
       "2       32.10  \n",
       "3       29.73  \n",
       "4       27.61  \n",
       "5       25.61  \n",
       "6       24.10  \n",
       "7       22.39  \n",
       "8       20.90  \n",
       "9       19.38  "
      ]
     },
     "execution_count": 83,
     "metadata": {},
     "output_type": "execute_result"
    }
   ],
   "source": [
    "createGains(best_gbm)"
   ]
  },
  {
   "cell_type": "markdown",
   "metadata": {},
   "source": [
    "###### predict test data"
   ]
  },
  {
   "cell_type": "code",
   "execution_count": 81,
   "metadata": {},
   "outputs": [
    {
     "name": "stdout",
     "output_type": "stream",
     "text": [
      "gbm prediction progress: |████████████████████████████████████████████████| 100%\n"
     ]
    },
    {
     "data": {
      "text/html": [
       "<div>\n",
       "<style scoped>\n",
       "    .dataframe tbody tr th:only-of-type {\n",
       "        vertical-align: middle;\n",
       "    }\n",
       "\n",
       "    .dataframe tbody tr th {\n",
       "        vertical-align: top;\n",
       "    }\n",
       "\n",
       "    .dataframe thead th {\n",
       "        text-align: right;\n",
       "    }\n",
       "</style>\n",
       "<table border=\"1\" class=\"dataframe\">\n",
       "  <thead>\n",
       "    <tr style=\"text-align: right;\">\n",
       "      <th></th>\n",
       "      <th>actual</th>\n",
       "      <th>pred</th>\n",
       "    </tr>\n",
       "  </thead>\n",
       "  <tbody>\n",
       "    <tr>\n",
       "      <td>0</td>\n",
       "      <td>0</td>\n",
       "      <td>0.186559</td>\n",
       "    </tr>\n",
       "    <tr>\n",
       "      <td>1</td>\n",
       "      <td>0</td>\n",
       "      <td>0.221668</td>\n",
       "    </tr>\n",
       "    <tr>\n",
       "      <td>2</td>\n",
       "      <td>0</td>\n",
       "      <td>0.147254</td>\n",
       "    </tr>\n",
       "    <tr>\n",
       "      <td>3</td>\n",
       "      <td>0</td>\n",
       "      <td>0.161606</td>\n",
       "    </tr>\n",
       "    <tr>\n",
       "      <td>4</td>\n",
       "      <td>0</td>\n",
       "      <td>0.092206</td>\n",
       "    </tr>\n",
       "  </tbody>\n",
       "</table>\n",
       "</div>"
      ],
      "text/plain": [
       "   actual      pred\n",
       "0       0  0.186559\n",
       "1       0  0.221668\n",
       "2       0  0.147254\n",
       "3       0  0.161606\n",
       "4       0  0.092206"
      ]
     },
     "execution_count": 81,
     "metadata": {},
     "output_type": "execute_result"
    }
   ],
   "source": [
    "##PREDICT test data using best_gbm\n",
    "def actual_predict(model,test_hex,target):\n",
    "    y_pred = model.predict(test_hex).as_data_frame()\n",
    "    y_actual = test_hex[target].as_data_frame()\n",
    "    df_actual_predict = pd.concat([y_actual,y_pred],axis=1)\n",
    "    df_actual_predict.columns = ['actual','pred']\n",
    "    return(df_actual_predict)\n",
    "GBM_actual_predict = actual_predict(best_gbm,test_hex,target)\n",
    "GBM_actual_predict.head()"
   ]
  },
  {
   "cell_type": "code",
   "execution_count": 93,
   "metadata": {},
   "outputs": [
    {
     "data": {
      "text/plain": [
       "0.681681950451801"
      ]
     },
     "execution_count": 93,
     "metadata": {},
     "output_type": "execute_result"
    }
   ],
   "source": [
    "# ROC \n",
    "from sklearn.metrics import roc_auc_score\n",
    "rf_roc_auc_value = roc_auc_score(GBM_actual_predict['actual'],GBM_actual_predict['pred'])\n",
    "rf_roc_auc_value"
   ]
  },
  {
   "cell_type": "markdown",
   "metadata": {},
   "source": [
    "The AUC score for test data through applying best_gbm is 0.681. "
   ]
  },
  {
   "cell_type": "code",
   "execution_count": 103,
   "metadata": {},
   "outputs": [
    {
     "name": "stdout",
     "output_type": "stream",
     "text": [
      "H2O session _sid_a4ff closed.\n"
     ]
    }
   ],
   "source": [
    "h2o.shutdown()"
   ]
  },
  {
   "cell_type": "code",
   "execution_count": null,
   "metadata": {},
   "outputs": [],
   "source": []
  }
 ],
 "metadata": {
  "kernelspec": {
   "display_name": "Python 3",
   "language": "python",
   "name": "python3"
  },
  "language_info": {
   "codemirror_mode": {
    "name": "ipython",
    "version": 3
   },
   "file_extension": ".py",
   "mimetype": "text/x-python",
   "name": "python",
   "nbconvert_exporter": "python",
   "pygments_lexer": "ipython3",
   "version": "3.8.2"
  }
 },
 "nbformat": 4,
 "nbformat_minor": 2
}
